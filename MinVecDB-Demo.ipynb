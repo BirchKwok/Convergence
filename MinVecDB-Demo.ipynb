{
 "cells": [
  {
   "cell_type": "markdown",
   "id": "8f50e36a-f60b-4dbf-8fb0-cd16574fac05",
   "metadata": {},
   "source": [
    "# Basic Usage"
   ]
  },
  {
   "cell_type": "code",
   "execution_count": 5,
   "id": "1c44be2e-068d-41c3-a0d1-6468a58e4b81",
   "metadata": {
    "execution": {
     "iopub.execute_input": "2023-12-15T10:16:32.049031Z",
     "iopub.status.busy": "2023-12-15T10:16:32.048830Z",
     "iopub.status.idle": "2023-12-15T10:16:33.575586Z",
     "shell.execute_reply": "2023-12-15T10:16:33.572159Z",
     "shell.execute_reply.started": "2023-12-15T10:16:32.049010Z"
    },
    "ExecuteTime": {
     "end_time": "2023-12-15T10:49:34.225549Z",
     "start_time": "2023-12-15T10:49:32.710650Z"
    }
   },
   "outputs": [
    {
     "data": {
      "text/markdown": "*Demo 1* -- **Sequentially add vectors**"
     },
     "metadata": {},
     "output_type": "display_data"
    },
    {
     "name": "stdout",
     "output_type": "stream",
     "text": [
      "\n",
      "* [Insert data] Time cost 0.2972 s.\n",
      "  - Query vector:  [0.02898663 0.05306277 0.04289231 ... 0.0143056  0.01658325 0.04808333]\n",
      "  - Database index of top 10 results:  [  0 842 202 396 123 550 688 431 924 555]\n",
      "  - Cosine similarity of top 10 results:  [1.         0.77242908 0.77178528 0.77129891 0.76868025 0.76643363\n",
      " 0.76631299 0.76518539 0.76441551 0.76278279]\n",
      "\n",
      "* [Query data] Time cost 0.0060 s.\n"
     ]
    },
    {
     "data": {
      "text/markdown": "------"
     },
     "metadata": {},
     "output_type": "display_data"
    },
    {
     "data": {
      "text/markdown": "*Demo 2* -- **Bulk add vectors**"
     },
     "metadata": {},
     "output_type": "display_data"
    },
    {
     "name": "stdout",
     "output_type": "stream",
     "text": [
      "\n",
      "* [Insert data] Time cost 0.4060 s.\n",
      "  - Query vector:  [0.02898663 0.05306277 0.04289231 ... 0.0143056  0.01658325 0.04808333]\n",
      "  - Database index of top 10 results:  [  0 842 202 396 123 550 688 431 924 555]\n",
      "  - Cosine similarity of top 10 results:  [1.         0.77242908 0.77178528 0.77129891 0.76868025 0.76643363\n",
      " 0.76631299 0.76518539 0.76441551 0.76278279]\n",
      "\n",
      "* [Query data] Time cost 0.0074 s.\n"
     ]
    }
   ],
   "source": [
    "from pathlib import Path\n",
    "from IPython.display import display_markdown\n",
    "\n",
    "\n",
    "import numpy as np\n",
    "\n",
    "from spinesUtils.utils import Timer\n",
    "from min_vec import MinVectorDB\n",
    "\n",
    "timer = Timer()\n",
    "\n",
    "\n",
    "\n",
    "# ===================================================================\n",
    "# ========================= DEMO 1 ==================================\n",
    "# ===================================================================\n",
    "# Demo 1 -- Sequentially add vectors.\n",
    "# Create a MinVectorDB instance.\n",
    "display_markdown(\"*Demo 1* -- **Sequentially add vectors**\", raw=True)\n",
    "\n",
    "timer.start()\n",
    "db = MinVectorDB(dim=1024, database_path='test.npy', chunk_size=100)\n",
    "\n",
    "np.random.seed(23)\n",
    "\n",
    "# Define the initial ID.\n",
    "id = 0\n",
    "for t in np.random.random((1000, 1024)):\n",
    "    # Vectors need to be normalized before writing to the database.\n",
    "    t = t / np.linalg.norm(t) \n",
    "    db.add_item(t, id=id)\n",
    "    \n",
    "    # ID increments by 1 with each loop iteration.\n",
    "    id += 1\n",
    "db.save()\n",
    "print(f\"\\n* [Insert data] Time cost {timer.last_timestamp_diff():>.4f} s.\")\n",
    "timer.middle_point()\n",
    "\n",
    "res = db.query(db.head(10)[0], k=10)\n",
    "print(\"  - Query vector: \", db.head(10)[0])\n",
    "print(\"  - Database index of top 10 results: \", res[0])\n",
    "print(\"  - Cosine similarity of top 10 results: \", res[1])\n",
    "print(f\"\\n* [Query data] Time cost {timer.last_timestamp_diff():>.4f} s.\")\n",
    "timer.middle_point()\n",
    "\n",
    "\n",
    "\n",
    "# For demonstrating Demo2, the database created in Demo1 needs to be deleted, but this operation is not required in actual use.\n",
    "db.delete()\n",
    "\n",
    "del db\n",
    "\n",
    "display_markdown(\"------\", raw=True)\n",
    "\n",
    "# ===================================================================\n",
    "# ========================= DEMO 2 ==================================\n",
    "# ===================================================================\n",
    "# Demo 2 -- Bulk add vectors.\n",
    "display_markdown(\"*Demo 2* -- **Bulk add vectors**\", raw=True)\n",
    "# print(\"# This is the demonstration area for Demo 2 -- Bulk add vectors.\")\n",
    "\n",
    "timer.middle_point()\n",
    "\n",
    "db = MinVectorDB(dim=1024, database_path='test.npy', chunk_size=100)\n",
    "\n",
    "np.random.seed(23)\n",
    "\n",
    "# Define the initial ID.\n",
    "id = 0\n",
    "vectors = []\n",
    "for t in np.random.random((1000, 1024)):\n",
    "    # Vectors need to be normalized before writing to the database.\n",
    "    t = t / np.linalg.norm(t) \n",
    "    vectors.append((t, id))\n",
    "    # ID increments by 1 with each loop iteration.\n",
    "    id += 1\n",
    "    \n",
    "db.bulk_add_items(vectors)\n",
    "db.save()\n",
    "\n",
    "print(f\"\\n* [Insert data] Time cost {timer.last_timestamp_diff():>.4f} s.\")\n",
    "timer.middle_point()\n",
    "\n",
    "res = db.query(db.head(10)[0], k=10)\n",
    "print(\"  - Query vector: \", db.head(10)[0])\n",
    "print(\"  - Database index of top 10 results: \", res[0])\n",
    "print(\"  - Cosine similarity of top 10 results: \", res[1])\n",
    "print(f\"\\n* [Query data] Time cost {timer.last_timestamp_diff():>.4f} s.\")\n",
    "\n",
    "\n",
    "timer.end()\n",
    "# This operation is not required in actual use.\n",
    "db.delete()"
   ]
  },
  {
   "cell_type": "markdown",
   "id": "5dd05a5e-ea6b-4a17-9088-1f6ed7371723",
   "metadata": {},
   "source": [
    "# Use field to improve Searching Recall"
   ]
  },
  {
   "cell_type": "code",
   "execution_count": 6,
   "id": "28f44022-c3ee-4aa1-94a3-7540fb37108b",
   "metadata": {
    "execution": {
     "iopub.execute_input": "2023-12-15T10:16:33.584880Z",
     "iopub.status.busy": "2023-12-15T10:16:33.584449Z",
     "iopub.status.idle": "2023-12-15T10:16:33.959262Z",
     "shell.execute_reply": "2023-12-15T10:16:33.956177Z",
     "shell.execute_reply.started": "2023-12-15T10:16:33.584859Z"
    },
    "ExecuteTime": {
     "end_time": "2023-12-15T10:49:54.676860Z",
     "start_time": "2023-12-15T10:49:54.316919Z"
    }
   },
   "outputs": [
    {
     "data": {
      "text/markdown": "*Demo 3* -- **Use field to improve Searching Recall**"
     },
     "metadata": {},
     "output_type": "display_data"
    },
    {
     "name": "stdout",
     "output_type": "stream",
     "text": [
      "\n",
      "* [Insert data] Time cost 0.3085 s.\n",
      "  - Query vector:  [0.02898663 0.05306277 0.04289231 ... 0.0143056  0.01658325 0.04808333]\n",
      "  - Database index of top 10 results:  [  0 396   9 359  98 317  20  66 347 337]\n",
      "  - Cosine similarity of top 10 results:  [1.         0.77129891 0.76116779 0.76114638 0.75919221 0.75870521\n",
      " 0.75749894 0.75745721 0.75731508 0.75730585]\n",
      "\n",
      "* [Query data] Time cost 0.0384 s.\n"
     ]
    }
   ],
   "source": [
    "from spinesUtils.utils import Timer\n",
    "from min_vec import MinVectorDB\n",
    "\n",
    "timer = Timer()\n",
    "\n",
    "# ===================================================================\n",
    "# ========================= DEMO 3 ==================================\n",
    "# ===================================================================\n",
    "# Demo 3 -- Use field to improve Searching Recall\n",
    "display_markdown(\"*Demo 3* -- **Use field to improve Searching Recall**\", raw=True)\n",
    "\n",
    "timer.start()\n",
    "\n",
    "db = MinVectorDB(dim=1024, database_path='test.npy', chunk_size=100)\n",
    "\n",
    "np.random.seed(23)\n",
    "\n",
    "# Define the initial ID.\n",
    "id = 0\n",
    "vectors = []\n",
    "for t in np.random.random((1000, 1024)):\n",
    "    # Vectors need to be normalized before writing to the database.\n",
    "    t = t / np.linalg.norm(t) \n",
    "    vectors.append((t, id, 'test_'+str(id // 100)))\n",
    "    # ID increments by 1 with each loop iteration.\n",
    "    id += 1\n",
    "    \n",
    "db.bulk_add_items(vectors)\n",
    "db.save()\n",
    "\n",
    "print(f\"\\n* [Insert data] Time cost {timer.last_timestamp_diff():>.4f} s.\")\n",
    "timer.middle_point()\n",
    "\n",
    "res = db.query(db.head(10)[0], k=10, field=['test_0', 'test_3'])\n",
    "print(\"  - Query vector: \", db.head(10)[0])\n",
    "print(\"  - Database index of top 10 results: \", res[0])\n",
    "print(\"  - Cosine similarity of top 10 results: \", res[1])\n",
    "print(f\"\\n* [Query data] Time cost {timer.last_timestamp_diff():>.4f} s.\")\n",
    "\n",
    "timer.end()\n",
    "db.delete()\n"
   ]
  }
 ],
 "metadata": {
  "kernelspec": {
   "display_name": "Python 3 (ipykernel)",
   "language": "python",
   "name": "python3"
  },
  "language_info": {
   "codemirror_mode": {
    "name": "ipython",
    "version": 3
   },
   "file_extension": ".py",
   "mimetype": "text/x-python",
   "name": "python",
   "nbconvert_exporter": "python",
   "pygments_lexer": "ipython3",
   "version": "3.11.5"
  },
  "toc": {
   "base_numbering": 1,
   "nav_menu": {},
   "number_sections": true,
   "sideBar": true,
   "skip_h1_title": false,
   "title_cell": "Table of Contents",
   "title_sidebar": "Contents",
   "toc_cell": false,
   "toc_position": {},
   "toc_section_display": true,
   "toc_window_display": false
  }
 },
 "nbformat": 4,
 "nbformat_minor": 5
}
