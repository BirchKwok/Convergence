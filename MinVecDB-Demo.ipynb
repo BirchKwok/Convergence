{
 "cells": [
  {
   "cell_type": "markdown",
   "id": "fe63ca73-168d-4458-a0cd-b9f9d823dbf2",
   "metadata": {},
   "source": [
    "# Sequentially add vectors."
   ]
  },
  {
   "cell_type": "code",
   "execution_count": 1,
   "id": "1c44be2e-068d-41c3-a0d1-6468a58e4b81",
   "metadata": {
    "ExecuteTime": {
     "end_time": "2023-12-18T10:10:57.286422Z",
     "start_time": "2023-12-18T10:10:55.526301Z"
    },
    "execution": {
     "iopub.execute_input": "2024-01-02T09:28:30.308448Z",
     "iopub.status.busy": "2024-01-02T09:28:30.308269Z",
     "iopub.status.idle": "2024-01-02T09:28:31.469249Z",
     "shell.execute_reply": "2024-01-02T09:28:31.468500Z",
     "shell.execute_reply.started": "2024-01-02T09:28:30.308430Z"
    }
   },
   "outputs": [
    {
     "data": {
      "text/markdown": [
       "*Demo 1* -- **Sequentially add vectors**"
      ]
     },
     "metadata": {},
     "output_type": "display_data"
    },
    {
     "name": "stdout",
     "output_type": "stream",
     "text": [
      "\n",
      "* [Insert data] Time cost 0.2729 s.\n",
      "  - Query vector:  [0.02898663 0.05306277 0.04289231 ... 0.0143056  0.01658325 0.04808333]\n",
      "  - Database index of top 10 results:  [  0 842 202 396 123 550 688 431 924 555]\n",
      "  - Cosine similarity of top 10 results:  [1.         0.77242908 0.77178528 0.77129891 0.76868025 0.76643363\n",
      " 0.76631299 0.76518539 0.76441551 0.76278279]\n",
      "\n",
      "* [Query data] Time cost 0.0034 s.\n"
     ]
    }
   ],
   "source": [
    "from IPython.display import display_markdown\n",
    "\n",
    "\n",
    "import numpy as np\n",
    "\n",
    "from spinesUtils.utils import Timer\n",
    "from min_vec import MinVectorDB\n",
    "\n",
    "timer = Timer()\n",
    "\n",
    "\n",
    "\n",
    "# ===================================================================\n",
    "# ========================= DEMO 1 ==================================\n",
    "# ===================================================================\n",
    "# Demo 1 -- Sequentially add vectors.\n",
    "# Create a MinVectorDB instance.\n",
    "display_markdown(\"*Demo 1* -- **Sequentially add vectors**\", raw=True)\n",
    "\n",
    "timer.start()\n",
    "db = MinVectorDB(dim=1024, database_path='test_min_vec.mvdb', chunk_size=100)\n",
    "\n",
    "np.random.seed(23)\n",
    "\n",
    "# Define the initial ID.\n",
    "id = 0\n",
    "for t in np.random.random((1000, 1024)):\n",
    "    # Vectors need to be normalized before writing to the database.\n",
    "    t = t / np.linalg.norm(t) \n",
    "    db.add_item(t, id=id)\n",
    "    \n",
    "    # ID increments by 1 with each loop iteration.\n",
    "    id += 1\n",
    "db.commit()\n",
    "print(f\"\\n* [Insert data] Time cost {timer.last_timestamp_diff():>.4f} s.\")\n",
    "timer.middle_point()\n",
    "\n",
    "res = db.query(db.head(10)[0], k=10)\n",
    "print(\"  - Query vector: \", db.head(10)[0])\n",
    "print(\"  - Database index of top 10 results: \", res[0])\n",
    "print(\"  - Cosine similarity of top 10 results: \", res[1])\n",
    "print(f\"\\n* [Query data] Time cost {timer.last_timestamp_diff():>.4f} s.\")\n",
    "timer.end()\n",
    "\n",
    "\n",
    "\n",
    "# For demonstrating Demo2, the database created in Demo1 needs to be deleted, but this operation is not required in actual use.\n",
    "db.delete()"
   ]
  },
  {
   "cell_type": "markdown",
   "id": "b7398ef4-0a7e-42ed-9d53-ee7367314861",
   "metadata": {},
   "source": [
    "# Bulk add vectors"
   ]
  },
  {
   "cell_type": "code",
   "execution_count": 2,
   "id": "6d0f47ce-310a-4c33-98c9-135d519f96eb",
   "metadata": {
    "execution": {
     "iopub.execute_input": "2024-01-02T09:28:31.488484Z",
     "iopub.status.busy": "2024-01-02T09:28:31.487859Z",
     "iopub.status.idle": "2024-01-02T09:28:31.586435Z",
     "shell.execute_reply": "2024-01-02T09:28:31.585732Z",
     "shell.execute_reply.started": "2024-01-02T09:28:31.488457Z"
    }
   },
   "outputs": [
    {
     "data": {
      "text/markdown": [
       "*Demo 2* -- **Bulk add vectors**"
      ]
     },
     "metadata": {},
     "output_type": "display_data"
    },
    {
     "name": "stdout",
     "output_type": "stream",
     "text": [
      "\n",
      "* [Insert data] Time cost 0.0439 s.\n",
      "  - Query vector:  [0.02898663 0.05306277 0.04289231 ... 0.0143056  0.01658325 0.04808333]\n",
      "  - Database index of top 10 results:  [  0 842 202 396 123 550 688 431 924 555]\n",
      "  - Cosine similarity of top 10 results:  [1.         0.7724291  0.7717853  0.7712989  0.7686802  0.7664336\n",
      " 0.766313   0.7651854  0.7644155  0.76278275]\n",
      "\n",
      "* [Query data] Time cost 0.0036 s.\n"
     ]
    }
   ],
   "source": [
    "from IPython.display import display_markdown\n",
    "\n",
    "\n",
    "import numpy as np\n",
    "\n",
    "from spinesUtils.utils import Timer\n",
    "from min_vec import MinVectorDB\n",
    "\n",
    "timer = Timer()\n",
    "\n",
    "# ===================================================================\n",
    "# ========================= DEMO 2 ==================================\n",
    "# ===================================================================\n",
    "# Demo 2 -- Bulk add vectors.\n",
    "display_markdown(\"*Demo 2* -- **Bulk add vectors**\", raw=True)\n",
    "# print(\"# This is the demonstration area for Demo 2 -- Bulk add vectors.\")\n",
    "\n",
    "timer.start()\n",
    "\n",
    "db = MinVectorDB(dim=1024, database_path='test_min_vec.mvdb', chunk_size=100)\n",
    "\n",
    "np.random.seed(23)\n",
    "\n",
    "# Define the initial ID.\n",
    "id = 0\n",
    "vectors = []\n",
    "for t in np.random.random((1000, 1024)):\n",
    "    # Vectors need to be normalized before writing to the database.\n",
    "    t = t / np.linalg.norm(t) \n",
    "    vectors.append((t, id))\n",
    "    # ID increments by 1 with each loop iteration.\n",
    "    id += 1\n",
    "    \n",
    "db.bulk_add_items(vectors)\n",
    "db.commit()\n",
    "\n",
    "print(f\"\\n* [Insert data] Time cost {timer.last_timestamp_diff():>.4f} s.\")\n",
    "timer.middle_point()\n",
    "\n",
    "res = db.query(db.head(10)[0], k=10)\n",
    "print(\"  - Query vector: \", db.head(10)[0])\n",
    "print(\"  - Database index of top 10 results: \", res[0])\n",
    "print(\"  - Cosine similarity of top 10 results: \", res[1])\n",
    "print(f\"\\n* [Query data] Time cost {timer.last_timestamp_diff():>.4f} s.\")\n",
    "\n",
    "\n",
    "timer.end()\n",
    "# This operation is not required in actual use.\n",
    "db.delete()"
   ]
  },
  {
   "cell_type": "markdown",
   "id": "5dd05a5e-ea6b-4a17-9088-1f6ed7371723",
   "metadata": {},
   "source": [
    "# Use field to improve Searching Recall"
   ]
  },
  {
   "cell_type": "code",
   "execution_count": 3,
   "id": "28f44022-c3ee-4aa1-94a3-7540fb37108b",
   "metadata": {
    "ExecuteTime": {
     "end_time": "2023-12-18T10:10:57.760431Z",
     "start_time": "2023-12-18T10:10:57.302220Z"
    },
    "execution": {
     "iopub.execute_input": "2024-01-02T09:28:31.590041Z",
     "iopub.status.busy": "2024-01-02T09:28:31.588822Z",
     "iopub.status.idle": "2024-01-02T09:28:31.683653Z",
     "shell.execute_reply": "2024-01-02T09:28:31.682885Z",
     "shell.execute_reply.started": "2024-01-02T09:28:31.590013Z"
    }
   },
   "outputs": [
    {
     "data": {
      "text/markdown": [
       "*Demo 3* -- **Use field to improve Searching Recall**"
      ]
     },
     "metadata": {},
     "output_type": "display_data"
    },
    {
     "name": "stdout",
     "output_type": "stream",
     "text": [
      "\n",
      "* [Insert data] Time cost 0.0375 s.\n",
      "  - Query vector:  [0.02898663 0.05306277 0.04289231 ... 0.0143056  0.01658325 0.04808333]\n",
      "  - Database index of top 10 results:  [  0 396   9 359  98 317  20  66 347 337]\n",
      "  - Cosine similarity of top 10 results:  [1.         0.7712989  0.76116776 0.7611464  0.7591922  0.7587052\n",
      " 0.7574989  0.7574572  0.7573151  0.75730586]\n",
      "\n",
      "* [Query data] Time cost 0.0029 s.\n"
     ]
    }
   ],
   "source": [
    "from spinesUtils.utils import Timer\n",
    "from min_vec import MinVectorDB\n",
    "\n",
    "timer = Timer()\n",
    "\n",
    "# ===================================================================\n",
    "# ========================= DEMO 3 ==================================\n",
    "# ===================================================================\n",
    "# Demo 3 -- Use field to improve Searching Recall\n",
    "display_markdown(\"*Demo 3* -- **Use field to improve Searching Recall**\", raw=True)\n",
    "\n",
    "timer.start()\n",
    "\n",
    "db = MinVectorDB(dim=1024, database_path='test_min_vec.mvdb', chunk_size=100)\n",
    "\n",
    "np.random.seed(23)\n",
    "\n",
    "# Define the initial ID.\n",
    "id = 0\n",
    "vectors = []\n",
    "for t in np.random.random((1000, 1024)):\n",
    "    # Vectors need to be normalized before writing to the database.\n",
    "    t = t / np.linalg.norm(t) \n",
    "    vectors.append((t, id, 'test_'+str(id // 100)))\n",
    "    # ID increments by 1 with each loop iteration.\n",
    "    id += 1\n",
    "    \n",
    "db.bulk_add_items(vectors)\n",
    "db.commit()\n",
    "\n",
    "print(f\"\\n* [Insert data] Time cost {timer.last_timestamp_diff():>.4f} s.\")\n",
    "timer.middle_point()\n",
    "\n",
    "res = db.query(db.head(10)[0], k=10, field=['test_0', 'test_3'])\n",
    "print(\"  - Query vector: \", db.head(10)[0])\n",
    "print(\"  - Database index of top 10 results: \", res[0])\n",
    "print(\"  - Cosine similarity of top 10 results: \", res[1])\n",
    "print(f\"\\n* [Query data] Time cost {timer.last_timestamp_diff():>.4f} s.\")\n",
    "\n",
    "timer.end()\n",
    "db.delete()"
   ]
  },
  {
   "cell_type": "markdown",
   "id": "1dcf5df8-43ea-46ae-96df-f54bf6b862a7",
   "metadata": {},
   "source": [
    "# Use subset_indices to narrow down the search range"
   ]
  },
  {
   "cell_type": "code",
   "execution_count": 4,
   "id": "370dd454-599d-4d1e-841b-d45c02fb2ab9",
   "metadata": {
    "execution": {
     "iopub.execute_input": "2024-01-02T09:28:31.685825Z",
     "iopub.status.busy": "2024-01-02T09:28:31.685436Z",
     "iopub.status.idle": "2024-01-02T09:28:31.735605Z",
     "shell.execute_reply": "2024-01-02T09:28:31.734740Z",
     "shell.execute_reply.started": "2024-01-02T09:28:31.685804Z"
    }
   },
   "outputs": [
    {
     "data": {
      "text/markdown": [
       "*Demo 4* -- **Use subset_indices to narrow down the search range**"
      ]
     },
     "metadata": {},
     "output_type": "display_data"
    },
    {
     "name": "stdout",
     "output_type": "stream",
     "text": [
      "\n",
      "* [Insert data] Time cost 0.0168 s.\n",
      "  - Query vector:  [0.02898663 0.05306277 0.04289231 ... 0.0143056  0.01658325 0.04808333]\n",
      "  - Database index of top 10 results:  [ 0  9 98 20 66 32 53 74 51 21]\n",
      "  - Cosine similarity of top 10 results:  [1.         0.76116776 0.7591922  0.7574989  0.7574572  0.75695866\n",
      " 0.75688934 0.7559832  0.7552062  0.75445503]\n",
      "\n",
      "* [Query data] Time cost 0.0051 s.\n"
     ]
    }
   ],
   "source": [
    "from spinesUtils.utils import Timer\n",
    "from min_vec import MinVectorDB\n",
    "\n",
    "timer = Timer()\n",
    "\n",
    "# ===================================================================\n",
    "# ========================= DEMO 4 ==================================\n",
    "# ===================================================================\n",
    "# Demo 4 -- Use subset_indices to narrow down the search range\n",
    "display_markdown(\"*Demo 4* -- **Use subset_indices to narrow down the search range**\", raw=True)\n",
    "\n",
    "timer.start()\n",
    "\n",
    "db = MinVectorDB(dim=1024, database_path='test_min_vec.mvdb', chunk_size=100)\n",
    "\n",
    "np.random.seed(23)\n",
    "\n",
    "# Define the initial ID.\n",
    "id = 0\n",
    "vectors = []\n",
    "for t in np.random.random((1000, 1024)):\n",
    "    # Vectors need to be normalized before writing to the database.\n",
    "    t = t / np.linalg.norm(t) \n",
    "    vectors.append((t, id, 'test_'+str(id // 100)))\n",
    "    # ID increments by 1 with each loop iteration.\n",
    "    id += 1\n",
    "    \n",
    "db.bulk_add_items(vectors)\n",
    "db.commit()\n",
    "\n",
    "print(f\"\\n* [Insert data] Time cost {timer.last_timestamp_diff():>.4f} s.\")\n",
    "timer.middle_point()\n",
    "\n",
    "res = db.query(db.head(10)[0], k=10, field=['test_0', 'test_3'], subset_indices=list(range(100)))\n",
    "print(\"  - Query vector: \", db.head(10)[0])\n",
    "print(\"  - Database index of top 10 results: \", res[0])\n",
    "print(\"  - Cosine similarity of top 10 results: \", res[1])\n",
    "print(f\"\\n* [Query data] Time cost {timer.last_timestamp_diff():>.4f} s.\")\n",
    "\n",
    "timer.end()\n",
    "db.delete()"
   ]
  }
 ],
 "metadata": {
  "kernelspec": {
   "display_name": "Python 3 (ipykernel)",
   "language": "python",
   "name": "python3"
  },
  "language_info": {
   "codemirror_mode": {
    "name": "ipython",
    "version": 3
   },
   "file_extension": ".py",
   "mimetype": "text/x-python",
   "name": "python",
   "nbconvert_exporter": "python",
   "pygments_lexer": "ipython3",
   "version": "3.11.5"
  },
  "toc": {
   "base_numbering": 1,
   "nav_menu": {},
   "number_sections": true,
   "sideBar": true,
   "skip_h1_title": false,
   "title_cell": "Table of Contents",
   "title_sidebar": "Contents",
   "toc_cell": false,
   "toc_position": {},
   "toc_section_display": true,
   "toc_window_display": false
  }
 },
 "nbformat": 4,
 "nbformat_minor": 5
}
