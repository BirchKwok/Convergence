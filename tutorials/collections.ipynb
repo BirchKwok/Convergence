{
 "cells": [
  {
   "cell_type": "markdown",
   "id": "3c270859-d9dc-44cc-89e4-2e30bba86f8d",
   "metadata": {},
   "source": [
    "## Create a collection"
   ]
  },
  {
   "cell_type": "code",
   "execution_count": 1,
   "id": "1b6d7017-d042-4ba1-8151-44a754d2f931",
   "metadata": {
    "execution": {
     "iopub.execute_input": "2024-06-18T03:40:04.318534Z",
     "iopub.status.busy": "2024-06-18T03:40:04.317690Z",
     "iopub.status.idle": "2024-06-18T03:40:04.439220Z",
     "shell.execute_reply": "2024-06-18T03:40:04.438435Z",
     "shell.execute_reply.started": "2024-06-18T03:40:04.318481Z"
    }
   },
   "outputs": [],
   "source": [
    "import lynse"
   ]
  },
  {
   "cell_type": "code",
   "execution_count": 2,
   "id": "cae1eefa-187c-45be-94a9-9fbdfa03a243",
   "metadata": {
    "execution": {
     "iopub.execute_input": "2024-06-18T03:40:12.098492Z",
     "iopub.status.busy": "2024-06-18T03:40:12.097204Z",
     "iopub.status.idle": "2024-06-18T03:40:12.541169Z",
     "shell.execute_reply": "2024-06-18T03:40:12.540921Z",
     "shell.execute_reply.started": "2024-06-18T03:40:12.098461Z"
    }
   },
   "outputs": [],
   "source": [
    "client = lynse.VectorDBClient(\"http://127.0.0.1:7637\")\n",
    "my_db = client.create_database(\"my_vec_db\", drop_if_exists=True)"
   ]
  },
  {
   "cell_type": "code",
   "execution_count": 3,
   "id": "57d7dcea-cfcd-4c4f-bd09-4b84c557cb3c",
   "metadata": {
    "execution": {
     "iopub.execute_input": "2024-06-18T03:40:24.492729Z",
     "iopub.status.busy": "2024-06-18T03:40:24.492411Z",
     "iopub.status.idle": "2024-06-18T03:40:24.536121Z",
     "shell.execute_reply": "2024-06-18T03:40:24.535809Z",
     "shell.execute_reply.started": "2024-06-18T03:40:24.492708Z"
    }
   },
   "outputs": [],
   "source": [
    "collection = my_db.require_collection('test_collection', dim=4, drop_if_exists=True)"
   ]
  },
  {
   "cell_type": "markdown",
   "id": "3fe65c1e-29eb-4fc8-9c9c-5d19e99e6387",
   "metadata": {},
   "source": [
    "## Show all collections"
   ]
  },
  {
   "cell_type": "code",
   "execution_count": 4,
   "id": "8279c50c-6471-48f5-b4c9-76c68f14859b",
   "metadata": {
    "execution": {
     "iopub.execute_input": "2024-06-18T03:40:26.404033Z",
     "iopub.status.busy": "2024-06-18T03:40:26.403337Z",
     "iopub.status.idle": "2024-06-18T03:40:26.429459Z",
     "shell.execute_reply": "2024-06-18T03:40:26.429102Z",
     "shell.execute_reply.started": "2024-06-18T03:40:26.403996Z"
    }
   },
   "outputs": [
    {
     "data": {
      "text/plain": [
       "['test_collection']"
      ]
     },
     "execution_count": 4,
     "metadata": {},
     "output_type": "execute_result"
    }
   ],
   "source": [
    "my_db.show_collections()"
   ]
  },
  {
   "cell_type": "markdown",
   "id": "dd801b8b-5dda-4992-9450-9c1bfa28b7a3",
   "metadata": {},
   "source": [
    "## Get an existing collection"
   ]
  },
  {
   "cell_type": "code",
   "execution_count": 5,
   "id": "dfaa2775-16f6-4112-aba8-838ac80deafc",
   "metadata": {
    "execution": {
     "iopub.execute_input": "2024-06-18T03:40:28.453455Z",
     "iopub.status.busy": "2024-06-18T03:40:28.452621Z",
     "iopub.status.idle": "2024-06-18T03:40:28.501214Z",
     "shell.execute_reply": "2024-06-18T03:40:28.500901Z",
     "shell.execute_reply.started": "2024-06-18T03:40:28.453403Z"
    }
   },
   "outputs": [],
   "source": [
    "collection = my_db.get_collection(\"test_collection\")"
   ]
  },
  {
   "cell_type": "code",
   "execution_count": 6,
   "id": "6300b37e-a48a-4d71-8bb6-64572a714042",
   "metadata": {
    "execution": {
     "iopub.execute_input": "2024-06-18T03:40:29.847036Z",
     "iopub.status.busy": "2024-06-18T03:40:29.845961Z",
     "iopub.status.idle": "2024-06-18T03:40:29.876065Z",
     "shell.execute_reply": "2024-06-18T03:40:29.875376Z",
     "shell.execute_reply.started": "2024-06-18T03:40:29.846946Z"
    }
   },
   "outputs": [
    {
     "data": {
      "text/plain": [
       "LynseDB collection with status: \n",
       "\n",
       "* - COLLECTION STATUS REPORT -\n",
       "| - Collection shape: (0, 4)\n",
       "| - Collection last_commit_time: None\n",
       "| - Collection distance: cosine\n",
       "| - Collection use_cache: True\n",
       "| - Collection status: ACTIVE"
      ]
     },
     "execution_count": 6,
     "metadata": {},
     "output_type": "execute_result"
    }
   ],
   "source": [
    "collection"
   ]
  },
  {
   "cell_type": "markdown",
   "id": "06717379-756d-4b32-b84d-fef6ede52acd",
   "metadata": {},
   "source": [
    "## Drop collection"
   ]
  },
  {
   "cell_type": "code",
   "execution_count": 7,
   "id": "6aa57bb4-db4d-44c6-948b-7349b44e206c",
   "metadata": {
    "execution": {
     "iopub.execute_input": "2024-06-18T03:40:31.617551Z",
     "iopub.status.busy": "2024-06-18T03:40:31.617067Z",
     "iopub.status.idle": "2024-06-18T03:40:31.721757Z",
     "shell.execute_reply": "2024-06-18T03:40:31.721283Z",
     "shell.execute_reply.started": "2024-06-18T03:40:31.617514Z"
    }
   },
   "outputs": [
    {
     "data": {
      "text/plain": [
       "Deleted LynseDB collection with status: \n",
       "\n",
       "* - COLLECTION STATUS REPORT -\n",
       "| - Collection shape: (0, 4)\n",
       "| - Collection last_commit_time: None\n",
       "| - Collection distance: cosine\n",
       "| - Collection use_cache: True\n",
       "| - Collection status: DELETED"
      ]
     },
     "execution_count": 7,
     "metadata": {},
     "output_type": "execute_result"
    }
   ],
   "source": [
    "my_db.drop_collection(\"test_collection\")\n",
    "collection"
   ]
  },
  {
   "cell_type": "markdown",
   "id": "dbfc6e22-bb88-4876-8f63-e6b748fec4af",
   "metadata": {},
   "source": [
    "## Drop the database (Note that this action will delete all collections)"
   ]
  },
  {
   "cell_type": "code",
   "execution_count": 8,
   "id": "b09290e2-035a-4153-8746-78a9e101f4b2",
   "metadata": {
    "execution": {
     "iopub.execute_input": "2024-06-18T03:40:34.290813Z",
     "iopub.status.busy": "2024-06-18T03:40:34.289838Z",
     "iopub.status.idle": "2024-06-18T03:40:34.337425Z",
     "shell.execute_reply": "2024-06-18T03:40:34.336851Z",
     "shell.execute_reply.started": "2024-06-18T03:40:34.290605Z"
    }
   },
   "outputs": [
    {
     "data": {
      "text/plain": [
       "Database `my_vec_db` does not exist on the LynseDB remote server."
      ]
     },
     "execution_count": 8,
     "metadata": {},
     "output_type": "execute_result"
    }
   ],
   "source": [
    "my_db.drop_database()\n",
    "my_db"
   ]
  }
 ],
 "metadata": {
  "kernelspec": {
   "display_name": "Python 3 (ipykernel)",
   "language": "python",
   "name": "python3"
  },
  "language_info": {
   "codemirror_mode": {
    "name": "ipython",
    "version": 3
   },
   "file_extension": ".py",
   "mimetype": "text/x-python",
   "name": "python",
   "nbconvert_exporter": "python",
   "pygments_lexer": "ipython3",
   "version": "3.11.5"
  }
 },
 "nbformat": 4,
 "nbformat_minor": 5
}
