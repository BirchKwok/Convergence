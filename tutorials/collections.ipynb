{
 "cells": [
  {
   "cell_type": "markdown",
   "id": "3c270859-d9dc-44cc-89e4-2e30bba86f8d",
   "metadata": {},
   "source": [
    "## Create a collection"
   ]
  },
  {
   "cell_type": "code",
   "execution_count": 1,
   "id": "1b6d7017-d042-4ba1-8151-44a754d2f931",
   "metadata": {
    "execution": {
     "iopub.execute_input": "2024-04-26T10:32:33.250768Z",
     "iopub.status.busy": "2024-04-26T10:32:33.250637Z",
     "iopub.status.idle": "2024-04-26T10:32:33.259438Z",
     "shell.execute_reply": "2024-04-26T10:32:33.257771Z",
     "shell.execute_reply.started": "2024-04-26T10:32:33.250753Z"
    }
   },
   "outputs": [],
   "source": [
    "from min_vec import MinVectorDB"
   ]
  },
  {
   "cell_type": "code",
   "execution_count": 2,
   "id": "cae1eefa-187c-45be-94a9-9fbdfa03a243",
   "metadata": {
    "execution": {
     "iopub.execute_input": "2024-04-26T10:32:33.263604Z",
     "iopub.status.busy": "2024-04-26T10:32:33.263016Z",
     "iopub.status.idle": "2024-04-26T10:32:34.992352Z",
     "shell.execute_reply": "2024-04-26T10:32:34.992043Z",
     "shell.execute_reply.started": "2024-04-26T10:32:33.263530Z"
    }
   },
   "outputs": [],
   "source": [
    "# Local server\n",
    "my_db = MinVectorDB(\"http://localhost:7637\")\n",
    "# or if in docker\n",
    "# my_db = MinVectorDB(\"http://localhost:5403\")\n",
    "# or specify a path\n",
    "# my_db = MinVectorDB(\"my_vec\")"
   ]
  },
  {
   "cell_type": "code",
   "execution_count": 3,
   "id": "57d7dcea-cfcd-4c4f-bd09-4b84c557cb3c",
   "metadata": {
    "execution": {
     "iopub.execute_input": "2024-04-26T10:32:34.992812Z",
     "iopub.status.busy": "2024-04-26T10:32:34.992710Z",
     "iopub.status.idle": "2024-04-26T10:32:35.012833Z",
     "shell.execute_reply": "2024-04-26T10:32:35.012555Z",
     "shell.execute_reply.started": "2024-04-26T10:32:34.992803Z"
    }
   },
   "outputs": [],
   "source": [
    "collection = my_db.require_collection('test_collection', dim=4, drop_if_exists=True)"
   ]
  },
  {
   "cell_type": "markdown",
   "id": "3fe65c1e-29eb-4fc8-9c9c-5d19e99e6387",
   "metadata": {},
   "source": [
    "## Show all collections"
   ]
  },
  {
   "cell_type": "code",
   "execution_count": 4,
   "id": "8279c50c-6471-48f5-b4c9-76c68f14859b",
   "metadata": {
    "execution": {
     "iopub.execute_input": "2024-04-26T10:32:35.013447Z",
     "iopub.status.busy": "2024-04-26T10:32:35.013355Z",
     "iopub.status.idle": "2024-04-26T10:32:35.020143Z",
     "shell.execute_reply": "2024-04-26T10:32:35.019853Z",
     "shell.execute_reply.started": "2024-04-26T10:32:35.013438Z"
    }
   },
   "outputs": [
    {
     "data": {
      "text/plain": [
       "['test_add_vectors', 'test_min_vec', 'test_collection']"
      ]
     },
     "execution_count": 4,
     "metadata": {},
     "output_type": "execute_result"
    }
   ],
   "source": [
    "my_db.show_collections()"
   ]
  },
  {
   "cell_type": "markdown",
   "id": "dd801b8b-5dda-4992-9450-9c1bfa28b7a3",
   "metadata": {},
   "source": [
    "## Get an existing collection"
   ]
  },
  {
   "cell_type": "code",
   "execution_count": 5,
   "id": "dfaa2775-16f6-4112-aba8-838ac80deafc",
   "metadata": {
    "execution": {
     "iopub.execute_input": "2024-04-26T10:32:35.020740Z",
     "iopub.status.busy": "2024-04-26T10:32:35.020617Z",
     "iopub.status.idle": "2024-04-26T10:32:35.032145Z",
     "shell.execute_reply": "2024-04-26T10:32:35.031873Z",
     "shell.execute_reply.started": "2024-04-26T10:32:35.020731Z"
    }
   },
   "outputs": [],
   "source": [
    "collection = my_db.get_collection(\"test_collection\")"
   ]
  },
  {
   "cell_type": "code",
   "execution_count": 6,
   "id": "6300b37e-a48a-4d71-8bb6-64572a714042",
   "metadata": {
    "execution": {
     "iopub.execute_input": "2024-04-26T10:32:35.032883Z",
     "iopub.status.busy": "2024-04-26T10:32:35.032735Z",
     "iopub.status.idle": "2024-04-26T10:32:35.060174Z",
     "shell.execute_reply": "2024-04-26T10:32:35.059859Z",
     "shell.execute_reply.started": "2024-04-26T10:32:35.032868Z"
    }
   },
   "outputs": [
    {
     "data": {
      "text/plain": [
       "MinVectorDB collection with status: \n",
       "\n",
       "* - COLLECTION STATUS REPORT -\n",
       "| - Collection shape: (0, 4)\n",
       "| - Collection last_commit_time: None\n",
       "| - Collection index_mode: IVF-FLAT\n",
       "| - Collection distance: cosine\n",
       "| - Collection use_cache: True\n",
       "| - Collection status: ACTIVE"
      ]
     },
     "execution_count": 6,
     "metadata": {},
     "output_type": "execute_result"
    }
   ],
   "source": [
    "collection"
   ]
  },
  {
   "cell_type": "markdown",
   "id": "06717379-756d-4b32-b84d-fef6ede52acd",
   "metadata": {},
   "source": [
    "## Drop collection"
   ]
  },
  {
   "cell_type": "code",
   "execution_count": 7,
   "id": "6aa57bb4-db4d-44c6-948b-7349b44e206c",
   "metadata": {
    "execution": {
     "iopub.execute_input": "2024-04-26T10:32:35.061641Z",
     "iopub.status.busy": "2024-04-26T10:32:35.061553Z",
     "iopub.status.idle": "2024-04-26T10:32:35.171165Z",
     "shell.execute_reply": "2024-04-26T10:32:35.170845Z",
     "shell.execute_reply.started": "2024-04-26T10:32:35.061629Z"
    }
   },
   "outputs": [
    {
     "data": {
      "text/plain": [
       "Deleted MinVectorDB collection with status: \n",
       "\n",
       "* - COLLECTION STATUS REPORT -\n",
       "| - Collection shape: (0, 4)\n",
       "| - Collection last_commit_time: None\n",
       "| - Collection index_mode: IVF-FLAT\n",
       "| - Collection distance: cosine\n",
       "| - Collection use_cache: True\n",
       "| - Collection status: DELETED"
      ]
     },
     "execution_count": 7,
     "metadata": {},
     "output_type": "execute_result"
    }
   ],
   "source": [
    "my_db.drop_collection(\"test_collection\")\n",
    "collection"
   ]
  },
  {
   "cell_type": "markdown",
   "id": "dbfc6e22-bb88-4876-8f63-e6b748fec4af",
   "metadata": {},
   "source": [
    "## Drop the database (Note that this action will delete all collections)"
   ]
  },
  {
   "cell_type": "code",
   "execution_count": 8,
   "id": "b09290e2-035a-4153-8746-78a9e101f4b2",
   "metadata": {
    "execution": {
     "iopub.execute_input": "2024-04-26T10:32:35.171718Z",
     "iopub.status.busy": "2024-04-26T10:32:35.171622Z",
     "iopub.status.idle": "2024-04-26T10:32:35.185474Z",
     "shell.execute_reply": "2024-04-26T10:32:35.185106Z",
     "shell.execute_reply.started": "2024-04-26T10:32:35.171707Z"
    }
   },
   "outputs": [
    {
     "data": {
      "text/plain": [
       "MinVectorDB remote server at http://localhost:7637 does not exist."
      ]
     },
     "execution_count": 8,
     "metadata": {},
     "output_type": "execute_result"
    }
   ],
   "source": [
    "my_db.drop_database()\n",
    "my_db"
   ]
  }
 ],
 "metadata": {
  "kernelspec": {
   "display_name": "Python 3 (ipykernel)",
   "language": "python",
   "name": "python3"
  },
  "language_info": {
   "codemirror_mode": {
    "name": "ipython",
    "version": 3
   },
   "file_extension": ".py",
   "mimetype": "text/x-python",
   "name": "python",
   "nbconvert_exporter": "python",
   "pygments_lexer": "ipython3",
   "version": "3.11.5"
  }
 },
 "nbformat": 4,
 "nbformat_minor": 5
}
