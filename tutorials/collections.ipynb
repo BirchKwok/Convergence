{
 "cells": [
  {
   "cell_type": "markdown",
   "id": "3c270859-d9dc-44cc-89e4-2e30bba86f8d",
   "metadata": {},
   "source": [
    "## Create a collection"
   ]
  },
  {
   "cell_type": "code",
   "execution_count": 1,
   "id": "1b6d7017-d042-4ba1-8151-44a754d2f931",
   "metadata": {
    "execution": {
     "iopub.execute_input": "2024-04-23T09:56:54.586836Z",
     "iopub.status.busy": "2024-04-23T09:56:54.586613Z",
     "iopub.status.idle": "2024-04-23T09:56:56.246431Z",
     "shell.execute_reply": "2024-04-23T09:56:56.246010Z",
     "shell.execute_reply.started": "2024-04-23T09:56:54.586813Z"
    }
   },
   "outputs": [],
   "source": [
    "from min_vec import MinVectorDB"
   ]
  },
  {
   "cell_type": "code",
   "execution_count": 2,
   "id": "cae1eefa-187c-45be-94a9-9fbdfa03a243",
   "metadata": {
    "execution": {
     "iopub.execute_input": "2024-04-23T09:56:56.247632Z",
     "iopub.status.busy": "2024-04-23T09:56:56.247478Z",
     "iopub.status.idle": "2024-04-23T09:56:56.250632Z",
     "shell.execute_reply": "2024-04-23T09:56:56.249770Z",
     "shell.execute_reply.started": "2024-04-23T09:56:56.247622Z"
    }
   },
   "outputs": [
    {
     "name": "stderr",
     "output_type": "stream",
     "text": [
      "MinVectorDB - INFO - Successful initialization of MinVectorDB in root_path: /projects/MinVectorDB/tutorials/my_vec_db\n"
     ]
    }
   ],
   "source": [
    "my_vec_db = MinVectorDB(root_path='my_vec_db')"
   ]
  },
  {
   "cell_type": "code",
   "execution_count": 3,
   "id": "57d7dcea-cfcd-4c4f-bd09-4b84c557cb3c",
   "metadata": {
    "execution": {
     "iopub.execute_input": "2024-04-23T09:56:56.251277Z",
     "iopub.status.busy": "2024-04-23T09:56:56.251135Z",
     "iopub.status.idle": "2024-04-23T09:56:56.255252Z",
     "shell.execute_reply": "2024-04-23T09:56:56.254957Z",
     "shell.execute_reply.started": "2024-04-23T09:56:56.251268Z"
    }
   },
   "outputs": [
    {
     "name": "stderr",
     "output_type": "stream",
     "text": [
      "MinVectorDB - INFO - Creating collection test_collection with: \n",
      "//    dim=4, collection='test_collection', \n",
      "//    n_clusters=16, chunk_size=100000,\n",
      "//    distance='cosine', index_mode='IVF-FLAT', \n",
      "//    dtypes='float32', use_cache=True, \n",
      "//    scaler_bits=8, n_threads=10\n"
     ]
    }
   ],
   "source": [
    "collection = my_vec_db.require_collection('test_collection', dim=4, drop_if_exists=True)"
   ]
  },
  {
   "cell_type": "markdown",
   "id": "3fe65c1e-29eb-4fc8-9c9c-5d19e99e6387",
   "metadata": {},
   "source": [
    "## Show all collections"
   ]
  },
  {
   "cell_type": "code",
   "execution_count": 4,
   "id": "8279c50c-6471-48f5-b4c9-76c68f14859b",
   "metadata": {
    "execution": {
     "iopub.execute_input": "2024-04-23T09:56:56.255917Z",
     "iopub.status.busy": "2024-04-23T09:56:56.255765Z",
     "iopub.status.idle": "2024-04-23T09:56:56.259488Z",
     "shell.execute_reply": "2024-04-23T09:56:56.259230Z",
     "shell.execute_reply.started": "2024-04-23T09:56:56.255907Z"
    }
   },
   "outputs": [
    {
     "data": {
      "text/plain": [
       "['test_add_vectors', 'test_collection']"
      ]
     },
     "execution_count": 4,
     "metadata": {},
     "output_type": "execute_result"
    }
   ],
   "source": [
    "my_vec_db.show_collections()"
   ]
  },
  {
   "cell_type": "markdown",
   "id": "dd801b8b-5dda-4992-9450-9c1bfa28b7a3",
   "metadata": {},
   "source": [
    "## Get an existing collection"
   ]
  },
  {
   "cell_type": "code",
   "execution_count": 5,
   "id": "dfaa2775-16f6-4112-aba8-838ac80deafc",
   "metadata": {
    "execution": {
     "iopub.execute_input": "2024-04-23T09:56:56.260161Z",
     "iopub.status.busy": "2024-04-23T09:56:56.260039Z",
     "iopub.status.idle": "2024-04-23T09:56:56.262188Z",
     "shell.execute_reply": "2024-04-23T09:56:56.261768Z",
     "shell.execute_reply.started": "2024-04-23T09:56:56.260153Z"
    }
   },
   "outputs": [],
   "source": [
    "collection = my_vec_db.get_collection(\"test_collection\")"
   ]
  },
  {
   "cell_type": "code",
   "execution_count": 6,
   "id": "6300b37e-a48a-4d71-8bb6-64572a714042",
   "metadata": {
    "execution": {
     "iopub.execute_input": "2024-04-23T09:56:56.262804Z",
     "iopub.status.busy": "2024-04-23T09:56:56.262728Z",
     "iopub.status.idle": "2024-04-23T09:56:56.265079Z",
     "shell.execute_reply": "2024-04-23T09:56:56.264795Z",
     "shell.execute_reply.started": "2024-04-23T09:56:56.262797Z"
    }
   },
   "outputs": [
    {
     "data": {
      "text/plain": [
       "MinVectorDB collection with status: \n",
       "\n",
       "* - DATABASE STATUS REPORT -\n",
       "| - Database shape: (0, 4)\n",
       "| - Database last_commit_time: None\n",
       "| - Database commit status: True\n",
       "| - Database index_mode: IVF-FLAT\n",
       "| - Database distance: cosine\n",
       "| - Database use_cache: True\n",
       "| - Database status: ACTIVE"
      ]
     },
     "execution_count": 6,
     "metadata": {},
     "output_type": "execute_result"
    }
   ],
   "source": [
    "collection"
   ]
  },
  {
   "cell_type": "markdown",
   "id": "06717379-756d-4b32-b84d-fef6ede52acd",
   "metadata": {},
   "source": [
    "## Drop collection"
   ]
  },
  {
   "cell_type": "code",
   "execution_count": 7,
   "id": "6aa57bb4-db4d-44c6-948b-7349b44e206c",
   "metadata": {
    "execution": {
     "iopub.execute_input": "2024-04-23T09:56:56.266371Z",
     "iopub.status.busy": "2024-04-23T09:56:56.266201Z",
     "iopub.status.idle": "2024-04-23T09:56:56.334014Z",
     "shell.execute_reply": "2024-04-23T09:56:56.333762Z",
     "shell.execute_reply.started": "2024-04-23T09:56:56.266355Z"
    }
   },
   "outputs": [
    {
     "data": {
      "text/plain": [
       "Deleted MinVectorDB collection with status: \n",
       "\n",
       "* - DATABASE STATUS REPORT -\n",
       "| - Database shape: (0, 4)\n",
       "| - Database last_commit_time: None\n",
       "| - Database commit status: True\n",
       "| - Database index_mode: IVF-FLAT\n",
       "| - Database distance: cosine\n",
       "| - Database use_cache: True\n",
       "| - Database status: DELETED"
      ]
     },
     "execution_count": 7,
     "metadata": {},
     "output_type": "execute_result"
    }
   ],
   "source": [
    "my_vec_db.drop_collection(\"test_collection\")\n",
    "collection"
   ]
  },
  {
   "cell_type": "markdown",
   "id": "dbfc6e22-bb88-4876-8f63-e6b748fec4af",
   "metadata": {},
   "source": [
    "## Drop the database (Note that this action will delete all collections)"
   ]
  },
  {
   "cell_type": "code",
   "execution_count": 8,
   "id": "b09290e2-035a-4153-8746-78a9e101f4b2",
   "metadata": {
    "execution": {
     "iopub.execute_input": "2024-04-23T09:56:56.334454Z",
     "iopub.status.busy": "2024-04-23T09:56:56.334382Z",
     "iopub.status.idle": "2024-04-23T09:56:56.403721Z",
     "shell.execute_reply": "2024-04-23T09:56:56.403359Z",
     "shell.execute_reply.started": "2024-04-23T09:56:56.334445Z"
    }
   },
   "outputs": [
    {
     "data": {
      "text/plain": [
       "DELETED MinVectorDB(root_path='/projects/MinVectorDB/tutorials/my_vec_db')"
      ]
     },
     "execution_count": 8,
     "metadata": {},
     "output_type": "execute_result"
    }
   ],
   "source": [
    "my_vec_db.drop_database()\n",
    "my_vec_db"
   ]
  }
 ],
 "metadata": {
  "kernelspec": {
   "display_name": "Python 3 (ipykernel)",
   "language": "python",
   "name": "python3"
  },
  "language_info": {
   "codemirror_mode": {
    "name": "ipython",
    "version": 3
   },
   "file_extension": ".py",
   "mimetype": "text/x-python",
   "name": "python",
   "nbconvert_exporter": "python",
   "pygments_lexer": "ipython3",
   "version": "3.11.5"
  }
 },
 "nbformat": 4,
 "nbformat_minor": 5
}
