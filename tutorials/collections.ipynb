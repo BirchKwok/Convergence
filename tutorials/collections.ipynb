{
 "cells": [
  {
   "cell_type": "markdown",
   "id": "3c270859-d9dc-44cc-89e4-2e30bba86f8d",
   "metadata": {},
   "source": [
    "## Create a collection"
   ]
  },
  {
   "cell_type": "code",
   "execution_count": 1,
   "id": "1b6d7017-d042-4ba1-8151-44a754d2f931",
   "metadata": {
    "execution": {
     "iopub.execute_input": "2024-05-08T09:02:43.595296Z",
     "iopub.status.busy": "2024-05-08T09:02:43.595011Z",
     "iopub.status.idle": "2024-05-08T09:02:43.603308Z",
     "shell.execute_reply": "2024-05-08T09:02:43.602863Z",
     "shell.execute_reply.started": "2024-05-08T09:02:43.595231Z"
    }
   },
   "source": [
    "from min_vec import MinVectorDB"
   ],
   "outputs": []
  },
  {
   "cell_type": "code",
   "execution_count": 2,
   "id": "cae1eefa-187c-45be-94a9-9fbdfa03a243",
   "metadata": {
    "execution": {
     "iopub.execute_input": "2024-05-08T09:02:43.606220Z",
     "iopub.status.busy": "2024-05-08T09:02:43.606035Z",
     "iopub.status.idle": "2024-05-08T09:02:44.395924Z",
     "shell.execute_reply": "2024-05-08T09:02:44.395456Z",
     "shell.execute_reply.started": "2024-05-08T09:02:43.606196Z"
    }
   },
   "source": [
    "my_db = MinVectorDB(\"http://localhost:7637\")\n",
    "# or specify a path\n",
    "# my_db = MinVectorDB(\"my_vec\")"
   ],
   "outputs": []
  },
  {
   "cell_type": "code",
   "execution_count": 3,
   "id": "57d7dcea-cfcd-4c4f-bd09-4b84c557cb3c",
   "metadata": {
    "execution": {
     "iopub.execute_input": "2024-05-08T09:02:44.396789Z",
     "iopub.status.busy": "2024-05-08T09:02:44.396614Z",
     "iopub.status.idle": "2024-05-08T09:02:44.451914Z",
     "shell.execute_reply": "2024-05-08T09:02:44.451596Z",
     "shell.execute_reply.started": "2024-05-08T09:02:44.396778Z"
    }
   },
   "source": [
    "collection = my_db.require_collection('test_collection', dim=4, drop_if_exists=True)"
   ],
   "outputs": []
  },
  {
   "cell_type": "markdown",
   "id": "3fe65c1e-29eb-4fc8-9c9c-5d19e99e6387",
   "metadata": {},
   "source": [
    "## Show all collections"
   ]
  },
  {
   "cell_type": "code",
   "execution_count": 4,
   "id": "8279c50c-6471-48f5-b4c9-76c68f14859b",
   "metadata": {
    "execution": {
     "iopub.execute_input": "2024-05-08T09:02:44.452405Z",
     "iopub.status.busy": "2024-05-08T09:02:44.452319Z",
     "iopub.status.idle": "2024-05-08T09:02:44.464627Z",
     "shell.execute_reply": "2024-05-08T09:02:44.464317Z",
     "shell.execute_reply.started": "2024-05-08T09:02:44.452396Z"
    }
   },
   "source": [
    "my_db.show_collections()"
   ],
   "outputs": []
  },
  {
   "cell_type": "markdown",
   "id": "dd801b8b-5dda-4992-9450-9c1bfa28b7a3",
   "metadata": {},
   "source": [
    "## Get an existing collection"
   ]
  },
  {
   "cell_type": "code",
   "execution_count": 5,
   "id": "dfaa2775-16f6-4112-aba8-838ac80deafc",
   "metadata": {
    "execution": {
     "iopub.execute_input": "2024-05-08T09:02:44.465314Z",
     "iopub.status.busy": "2024-05-08T09:02:44.465185Z",
     "iopub.status.idle": "2024-05-08T09:02:44.519474Z",
     "shell.execute_reply": "2024-05-08T09:02:44.519168Z",
     "shell.execute_reply.started": "2024-05-08T09:02:44.465298Z"
    }
   },
   "source": [
    "collection = my_db.get_collection(\"test_collection\")"
   ],
   "outputs": []
  },
  {
   "cell_type": "code",
   "execution_count": 6,
   "id": "6300b37e-a48a-4d71-8bb6-64572a714042",
   "metadata": {
    "execution": {
     "iopub.execute_input": "2024-05-08T09:02:44.519976Z",
     "iopub.status.busy": "2024-05-08T09:02:44.519894Z",
     "iopub.status.idle": "2024-05-08T09:02:44.553091Z",
     "shell.execute_reply": "2024-05-08T09:02:44.552826Z",
     "shell.execute_reply.started": "2024-05-08T09:02:44.519968Z"
    }
   },
   "source": [
    "collection"
   ],
   "outputs": []
  },
  {
   "cell_type": "markdown",
   "id": "06717379-756d-4b32-b84d-fef6ede52acd",
   "metadata": {},
   "source": [
    "## Drop collection"
   ]
  },
  {
   "cell_type": "code",
   "execution_count": 7,
   "id": "6aa57bb4-db4d-44c6-948b-7349b44e206c",
   "metadata": {
    "execution": {
     "iopub.execute_input": "2024-05-08T09:02:44.555081Z",
     "iopub.status.busy": "2024-05-08T09:02:44.554680Z",
     "iopub.status.idle": "2024-05-08T09:02:44.650174Z",
     "shell.execute_reply": "2024-05-08T09:02:44.649783Z",
     "shell.execute_reply.started": "2024-05-08T09:02:44.555068Z"
    }
   },
   "source": [
    "my_db.drop_collection(\"test_collection\")\n",
    "collection"
   ],
   "outputs": []
  },
  {
   "cell_type": "markdown",
   "id": "dbfc6e22-bb88-4876-8f63-e6b748fec4af",
   "metadata": {},
   "source": [
    "## Drop the database (Note that this action will delete all collections)"
   ]
  },
  {
   "cell_type": "code",
   "execution_count": 8,
   "id": "b09290e2-035a-4153-8746-78a9e101f4b2",
   "metadata": {
    "execution": {
     "iopub.execute_input": "2024-05-08T09:02:44.650713Z",
     "iopub.status.busy": "2024-05-08T09:02:44.650617Z",
     "iopub.status.idle": "2024-05-08T09:02:44.662795Z",
     "shell.execute_reply": "2024-05-08T09:02:44.662473Z",
     "shell.execute_reply.started": "2024-05-08T09:02:44.650703Z"
    }
   },
   "source": [
    "my_db.drop_database()\n",
    "my_db"
   ],
   "outputs": []
  }
 ],
 "metadata": {
  "kernelspec": {
   "display_name": "Python 3 (ipykernel)",
   "language": "python",
   "name": "python3"
  },
  "language_info": {
   "codemirror_mode": {
    "name": "ipython",
    "version": 3
   },
   "file_extension": ".py",
   "mimetype": "text/x-python",
   "name": "python",
   "nbconvert_exporter": "python",
   "pygments_lexer": "ipython3",
   "version": "3.11.5"
  }
 },
 "nbformat": 4,
 "nbformat_minor": 5
}
