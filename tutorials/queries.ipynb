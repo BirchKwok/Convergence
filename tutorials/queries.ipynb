{
 "cells": [
  {
   "cell_type": "code",
   "execution_count": 1,
   "id": "66c95394-cb4f-4056-8520-fd632e7299d8",
   "metadata": {
    "execution": {
     "iopub.execute_input": "2024-05-05T13:46:46.548216Z",
     "iopub.status.busy": "2024-05-05T13:46:46.547998Z",
     "iopub.status.idle": "2024-05-05T13:46:46.558233Z",
     "shell.execute_reply": "2024-05-05T13:46:46.556524Z",
     "shell.execute_reply.started": "2024-05-05T13:46:46.548194Z"
    }
   },
   "outputs": [],
   "source": [
    "from min_vec import MinVectorDB"
   ]
  },
  {
   "cell_type": "code",
   "execution_count": 2,
   "id": "68c0d3a6-5802-4d90-a435-46311ed65914",
   "metadata": {
    "execution": {
     "iopub.execute_input": "2024-05-05T13:46:46.559412Z",
     "iopub.status.busy": "2024-05-05T13:46:46.559249Z",
     "iopub.status.idle": "2024-05-05T13:46:47.498897Z",
     "shell.execute_reply": "2024-05-05T13:46:47.498550Z",
     "shell.execute_reply.started": "2024-05-05T13:46:46.559395Z"
    }
   },
   "outputs": [],
   "source": [
    "my_db = MinVectorDB(\"http://localhost:7637\")\n",
    "# or specify a path\n",
    "# my_db = MinVectorDB(\"my_vec\")"
   ]
  },
  {
   "cell_type": "code",
   "execution_count": 3,
   "id": "89a00bcd-fa2e-40b4-85aa-46fd8c8ab49f",
   "metadata": {
    "execution": {
     "iopub.execute_input": "2024-05-05T13:46:47.499509Z",
     "iopub.status.busy": "2024-05-05T13:46:47.499382Z",
     "iopub.status.idle": "2024-05-05T13:46:47.800935Z",
     "shell.execute_reply": "2024-05-05T13:46:47.800593Z",
     "shell.execute_reply.started": "2024-05-05T13:46:47.499495Z"
    }
   },
   "outputs": [],
   "source": [
    "collection = my_db.require_collection(collection='test_vec', dim=128, index_mode='FLAT', drop_if_exists=True, warm_up=True)"
   ]
  },
  {
   "cell_type": "code",
   "execution_count": 4,
   "id": "059d33ca-1f1e-4d02-b52f-2eb760ab1146",
   "metadata": {
    "execution": {
     "iopub.execute_input": "2024-05-05T13:46:47.802293Z",
     "iopub.status.busy": "2024-05-05T13:46:47.802187Z",
     "iopub.status.idle": "2024-05-05T13:46:51.372738Z",
     "shell.execute_reply": "2024-05-05T13:46:51.371489Z",
     "shell.execute_reply.started": "2024-05-05T13:46:47.802283Z"
    }
   },
   "outputs": [
    {
     "name": "stderr",
     "output_type": "stream",
     "text": [
      "Adding items: 100%|██████████| 100/100 [00:02<00:00, 39.70batch/s]\n"
     ]
    }
   ],
   "source": [
    "from tqdm import trange\n",
    "\n",
    "import numpy as np\n",
    "\n",
    "with collection.insert_session():\n",
    "    vectors = []\n",
    "    for i in range(100000):\n",
    "        if i == 0:\n",
    "            query = np.random.random(128)\n",
    "            vec = query\n",
    "        else:\n",
    "            vec = np.random.random(128)\n",
    "\n",
    "        vectors.append((vec, i, {\"test\":f\"test_{i // 1000}\"}))\n",
    "    collection.bulk_add_items(vectors)"
   ]
  },
  {
   "cell_type": "markdown",
   "id": "343f993b-4823-4a0d-8b07-a5b8a6f1a787",
   "metadata": {},
   "source": [
    "## Run a query"
   ]
  },
  {
   "cell_type": "code",
   "execution_count": 5,
   "id": "15d94f52-2317-4c34-b391-66c5a38846b8",
   "metadata": {
    "execution": {
     "iopub.execute_input": "2024-05-05T13:46:51.373939Z",
     "iopub.status.busy": "2024-05-05T13:46:51.373783Z",
     "iopub.status.idle": "2024-05-05T13:46:51.511810Z",
     "shell.execute_reply": "2024-05-05T13:46:51.510880Z",
     "shell.execute_reply.started": "2024-05-05T13:46:51.373927Z"
    }
   },
   "outputs": [
    {
     "data": {
      "text/plain": [
       "(array([47542,  5297, 50501, 38376, 75389, 56181, 33856, 56266, 29752,\n",
       "        51642, 37435, 63887]),\n",
       " array([0.84904402, 0.84768826, 0.84427691, 0.84418142, 0.84163976,\n",
       "        0.83989358, 0.83934748, 0.8393296 , 0.83839804, 0.83826619,\n",
       "        0.83795744, 0.83768702]))"
      ]
     },
     "execution_count": 5,
     "metadata": {},
     "output_type": "execute_result"
    }
   ],
   "source": [
    "collection.query(np.random.random(128), k=12)"
   ]
  },
  {
   "cell_type": "markdown",
   "id": "2eeb5033-05e7-4841-8fc8-9c6a1d943b71",
   "metadata": {},
   "source": [
    "## Print the most recent query report"
   ]
  },
  {
   "cell_type": "code",
   "execution_count": 6,
   "id": "0cd1296f-f1a0-49ae-a6d0-507a0e57d778",
   "metadata": {
    "execution": {
     "iopub.execute_input": "2024-05-05T13:46:51.513221Z",
     "iopub.status.busy": "2024-05-05T13:46:51.512884Z",
     "iopub.status.idle": "2024-05-05T13:46:51.520601Z",
     "shell.execute_reply": "2024-05-05T13:46:51.520282Z",
     "shell.execute_reply.started": "2024-05-05T13:46:51.513198Z"
    }
   },
   "outputs": [
    {
     "name": "stdout",
     "output_type": "stream",
     "text": [
      "\n",
      "* - MOST RECENT QUERY REPORT -\n",
      "| - Collection Shape: (100000, 128)\n",
      "| - Query Time: 0.12654 s\n",
      "| - Query Distance: cosine\n",
      "| - Query K: 12\n",
      "| - Top 12 Results ID: [47542  5297 50501 38376 75389 56181 33856 56266 29752 51642 37435 63887]\n",
      "| - Top 12 Results Similarity: [0.84904402 0.84768826 0.84427691 0.84418142 0.84163976 0.83989358\n",
      " 0.83934748 0.8393296  0.83839804 0.83826619 0.83795744 0.83768702]\n",
      "* - END OF REPORT -\n",
      "\n"
     ]
    }
   ],
   "source": [
    "print(collection.query_report_)"
   ]
  },
  {
   "cell_type": "markdown",
   "id": "fd2442a6-b266-4fcc-9ca7-27a2a7f8c924",
   "metadata": {},
   "source": [
    "## Using the threads to speed up queries"
   ]
  },
  {
   "cell_type": "code",
   "execution_count": 7,
   "id": "6870d5b8-e239-45da-83ad-2b823a63929c",
   "metadata": {
    "execution": {
     "iopub.execute_input": "2024-05-05T13:46:51.521570Z",
     "iopub.status.busy": "2024-05-05T13:46:51.521320Z",
     "iopub.status.idle": "2024-05-05T13:46:51.620913Z",
     "shell.execute_reply": "2024-05-05T13:46:51.620600Z",
     "shell.execute_reply.started": "2024-05-05T13:46:51.521554Z"
    }
   },
   "outputs": [],
   "source": [
    "collection = my_db.require_collection('test_vec', warm_up=True, n_threads=12)"
   ]
  },
  {
   "cell_type": "code",
   "execution_count": 8,
   "id": "3db89c3d-a56c-45be-9bc6-c0a5f650f149",
   "metadata": {
    "execution": {
     "iopub.execute_input": "2024-05-05T13:46:51.621487Z",
     "iopub.status.busy": "2024-05-05T13:46:51.621389Z",
     "iopub.status.idle": "2024-05-05T13:46:51.646527Z",
     "shell.execute_reply": "2024-05-05T13:46:51.646233Z",
     "shell.execute_reply.started": "2024-05-05T13:46:51.621477Z"
    }
   },
   "outputs": [
    {
     "data": {
      "text/plain": [
       "(array([69745, 55507, 63419, 40495, 11339, 23506, 13687, 20820,  4482,\n",
       "         8171, 65217, 14389]),\n",
       " array([0.82578266, 0.82334852, 0.82158798, 0.82148987, 0.82130849,\n",
       "        0.81564808, 0.81450498, 0.8143751 , 0.8137145 , 0.81340706,\n",
       "        0.81124794, 0.81000352]))"
      ]
     },
     "execution_count": 8,
     "metadata": {},
     "output_type": "execute_result"
    }
   ],
   "source": [
    "import numpy as np\n",
    "\n",
    "collection.query(np.random.random(128), k=12)"
   ]
  },
  {
   "cell_type": "code",
   "execution_count": 9,
   "id": "5cb94252-a055-4dda-8fcb-be779185234c",
   "metadata": {
    "execution": {
     "iopub.execute_input": "2024-05-05T13:46:51.647172Z",
     "iopub.status.busy": "2024-05-05T13:46:51.647074Z",
     "iopub.status.idle": "2024-05-05T13:46:51.651740Z",
     "shell.execute_reply": "2024-05-05T13:46:51.651423Z",
     "shell.execute_reply.started": "2024-05-05T13:46:51.647163Z"
    }
   },
   "outputs": [
    {
     "name": "stdout",
     "output_type": "stream",
     "text": [
      "\n",
      "* - MOST RECENT QUERY REPORT -\n",
      "| - Collection Shape: (100000, 128)\n",
      "| - Query Time: 0.01921 s\n",
      "| - Query Distance: cosine\n",
      "| - Query K: 12\n",
      "| - Top 12 Results ID: [69745 55507 63419 40495 11339 23506 13687 20820  4482  8171 65217 14389]\n",
      "| - Top 12 Results Similarity: [0.82578266 0.82334852 0.82158798 0.82148987 0.82130849 0.81564808\n",
      " 0.81450498 0.8143751  0.8137145  0.81340706 0.81124794 0.81000352]\n",
      "* - END OF REPORT -\n",
      "\n"
     ]
    }
   ],
   "source": [
    "print(collection.query_report_)"
   ]
  },
  {
   "cell_type": "markdown",
   "id": "04a5f8bf-ae93-4441-a902-c8cd3087ed42",
   "metadata": {},
   "source": [
    "## Using Filter to narrow down the search range"
   ]
  },
  {
   "cell_type": "code",
   "execution_count": 10,
   "id": "7fb353f5-d818-4e2c-9cca-dc82a3c2f5f2",
   "metadata": {
    "execution": {
     "iopub.execute_input": "2024-05-05T13:46:51.652395Z",
     "iopub.status.busy": "2024-05-05T13:46:51.652275Z",
     "iopub.status.idle": "2024-05-05T13:46:51.794604Z",
     "shell.execute_reply": "2024-05-05T13:46:51.794257Z",
     "shell.execute_reply.started": "2024-05-05T13:46:51.652385Z"
    }
   },
   "outputs": [
    {
     "data": {
      "text/plain": [
       "(array([5, 1, 3, 4, 2]),\n",
       " array([0.79130077, 0.75929183, 0.75263286, 0.73578966, 0.72570997]))"
      ]
     },
     "execution_count": 10,
     "metadata": {},
     "output_type": "execute_result"
    }
   ],
   "source": [
    "import operator\n",
    "\n",
    "from min_vec.core_components.filter import Filter, FieldCondition, MatchField, IDCondition, MatchID\n",
    "\n",
    "\n",
    "collection.query(\n",
    "    vector=np.random.random(128), \n",
    "    k=10, \n",
    "    query_filter=Filter(\n",
    "        must=[\n",
    "            FieldCondition(key='test', matcher=MatchField('test_0')),  # Support for filtering fields\n",
    "            IDCondition(MatchID([1, 2, 3, 4, 5]))  # Support for filtering IDs\n",
    "        ], \n",
    "        # any=[\n",
    "        #     FieldCondition(key='field', matcher=MatchField('test_1')),\n",
    "        #     FieldCondition(key='order', matcher=MatchField(8, comparator=operator.ge)),\n",
    "        #     IDCondition(MatchID([1, 2, 3, 4, 5])),\n",
    "        # ]\n",
    "    )\n",
    ")"
   ]
  }
 ],
 "metadata": {
  "kernelspec": {
   "display_name": "Python 3 (ipykernel)",
   "language": "python",
   "name": "python3"
  },
  "language_info": {
   "codemirror_mode": {
    "name": "ipython",
    "version": 3
   },
   "file_extension": ".py",
   "mimetype": "text/x-python",
   "name": "python",
   "nbconvert_exporter": "python",
   "pygments_lexer": "ipython3",
   "version": "3.11.5"
  }
 },
 "nbformat": 4,
 "nbformat_minor": 5
}
