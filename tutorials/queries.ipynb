{
 "cells": [
  {
   "cell_type": "code",
   "execution_count": 1,
   "id": "66c95394-cb4f-4056-8520-fd632e7299d8",
   "metadata": {
    "execution": {
     "iopub.execute_input": "2024-05-08T09:03:24.243832Z",
     "iopub.status.busy": "2024-05-08T09:03:24.243665Z",
     "iopub.status.idle": "2024-05-08T09:03:24.251838Z",
     "shell.execute_reply": "2024-05-08T09:03:24.250963Z",
     "shell.execute_reply.started": "2024-05-08T09:03:24.243814Z"
    }
   },
   "outputs": [],
   "source": [
    "from min_vec import MinVectorDB"
   ]
  },
  {
   "cell_type": "code",
   "execution_count": 2,
   "id": "68c0d3a6-5802-4d90-a435-46311ed65914",
   "metadata": {
    "execution": {
     "iopub.execute_input": "2024-05-08T09:03:24.255362Z",
     "iopub.status.busy": "2024-05-08T09:03:24.255040Z",
     "iopub.status.idle": "2024-05-08T09:03:25.069761Z",
     "shell.execute_reply": "2024-05-08T09:03:25.069431Z",
     "shell.execute_reply.started": "2024-05-08T09:03:24.255336Z"
    }
   },
   "outputs": [],
   "source": [
    "my_db = MinVectorDB(\"http://localhost:7637\")\n",
    "# or specify a path\n",
    "# my_db = MinVectorDB(\"my_vec\")"
   ]
  },
  {
   "cell_type": "code",
   "execution_count": 3,
   "id": "89a00bcd-fa2e-40b4-85aa-46fd8c8ab49f",
   "metadata": {
    "execution": {
     "iopub.execute_input": "2024-05-08T09:03:25.070278Z",
     "iopub.status.busy": "2024-05-08T09:03:25.070164Z",
     "iopub.status.idle": "2024-05-08T09:03:25.175228Z",
     "shell.execute_reply": "2024-05-08T09:03:25.174911Z",
     "shell.execute_reply.started": "2024-05-08T09:03:25.070268Z"
    }
   },
   "outputs": [],
   "source": [
    "collection = my_db.require_collection(collection='test_vec', dim=128, index_mode='FLAT', drop_if_exists=True, warm_up=True)"
   ]
  },
  {
   "cell_type": "code",
   "execution_count": 4,
   "id": "059d33ca-1f1e-4d02-b52f-2eb760ab1146",
   "metadata": {
    "execution": {
     "iopub.execute_input": "2024-05-08T09:03:25.175782Z",
     "iopub.status.busy": "2024-05-08T09:03:25.175691Z",
     "iopub.status.idle": "2024-05-08T09:03:28.093296Z",
     "shell.execute_reply": "2024-05-08T09:03:28.092438Z",
     "shell.execute_reply.started": "2024-05-08T09:03:25.175772Z"
    }
   },
   "outputs": [
    {
     "name": "stderr",
     "output_type": "stream",
     "text": [
      "Adding items: 100%|██████████| 100/100 [00:01<00:00, 55.82batch/s]\n"
     ]
    }
   ],
   "source": [
    "from tqdm import trange\n",
    "\n",
    "import numpy as np\n",
    "\n",
    "with collection.insert_session():\n",
    "    vectors = []\n",
    "    for i in range(100000):\n",
    "        if i == 0:\n",
    "            query = np.random.random(128)\n",
    "            vec = query\n",
    "        else:\n",
    "            vec = np.random.random(128)\n",
    "\n",
    "        vectors.append((vec, i, {\"test\":f\"test_{i // 1000}\"}))\n",
    "    collection.bulk_add_items(vectors)"
   ]
  },
  {
   "cell_type": "markdown",
   "id": "343f993b-4823-4a0d-8b07-a5b8a6f1a787",
   "metadata": {},
   "source": [
    "## Run a query"
   ]
  },
  {
   "cell_type": "code",
   "execution_count": 5,
   "id": "15d94f52-2317-4c34-b391-66c5a38846b8",
   "metadata": {
    "execution": {
     "iopub.execute_input": "2024-05-08T09:03:28.094940Z",
     "iopub.status.busy": "2024-05-08T09:03:28.094302Z",
     "iopub.status.idle": "2024-05-08T09:03:28.205600Z",
     "shell.execute_reply": "2024-05-08T09:03:28.205323Z",
     "shell.execute_reply.started": "2024-05-08T09:03:28.094915Z"
    }
   },
   "outputs": [
    {
     "data": {
      "text/plain": [
       "(array([51928, 35231, 10788,  9778, 51419, 41854, 12926, 50371, 92764,\n",
       "        94265, 78287, 83319]),\n",
       " array([0.85514951, 0.84728801, 0.84626621, 0.8415463 , 0.84127688,\n",
       "        0.84093714, 0.83911288, 0.83817422, 0.83700967, 0.83690906,\n",
       "        0.83659285, 0.83584338]))"
      ]
     },
     "execution_count": 5,
     "metadata": {},
     "output_type": "execute_result"
    }
   ],
   "source": [
    "collection.query(np.random.random(128), k=12)"
   ]
  },
  {
   "cell_type": "markdown",
   "id": "2eeb5033-05e7-4841-8fc8-9c6a1d943b71",
   "metadata": {},
   "source": [
    "## Print the most recent query report"
   ]
  },
  {
   "cell_type": "code",
   "execution_count": 6,
   "id": "0cd1296f-f1a0-49ae-a6d0-507a0e57d778",
   "metadata": {
    "execution": {
     "iopub.execute_input": "2024-05-08T09:03:28.206322Z",
     "iopub.status.busy": "2024-05-08T09:03:28.206135Z",
     "iopub.status.idle": "2024-05-08T09:03:28.214923Z",
     "shell.execute_reply": "2024-05-08T09:03:28.214376Z",
     "shell.execute_reply.started": "2024-05-08T09:03:28.206311Z"
    }
   },
   "outputs": [
    {
     "name": "stdout",
     "output_type": "stream",
     "text": [
      "\n",
      "* - MOST RECENT QUERY REPORT -\n",
      "| - Collection Shape: (100000, 128)\n",
      "| - Query Time: 0.09467 s\n",
      "| - Query Distance: cosine\n",
      "| - Query K: 12\n",
      "| - Top 12 Results ID: [51928 35231 10788  9778 51419 41854 12926 50371 92764 94265 78287 83319]\n",
      "| - Top 12 Results Similarity: [0.85514951 0.84728801 0.84626621 0.8415463  0.84127688 0.84093714\n",
      " 0.83911288 0.83817422 0.83700967 0.83690906 0.83659285 0.83584338]\n",
      "* - END OF REPORT -\n",
      "\n"
     ]
    }
   ],
   "source": [
    "print(collection.query_report_)"
   ]
  },
  {
   "cell_type": "markdown",
   "id": "fd2442a6-b266-4fcc-9ca7-27a2a7f8c924",
   "metadata": {},
   "source": [
    "## Using the threads to speed up queries"
   ]
  },
  {
   "cell_type": "code",
   "execution_count": 7,
   "id": "6870d5b8-e239-45da-83ad-2b823a63929c",
   "metadata": {
    "execution": {
     "iopub.execute_input": "2024-05-08T09:03:28.216716Z",
     "iopub.status.busy": "2024-05-08T09:03:28.216583Z",
     "iopub.status.idle": "2024-05-08T09:03:28.366234Z",
     "shell.execute_reply": "2024-05-08T09:03:28.365954Z",
     "shell.execute_reply.started": "2024-05-08T09:03:28.216704Z"
    }
   },
   "outputs": [],
   "source": [
    "collection = my_db.require_collection('test_vec', warm_up=True, n_threads=12)"
   ]
  },
  {
   "cell_type": "code",
   "execution_count": 8,
   "id": "3db89c3d-a56c-45be-9bc6-c0a5f650f149",
   "metadata": {
    "execution": {
     "iopub.execute_input": "2024-05-08T09:03:28.366762Z",
     "iopub.status.busy": "2024-05-08T09:03:28.366684Z",
     "iopub.status.idle": "2024-05-08T09:03:28.386863Z",
     "shell.execute_reply": "2024-05-08T09:03:28.386592Z",
     "shell.execute_reply.started": "2024-05-08T09:03:28.366753Z"
    }
   },
   "outputs": [
    {
     "data": {
      "text/plain": [
       "(array([94266, 99764, 52370, 18625, 83560, 37216, 88531, 92751, 36865,\n",
       "        82313,  5831, 24125]),\n",
       " array([0.84063417, 0.83860576, 0.8363837 , 0.83500779, 0.83492041,\n",
       "        0.83388281, 0.8333267 , 0.83215773, 0.83001536, 0.82889783,\n",
       "        0.82689053, 0.82600659]))"
      ]
     },
     "execution_count": 8,
     "metadata": {},
     "output_type": "execute_result"
    }
   ],
   "source": [
    "import numpy as np\n",
    "\n",
    "collection.query(np.random.random(128), k=12)"
   ]
  },
  {
   "cell_type": "code",
   "execution_count": 9,
   "id": "5cb94252-a055-4dda-8fcb-be779185234c",
   "metadata": {
    "execution": {
     "iopub.execute_input": "2024-05-08T09:03:28.387471Z",
     "iopub.status.busy": "2024-05-08T09:03:28.387392Z",
     "iopub.status.idle": "2024-05-08T09:03:28.392514Z",
     "shell.execute_reply": "2024-05-08T09:03:28.392138Z",
     "shell.execute_reply.started": "2024-05-08T09:03:28.387463Z"
    }
   },
   "outputs": [
    {
     "name": "stdout",
     "output_type": "stream",
     "text": [
      "\n",
      "* - MOST RECENT QUERY REPORT -\n",
      "| - Collection Shape: (100000, 128)\n",
      "| - Query Time: 0.01483 s\n",
      "| - Query Distance: cosine\n",
      "| - Query K: 12\n",
      "| - Top 12 Results ID: [94266 99764 52370 18625 83560 37216 88531 92751 36865 82313  5831 24125]\n",
      "| - Top 12 Results Similarity: [0.84063417 0.83860576 0.8363837  0.83500779 0.83492041 0.83388281\n",
      " 0.8333267  0.83215773 0.83001536 0.82889783 0.82689053 0.82600659]\n",
      "* - END OF REPORT -\n",
      "\n"
     ]
    }
   ],
   "source": [
    "print(collection.query_report_)"
   ]
  },
  {
   "cell_type": "markdown",
   "id": "04a5f8bf-ae93-4441-a902-c8cd3087ed42",
   "metadata": {},
   "source": [
    "## Using Filter to narrow down the search range"
   ]
  },
  {
   "cell_type": "code",
   "execution_count": 10,
   "id": "7fb353f5-d818-4e2c-9cca-dc82a3c2f5f2",
   "metadata": {
    "execution": {
     "iopub.execute_input": "2024-05-08T09:03:28.393066Z",
     "iopub.status.busy": "2024-05-08T09:03:28.392957Z",
     "iopub.status.idle": "2024-05-08T09:03:28.429748Z",
     "shell.execute_reply": "2024-05-08T09:03:28.429459Z",
     "shell.execute_reply.started": "2024-05-08T09:03:28.393058Z"
    }
   },
   "outputs": [
    {
     "data": {
      "text/plain": [
       "(array([1, 5, 2, 4, 3]),\n",
       " array([0.80589008, 0.78945273, 0.74684119, 0.73874426, 0.71410728]))"
      ]
     },
     "execution_count": 10,
     "metadata": {},
     "output_type": "execute_result"
    }
   ],
   "source": [
    "import operator\n",
    "\n",
    "from min_vec.core_components.filter import Filter, FieldCondition, MatchField, IDCondition, MatchID\n",
    "\n",
    "\n",
    "collection.query(\n",
    "    vector=np.random.random(128), \n",
    "    k=10, \n",
    "    query_filter=Filter(\n",
    "        must=[\n",
    "            FieldCondition(key='test', matcher=MatchField('test_0')),  # Support for filtering fields\n",
    "            IDCondition(MatchID([1, 2, 3, 4, 5]))  # Support for filtering IDs\n",
    "        ], \n",
    "        # any=[\n",
    "        #     FieldCondition(key='field', matcher=MatchField('test_1')),\n",
    "        #     FieldCondition(key='order', matcher=MatchField(8, comparator=operator.ge)),\n",
    "        #     IDCondition(MatchID([1, 2, 3, 4, 5])),\n",
    "        # ]\n",
    "    )\n",
    ")"
   ]
  }
 ],
 "metadata": {
  "kernelspec": {
   "display_name": "Python 3 (ipykernel)",
   "language": "python",
   "name": "python3"
  },
  "language_info": {
   "codemirror_mode": {
    "name": "ipython",
    "version": 3
   },
   "file_extension": ".py",
   "mimetype": "text/x-python",
   "name": "python",
   "nbconvert_exporter": "python",
   "pygments_lexer": "ipython3",
   "version": "3.11.5"
  }
 },
 "nbformat": 4,
 "nbformat_minor": 5
}
