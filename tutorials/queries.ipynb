{
 "cells": [
  {
   "cell_type": "code",
   "execution_count": 1,
   "id": "66c95394-cb4f-4056-8520-fd632e7299d8",
   "metadata": {
    "execution": {
     "iopub.execute_input": "2024-04-26T09:56:12.558692Z",
     "iopub.status.busy": "2024-04-26T09:56:12.558595Z",
     "iopub.status.idle": "2024-04-26T09:56:12.563937Z",
     "shell.execute_reply": "2024-04-26T09:56:12.563615Z",
     "shell.execute_reply.started": "2024-04-26T09:56:12.558676Z"
    }
   },
   "outputs": [],
   "source": [
    "from min_vec import MinVectorDB"
   ]
  },
  {
   "cell_type": "code",
   "execution_count": 2,
   "id": "68c0d3a6-5802-4d90-a435-46311ed65914",
   "metadata": {
    "execution": {
     "iopub.execute_input": "2024-04-26T09:56:12.567098Z",
     "iopub.status.busy": "2024-04-26T09:56:12.566767Z",
     "iopub.status.idle": "2024-04-26T09:56:14.322419Z",
     "shell.execute_reply": "2024-04-26T09:56:14.322139Z",
     "shell.execute_reply.started": "2024-04-26T09:56:12.567080Z"
    }
   },
   "outputs": [],
   "source": [
    "# Local server\n",
    "my_db = MinVectorDB(\"http://localhost:7637\")\n",
    "# or if in docker\n",
    "# my_db = MinVectorDB(\"http://localhost:5403\")\n",
    "# or specify a path\n",
    "# my_db = MinVectorDB(\"my_vec\")"
   ]
  },
  {
   "cell_type": "code",
   "execution_count": 3,
   "id": "89a00bcd-fa2e-40b4-85aa-46fd8c8ab49f",
   "metadata": {
    "execution": {
     "iopub.execute_input": "2024-04-26T09:56:14.322904Z",
     "iopub.status.busy": "2024-04-26T09:56:14.322797Z",
     "iopub.status.idle": "2024-04-26T09:56:14.457918Z",
     "shell.execute_reply": "2024-04-26T09:56:14.457557Z",
     "shell.execute_reply.started": "2024-04-26T09:56:14.322894Z"
    }
   },
   "outputs": [],
   "source": [
    "collection = my_db.require_collection(collection='test_vec', dim=128, index_mode='FLAT', drop_if_exists=True, warm_up=True)"
   ]
  },
  {
   "cell_type": "code",
   "execution_count": 4,
   "id": "059d33ca-1f1e-4d02-b52f-2eb760ab1146",
   "metadata": {
    "execution": {
     "iopub.execute_input": "2024-04-26T09:56:14.458548Z",
     "iopub.status.busy": "2024-04-26T09:56:14.458452Z",
     "iopub.status.idle": "2024-04-26T09:56:30.233269Z",
     "shell.execute_reply": "2024-04-26T09:56:30.232955Z",
     "shell.execute_reply.started": "2024-04-26T09:56:14.458537Z"
    }
   },
   "outputs": [],
   "source": [
    "from tqdm import trange\n",
    "\n",
    "import numpy as np\n",
    "\n",
    "with collection.insert_session():\n",
    "    vectors = []\n",
    "    for i in range(100000):\n",
    "        if i == 0:\n",
    "            query = np.random.random(128)\n",
    "            vec = query\n",
    "        else:\n",
    "            vec = np.random.random(128)\n",
    "\n",
    "        vectors.append((vec, i, {\"test\":f\"test_{i // 1000}\"}))\n",
    "    collection.bulk_add_items(vectors)"
   ]
  },
  {
   "cell_type": "markdown",
   "id": "343f993b-4823-4a0d-8b07-a5b8a6f1a787",
   "metadata": {},
   "source": [
    "## Run a query"
   ]
  },
  {
   "cell_type": "code",
   "execution_count": 5,
   "id": "15d94f52-2317-4c34-b391-66c5a38846b8",
   "metadata": {
    "execution": {
     "iopub.execute_input": "2024-04-26T09:56:30.233833Z",
     "iopub.status.busy": "2024-04-26T09:56:30.233745Z",
     "iopub.status.idle": "2024-04-26T09:56:30.390440Z",
     "shell.execute_reply": "2024-04-26T09:56:30.390090Z",
     "shell.execute_reply.started": "2024-04-26T09:56:30.233825Z"
    }
   },
   "outputs": [
    {
     "data": {
      "text/plain": [
       "(array([ 7679, 90229, 24612, 68119, 21638, 58263, 46543,  6583, 27181,\n",
       "        21306, 39178, 99607]),\n",
       " array([0.85250688, 0.85047561, 0.85037601, 0.85004568, 0.84859741,\n",
       "        0.8456679 , 0.84561676, 0.84544003, 0.84468186, 0.84423292,\n",
       "        0.84214365, 0.84154063]))"
      ]
     },
     "execution_count": 5,
     "metadata": {},
     "output_type": "execute_result"
    }
   ],
   "source": [
    "collection.query(np.random.random(128), k=12)"
   ]
  },
  {
   "cell_type": "markdown",
   "id": "2eeb5033-05e7-4841-8fc8-9c6a1d943b71",
   "metadata": {},
   "source": [
    "## Print the most recent query report"
   ]
  },
  {
   "cell_type": "code",
   "execution_count": 6,
   "id": "0cd1296f-f1a0-49ae-a6d0-507a0e57d778",
   "metadata": {
    "execution": {
     "iopub.execute_input": "2024-04-26T09:56:30.391081Z",
     "iopub.status.busy": "2024-04-26T09:56:30.390984Z",
     "iopub.status.idle": "2024-04-26T09:56:30.396376Z",
     "shell.execute_reply": "2024-04-26T09:56:30.396092Z",
     "shell.execute_reply.started": "2024-04-26T09:56:30.391073Z"
    }
   },
   "outputs": [
    {
     "name": "stdout",
     "output_type": "stream",
     "text": [
      "\n",
      "* - MOST RECENT QUERY REPORT -\n",
      "| - Collection Shape: (100000, 128)\n",
      "| - Query Time: 0.15326 s\n",
      "| - Query Distance: cosine\n",
      "| - Query K: 12\n",
      "| - Top 12 Results ID: [ 7679 90229 24612 68119 21638 58263 46543  6583 27181 21306 39178 99607]\n",
      "| - Top 12 Results Similarity: [0.85250688 0.85047561 0.85037601 0.85004568 0.84859741 0.8456679\n",
      " 0.84561676 0.84544003 0.84468186 0.84423292 0.84214365 0.84154063]\n",
      "* - END OF REPORT -\n",
      "\n"
     ]
    }
   ],
   "source": [
    "print(collection.query_report_)"
   ]
  },
  {
   "cell_type": "markdown",
   "id": "fd2442a6-b266-4fcc-9ca7-27a2a7f8c924",
   "metadata": {},
   "source": [
    "## Using the threads to speed up queries"
   ]
  },
  {
   "cell_type": "code",
   "execution_count": 7,
   "id": "6870d5b8-e239-45da-83ad-2b823a63929c",
   "metadata": {
    "execution": {
     "iopub.execute_input": "2024-04-26T09:56:30.398220Z",
     "iopub.status.busy": "2024-04-26T09:56:30.398064Z",
     "iopub.status.idle": "2024-04-26T09:56:30.530916Z",
     "shell.execute_reply": "2024-04-26T09:56:30.530029Z",
     "shell.execute_reply.started": "2024-04-26T09:56:30.398204Z"
    }
   },
   "outputs": [],
   "source": [
    "collection = my_db.require_collection('test_vec', warm_up=True, n_threads=12)"
   ]
  },
  {
   "cell_type": "code",
   "execution_count": 8,
   "id": "3db89c3d-a56c-45be-9bc6-c0a5f650f149",
   "metadata": {
    "execution": {
     "iopub.execute_input": "2024-04-26T09:56:30.536661Z",
     "iopub.status.busy": "2024-04-26T09:56:30.533571Z",
     "iopub.status.idle": "2024-04-26T09:56:30.566751Z",
     "shell.execute_reply": "2024-04-26T09:56:30.566329Z",
     "shell.execute_reply.started": "2024-04-26T09:56:30.536624Z"
    }
   },
   "outputs": [
    {
     "data": {
      "text/plain": [
       "(array([24281, 90331, 11688, 10765, 68975, 42201, 70065, 80765, 96349,\n",
       "        29354, 91688,  8939]),\n",
       " array([0.85525101, 0.85452056, 0.852422  , 0.84794348, 0.84703207,\n",
       "        0.84698379, 0.84631741, 0.84555084, 0.84501308, 0.84477574,\n",
       "        0.84126043, 0.84109133]))"
      ]
     },
     "execution_count": 8,
     "metadata": {},
     "output_type": "execute_result"
    }
   ],
   "source": [
    "import numpy as np\n",
    "\n",
    "collection.query(np.random.random(128), k=12)"
   ]
  },
  {
   "cell_type": "code",
   "execution_count": 9,
   "id": "5cb94252-a055-4dda-8fcb-be779185234c",
   "metadata": {
    "execution": {
     "iopub.execute_input": "2024-04-26T09:56:30.567494Z",
     "iopub.status.busy": "2024-04-26T09:56:30.567310Z",
     "iopub.status.idle": "2024-04-26T09:56:30.574937Z",
     "shell.execute_reply": "2024-04-26T09:56:30.574494Z",
     "shell.execute_reply.started": "2024-04-26T09:56:30.567483Z"
    }
   },
   "outputs": [
    {
     "name": "stdout",
     "output_type": "stream",
     "text": [
      "\n",
      "* - MOST RECENT QUERY REPORT -\n",
      "| - Collection Shape: (100000, 128)\n",
      "| - Query Time: 0.02677 s\n",
      "| - Query Distance: cosine\n",
      "| - Query K: 12\n",
      "| - Top 12 Results ID: [24281 90331 11688 10765 68975 42201 70065 80765 96349 29354 91688  8939]\n",
      "| - Top 12 Results Similarity: [0.85525101 0.85452056 0.852422   0.84794348 0.84703207 0.84698379\n",
      " 0.84631741 0.84555084 0.84501308 0.84477574 0.84126043 0.84109133]\n",
      "* - END OF REPORT -\n",
      "\n"
     ]
    }
   ],
   "source": [
    "print(collection.query_report_)"
   ]
  },
  {
   "cell_type": "markdown",
   "id": "04a5f8bf-ae93-4441-a902-c8cd3087ed42",
   "metadata": {},
   "source": [
    "## Using Filter to narrow down the search range"
   ]
  },
  {
   "cell_type": "code",
   "execution_count": 10,
   "id": "7fb353f5-d818-4e2c-9cca-dc82a3c2f5f2",
   "metadata": {
    "execution": {
     "iopub.execute_input": "2024-04-26T09:56:30.575555Z",
     "iopub.status.busy": "2024-04-26T09:56:30.575449Z",
     "iopub.status.idle": "2024-04-26T09:56:30.727803Z",
     "shell.execute_reply": "2024-04-26T09:56:30.727550Z",
     "shell.execute_reply.started": "2024-04-26T09:56:30.575543Z"
    }
   },
   "outputs": [
    {
     "data": {
      "text/plain": [
       "(array([625, 746, 954, 922, 767, 358, 545, 259, 180, 477]),\n",
       " array([0.81069911, 0.80934203, 0.8072319 , 0.80611736, 0.8055706 ,\n",
       "        0.80454683, 0.80333745, 0.79985464, 0.79888523, 0.79844809]))"
      ]
     },
     "execution_count": 10,
     "metadata": {},
     "output_type": "execute_result"
    }
   ],
   "source": [
    "import operator\n",
    "\n",
    "from min_vec.structures.filter import Filter, FieldCondition, MatchField, IDCondition, MatchID\n",
    "\n",
    "\n",
    "collection.query(\n",
    "    vector=np.random.random(128), \n",
    "    k=10, \n",
    "    query_filter=Filter(\n",
    "        must=[\n",
    "            FieldCondition(key='test', matcher=MatchField('test_0')),  # Support for filtering fields\n",
    "            IDCondition(MatchID([1, 2, 3, 4, 5]))  # Support for filtering IDs\n",
    "        ], \n",
    "        # any=[\n",
    "        #     FieldCondition(key='field', matcher=MatchField('test_1')),\n",
    "        #     FieldCondition(key='order', matcher=MatchField(8, comparator=operator.ge)),\n",
    "        #     IDCondition(MatchID([1, 2, 3, 4, 5])),\n",
    "        # ]\n",
    "    )\n",
    ")"
   ]
  }
 ],
 "metadata": {
  "kernelspec": {
   "display_name": "Python 3 (ipykernel)",
   "language": "python",
   "name": "python3"
  },
  "language_info": {
   "codemirror_mode": {
    "name": "ipython",
    "version": 3
   },
   "file_extension": ".py",
   "mimetype": "text/x-python",
   "name": "python",
   "nbconvert_exporter": "python",
   "pygments_lexer": "ipython3",
   "version": "3.11.5"
  }
 },
 "nbformat": 4,
 "nbformat_minor": 5
}
