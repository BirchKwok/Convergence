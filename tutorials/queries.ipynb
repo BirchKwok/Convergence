{
 "cells": [
  {
   "cell_type": "code",
   "execution_count": 1,
   "id": "66c95394-cb4f-4056-8520-fd632e7299d8",
   "metadata": {
    "execution": {
     "iopub.execute_input": "2024-05-30T08:40:00.582295Z",
     "iopub.status.busy": "2024-05-30T08:40:00.581840Z",
     "iopub.status.idle": "2024-05-30T08:40:00.982324Z",
     "shell.execute_reply": "2024-05-30T08:40:00.982030Z",
     "shell.execute_reply.started": "2024-05-30T08:40:00.582101Z"
    }
   },
   "outputs": [],
   "source": [
    "import min_vec"
   ]
  },
  {
   "cell_type": "code",
   "execution_count": 2,
   "id": "68c0d3a6-5802-4d90-a435-46311ed65914",
   "metadata": {
    "execution": {
     "iopub.execute_input": "2024-05-30T08:40:00.983439Z",
     "iopub.status.busy": "2024-05-30T08:40:00.983315Z",
     "iopub.status.idle": "2024-05-30T08:40:01.791778Z",
     "shell.execute_reply": "2024-05-30T08:40:01.791454Z",
     "shell.execute_reply.started": "2024-05-30T08:40:00.983432Z"
    }
   },
   "outputs": [],
   "source": [
    "client = min_vec.VectorDBClient(\"http://localhost:7637\")\n",
    "my_db = client.create_database(\"my_vec_db\", drop_if_exists=False)"
   ]
  },
  {
   "cell_type": "code",
   "execution_count": 3,
   "id": "89a00bcd-fa2e-40b4-85aa-46fd8c8ab49f",
   "metadata": {
    "execution": {
     "iopub.execute_input": "2024-05-30T08:40:01.792529Z",
     "iopub.status.busy": "2024-05-30T08:40:01.792409Z",
     "iopub.status.idle": "2024-05-30T08:40:01.961645Z",
     "shell.execute_reply": "2024-05-30T08:40:01.961260Z",
     "shell.execute_reply.started": "2024-05-30T08:40:01.792521Z"
    }
   },
   "outputs": [],
   "source": [
    "collection = my_db.require_collection(collection='test_vec', dim=128, drop_if_exists=True, warm_up=True)"
   ]
  },
  {
   "cell_type": "code",
   "execution_count": 4,
   "id": "059d33ca-1f1e-4d02-b52f-2eb760ab1146",
   "metadata": {
    "execution": {
     "iopub.execute_input": "2024-05-30T08:40:01.962154Z",
     "iopub.status.busy": "2024-05-30T08:40:01.962061Z",
     "iopub.status.idle": "2024-05-30T08:40:04.410141Z",
     "shell.execute_reply": "2024-05-30T08:40:04.409340Z",
     "shell.execute_reply.started": "2024-05-30T08:40:01.962145Z"
    }
   },
   "outputs": [
    {
     "name": "stderr",
     "output_type": "stream",
     "text": [
      "Adding items: 100%|██████████| 100/100 [00:01<00:00, 51.88batch/s]\n"
     ]
    }
   ],
   "source": [
    "from tqdm import trange\n",
    "\n",
    "import numpy as np\n",
    "\n",
    "with collection.insert_session() as session:\n",
    "    vectors = []\n",
    "    for i in range(100000):\n",
    "        if i == 0:\n",
    "            query = np.random.random(128)\n",
    "            vec = query\n",
    "        else:\n",
    "            vec = np.random.random(128)\n",
    "\n",
    "        vectors.append((vec, i, {\"test\":f\"test_{i // 1000}\"}))\n",
    "    session.bulk_add_items(vectors)"
   ]
  },
  {
   "cell_type": "markdown",
   "id": "343f993b-4823-4a0d-8b07-a5b8a6f1a787",
   "metadata": {},
   "source": [
    "## Run a query"
   ]
  },
  {
   "cell_type": "code",
   "execution_count": 5,
   "id": "15d94f52-2317-4c34-b391-66c5a38846b8",
   "metadata": {
    "execution": {
     "iopub.execute_input": "2024-05-30T08:40:04.418869Z",
     "iopub.status.busy": "2024-05-30T08:40:04.411444Z",
     "iopub.status.idle": "2024-05-30T08:40:04.594085Z",
     "shell.execute_reply": "2024-05-30T08:40:04.593474Z",
     "shell.execute_reply.started": "2024-05-30T08:40:04.418822Z"
    }
   },
   "outputs": [
    {
     "data": {
      "text/plain": [
       "(array([89739, 67302, 86506, 35637, 53829, 90629, 16648, 79609,  9411,\n",
       "        48882, 11022, 27272]),\n",
       " array([5.99303675, 5.94914007, 5.92649078, 5.87868452, 5.87307835,\n",
       "        5.84338474, 5.83773851, 5.82701254, 5.82503891, 5.82236385,\n",
       "        5.82101488, 5.81897736]))"
      ]
     },
     "execution_count": 5,
     "metadata": {},
     "output_type": "execute_result"
    }
   ],
   "source": [
    "collection.search(np.random.random(128), k=12)"
   ]
  },
  {
   "cell_type": "markdown",
   "id": "2eeb5033-05e7-4841-8fc8-9c6a1d943b71",
   "metadata": {},
   "source": [
    "## Print the most recent query report"
   ]
  },
  {
   "cell_type": "code",
   "execution_count": 6,
   "id": "0cd1296f-f1a0-49ae-a6d0-507a0e57d778",
   "metadata": {
    "execution": {
     "iopub.execute_input": "2024-05-30T08:40:04.595528Z",
     "iopub.status.busy": "2024-05-30T08:40:04.594926Z",
     "iopub.status.idle": "2024-05-30T08:40:04.604804Z",
     "shell.execute_reply": "2024-05-30T08:40:04.604490Z",
     "shell.execute_reply.started": "2024-05-30T08:40:04.595505Z"
    }
   },
   "outputs": [
    {
     "name": "stdout",
     "output_type": "stream",
     "text": [
      "\n",
      "* - MOST RECENT SEARCH REPORT -\n",
      "| - Collection Shape: (100000, 128)\n",
      "| - Search Time: 0.15519 s\n",
      "| - Search Distance: cosine\n",
      "| - Search K: 12\n",
      "| - Top 12 Results ID: [89739 67302 86506 35637 53829 90629 16648 79609  9411 48882 11022 27272]\n",
      "| - Top 12 Results Similarity: [5.99303675 5.94914007 5.92649078 5.87868452 5.87307835 5.84338474\n",
      " 5.83773851 5.82701254 5.82503891 5.82236385 5.82101488 5.81897736]\n",
      "\n"
     ]
    }
   ],
   "source": [
    "print(collection.search_report_)"
   ]
  },
  {
   "cell_type": "markdown",
   "id": "fd2442a6-b266-4fcc-9ca7-27a2a7f8c924",
   "metadata": {},
   "source": [
    "## Using the threads to speed up queries"
   ]
  },
  {
   "cell_type": "code",
   "execution_count": 7,
   "id": "6870d5b8-e239-45da-83ad-2b823a63929c",
   "metadata": {
    "execution": {
     "iopub.execute_input": "2024-05-30T08:40:04.607802Z",
     "iopub.status.busy": "2024-05-30T08:40:04.607399Z",
     "iopub.status.idle": "2024-05-30T08:40:04.718666Z",
     "shell.execute_reply": "2024-05-30T08:40:04.718350Z",
     "shell.execute_reply.started": "2024-05-30T08:40:04.607765Z"
    }
   },
   "outputs": [],
   "source": [
    "collection = my_db.require_collection('test_vec', warm_up=True, n_threads=12)"
   ]
  },
  {
   "cell_type": "code",
   "execution_count": 8,
   "id": "3db89c3d-a56c-45be-9bc6-c0a5f650f149",
   "metadata": {
    "execution": {
     "iopub.execute_input": "2024-05-30T08:40:04.719184Z",
     "iopub.status.busy": "2024-05-30T08:40:04.719081Z",
     "iopub.status.idle": "2024-05-30T08:40:04.737353Z",
     "shell.execute_reply": "2024-05-30T08:40:04.737085Z",
     "shell.execute_reply.started": "2024-05-30T08:40:04.719174Z"
    }
   },
   "outputs": [
    {
     "data": {
      "text/plain": [
       "(array([42653, 29634, 71011, 47453, 91977, 27724, 86506, 62559, 40592,\n",
       "         6039, 39087,  7352]),\n",
       " array([6.00953531, 6.00372791, 5.99135399, 5.98910761, 5.96022749,\n",
       "        5.95478773, 5.95436335, 5.95208073, 5.93630934, 5.92994547,\n",
       "        5.92841339, 5.92321777]))"
      ]
     },
     "execution_count": 8,
     "metadata": {},
     "output_type": "execute_result"
    }
   ],
   "source": [
    "import numpy as np\n",
    "\n",
    "collection.search(np.random.random(128), k=12)"
   ]
  },
  {
   "cell_type": "code",
   "execution_count": 9,
   "id": "5cb94252-a055-4dda-8fcb-be779185234c",
   "metadata": {
    "execution": {
     "iopub.execute_input": "2024-05-30T08:40:04.737893Z",
     "iopub.status.busy": "2024-05-30T08:40:04.737810Z",
     "iopub.status.idle": "2024-05-30T08:40:04.743507Z",
     "shell.execute_reply": "2024-05-30T08:40:04.743043Z",
     "shell.execute_reply.started": "2024-05-30T08:40:04.737885Z"
    }
   },
   "outputs": [
    {
     "name": "stdout",
     "output_type": "stream",
     "text": [
      "\n",
      "* - MOST RECENT SEARCH REPORT -\n",
      "| - Collection Shape: (100000, 128)\n",
      "| - Search Time: 0.01304 s\n",
      "| - Search Distance: cosine\n",
      "| - Search K: 12\n",
      "| - Top 12 Results ID: [42653 29634 71011 47453 91977 27724 86506 62559 40592  6039 39087  7352]\n",
      "| - Top 12 Results Similarity: [6.00953531 6.00372791 5.99135399 5.98910761 5.96022749 5.95478773\n",
      " 5.95436335 5.95208073 5.93630934 5.92994547 5.92841339 5.92321777]\n",
      "\n"
     ]
    }
   ],
   "source": [
    "print(collection.search_report_)"
   ]
  },
  {
   "cell_type": "markdown",
   "id": "04a5f8bf-ae93-4441-a902-c8cd3087ed42",
   "metadata": {},
   "source": [
    "## Using Filter to narrow down the search range"
   ]
  },
  {
   "cell_type": "code",
   "execution_count": 10,
   "id": "7fb353f5-d818-4e2c-9cca-dc82a3c2f5f2",
   "metadata": {
    "execution": {
     "iopub.execute_input": "2024-05-30T08:40:04.744604Z",
     "iopub.status.busy": "2024-05-30T08:40:04.744349Z",
     "iopub.status.idle": "2024-05-30T08:40:06.063824Z",
     "shell.execute_reply": "2024-05-30T08:40:06.063212Z",
     "shell.execute_reply.started": "2024-05-30T08:40:04.744515Z"
    }
   },
   "outputs": [
    {
     "data": {
      "text/plain": [
       "(array([1, 3, 5, 4, 2]),\n",
       " array([5.25115204, 5.11612701, 4.93157673, 4.752244  , 4.59541464]))"
      ]
     },
     "execution_count": 10,
     "metadata": {},
     "output_type": "execute_result"
    }
   ],
   "source": [
    "import operator\n",
    "\n",
    "from min_vec.field_models import Filter, FieldCondition, MatchField, MatchID\n",
    "\n",
    "\n",
    "collection.search(\n",
    "    vector=np.random.random(128), \n",
    "    k=10, \n",
    "    search_filter=Filter(\n",
    "        must=[\n",
    "            FieldCondition(key='test', matcher=MatchField('test_0')),  # Support for filtering fields\n",
    "            FieldCondition(key=\":match_id:\", matcher=MatchID([1, 2, 3, 4, 5]))  # Support for filtering IDs\n",
    "        ], \n",
    "        any=[\n",
    "            FieldCondition(key='field', matcher=MatchField('test_1')),\n",
    "            FieldCondition(key='order', matcher=MatchField(8, comparator=operator.ge)),\n",
    "            FieldCondition(key=\":match_id:\", matcher=MatchID([1, 2, 3, 4, 5])),\n",
    "        ]\n",
    "    )\n",
    ")"
   ]
  }
 ],
 "metadata": {
  "kernelspec": {
   "display_name": "Python 3 (ipykernel)",
   "language": "python",
   "name": "python3"
  },
  "language_info": {
   "codemirror_mode": {
    "name": "ipython",
    "version": 3
   },
   "file_extension": ".py",
   "mimetype": "text/x-python",
   "name": "python",
   "nbconvert_exporter": "python",
   "pygments_lexer": "ipython3",
   "version": "3.11.5"
  }
 },
 "nbformat": 4,
 "nbformat_minor": 5
}
