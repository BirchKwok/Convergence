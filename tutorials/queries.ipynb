{
 "cells": [
  {
   "cell_type": "code",
   "execution_count": 1,
   "id": "66c95394-cb4f-4056-8520-fd632e7299d8",
   "metadata": {
    "execution": {
     "iopub.execute_input": "2024-06-18T03:52:44.014433Z",
     "iopub.status.busy": "2024-06-18T03:52:44.014123Z",
     "iopub.status.idle": "2024-06-18T03:52:44.154745Z",
     "shell.execute_reply": "2024-06-18T03:52:44.152829Z",
     "shell.execute_reply.started": "2024-06-18T03:52:44.014410Z"
    }
   },
   "outputs": [],
   "source": [
    "import lynse"
   ]
  },
  {
   "cell_type": "code",
   "execution_count": 2,
   "id": "68c0d3a6-5802-4d90-a435-46311ed65914",
   "metadata": {
    "execution": {
     "iopub.execute_input": "2024-06-18T03:52:52.868244Z",
     "iopub.status.busy": "2024-06-18T03:52:52.867183Z",
     "iopub.status.idle": "2024-06-18T03:52:53.433434Z",
     "shell.execute_reply": "2024-06-18T03:52:53.433060Z",
     "shell.execute_reply.started": "2024-06-18T03:52:52.868195Z"
    }
   },
   "outputs": [],
   "source": [
    "client = lynse.VectorDBClient(\"http://127.0.0.1:7637\")\n",
    "my_db = client.create_database(\"my_vec_db\", drop_if_exists=True)"
   ]
  },
  {
   "cell_type": "code",
   "execution_count": 3,
   "id": "89a00bcd-fa2e-40b4-85aa-46fd8c8ab49f",
   "metadata": {
    "execution": {
     "iopub.execute_input": "2024-06-18T03:52:59.102463Z",
     "iopub.status.busy": "2024-06-18T03:52:59.101587Z",
     "iopub.status.idle": "2024-06-18T03:52:59.147260Z",
     "shell.execute_reply": "2024-06-18T03:52:59.146925Z",
     "shell.execute_reply.started": "2024-06-18T03:52:59.102430Z"
    }
   },
   "outputs": [],
   "source": [
    "collection = my_db.require_collection(collection='test_vec', dim=128, drop_if_exists=True, warm_up=True)"
   ]
  },
  {
   "cell_type": "code",
   "execution_count": 4,
   "id": "059d33ca-1f1e-4d02-b52f-2eb760ab1146",
   "metadata": {
    "execution": {
     "iopub.execute_input": "2024-06-18T03:53:01.619281Z",
     "iopub.status.busy": "2024-06-18T03:53:01.618184Z",
     "iopub.status.idle": "2024-06-18T03:54:28.764955Z",
     "shell.execute_reply": "2024-06-18T03:54:28.764480Z",
     "shell.execute_reply.started": "2024-06-18T03:53:01.619086Z"
    }
   },
   "outputs": [
    {
     "name": "stderr",
     "output_type": "stream",
     "text": [
      "Adding items: 100%|██████████| 1000/1000 [00:23<00:00, 43.02batch/s]\n",
      "\n",
      "2024-06-18 11:54:26 - LynseDB - INFO - Task status: {'status': 'Processing'}\n",
      "2024-06-18 11:54:28 - LynseDB - INFO - Task status: {'result': {'collection_name': 'test_vec', 'database_name': 'my_vec_db'}, 'status': 'Success'}\r"
     ]
    }
   ],
   "source": [
    "from tqdm import trange\n",
    "\n",
    "import numpy as np\n",
    "\n",
    "with collection.insert_session() as session:\n",
    "    vectors = []\n",
    "    for i in range(1000000):\n",
    "        if i == 0:\n",
    "            query = np.random.random(128)\n",
    "            vec = query\n",
    "        else:\n",
    "            vec = np.random.random(128)\n",
    "\n",
    "        vectors.append((vec, i, {\"test\":f\"test_{i // 1000}\"}))\n",
    "    session.bulk_add_items(vectors)"
   ]
  },
  {
   "cell_type": "markdown",
   "id": "343f993b-4823-4a0d-8b07-a5b8a6f1a787",
   "metadata": {},
   "source": [
    "## Run a query"
   ]
  },
  {
   "cell_type": "code",
   "execution_count": 5,
   "id": "15d94f52-2317-4c34-b391-66c5a38846b8",
   "metadata": {
    "execution": {
     "iopub.execute_input": "2024-06-18T03:54:40.659888Z",
     "iopub.status.busy": "2024-06-18T03:54:40.659035Z",
     "iopub.status.idle": "2024-06-18T03:54:40.749232Z",
     "shell.execute_reply": "2024-06-18T03:54:40.748604Z",
     "shell.execute_reply.started": "2024-06-18T03:54:40.659824Z"
    }
   },
   "outputs": [
    {
     "data": {
      "text/plain": [
       "(array([442186, 369906, 760258, 417597, 824217, 852957, 751271, 563815,\n",
       "         63866, 502490, 612428, 469497]),\n",
       " array([0.83674979, 0.82599759, 0.82425785, 0.82280737, 0.82215673,\n",
       "        0.81662929, 0.81500018, 0.81495905, 0.80531317, 0.80293918,\n",
       "        0.79240268, 0.7873373 ]),\n",
       " None)"
      ]
     },
     "execution_count": 5,
     "metadata": {},
     "output_type": "execute_result"
    }
   ],
   "source": [
    "collection.search(np.random.random(128), k=12)"
   ]
  },
  {
   "cell_type": "markdown",
   "id": "2eeb5033-05e7-4841-8fc8-9c6a1d943b71",
   "metadata": {},
   "source": [
    "## Print the most recent query report"
   ]
  },
  {
   "cell_type": "code",
   "execution_count": 6,
   "id": "0cd1296f-f1a0-49ae-a6d0-507a0e57d778",
   "metadata": {
    "execution": {
     "iopub.execute_input": "2024-06-18T03:54:43.136107Z",
     "iopub.status.busy": "2024-06-18T03:54:43.135548Z",
     "iopub.status.idle": "2024-06-18T03:54:43.164674Z",
     "shell.execute_reply": "2024-06-18T03:54:43.164007Z",
     "shell.execute_reply.started": "2024-06-18T03:54:43.136083Z"
    }
   },
   "outputs": [
    {
     "name": "stdout",
     "output_type": "stream",
     "text": [
      "\n",
      "* - MOST RECENT SEARCH REPORT -\n",
      "| - Collection Shape: (1000000, 128)\n",
      "| - Search Time: 0.06849 s\n",
      "| - Search Distance: cosine\n",
      "| - Search K: 12\n",
      "| - Top 12 Results ID: [442186 369906 760258 417597 824217 852957 751271 563815  63866 502490\n",
      " 612428 469497]\n",
      "| - Top 12 Results Similarity: [0.83674979 0.82599759 0.82425785 0.82280737 0.82215673 0.81662929\n",
      " 0.81500018 0.81495905 0.80531317 0.80293918 0.79240268 0.7873373 ]\n",
      "\n"
     ]
    }
   ],
   "source": [
    "print(collection.search_report_)"
   ]
  },
  {
   "cell_type": "markdown",
   "id": "fd2442a6-b266-4fcc-9ca7-27a2a7f8c924",
   "metadata": {},
   "source": [
    "## Using the threads to speed up queries"
   ]
  },
  {
   "cell_type": "code",
   "execution_count": 7,
   "id": "6870d5b8-e239-45da-83ad-2b823a63929c",
   "metadata": {
    "execution": {
     "iopub.execute_input": "2024-06-18T03:54:49.631715Z",
     "iopub.status.busy": "2024-06-18T03:54:49.631152Z",
     "iopub.status.idle": "2024-06-18T03:54:50.233066Z",
     "shell.execute_reply": "2024-06-18T03:54:50.232597Z",
     "shell.execute_reply.started": "2024-06-18T03:54:49.631686Z"
    }
   },
   "outputs": [],
   "source": [
    "collection = my_db.require_collection('test_vec', warm_up=True, n_threads=12)"
   ]
  },
  {
   "cell_type": "code",
   "execution_count": 8,
   "id": "3db89c3d-a56c-45be-9bc6-c0a5f650f149",
   "metadata": {
    "execution": {
     "iopub.execute_input": "2024-06-18T03:54:52.874537Z",
     "iopub.status.busy": "2024-06-18T03:54:52.873855Z",
     "iopub.status.idle": "2024-06-18T03:54:52.985723Z",
     "shell.execute_reply": "2024-06-18T03:54:52.985007Z",
     "shell.execute_reply.started": "2024-06-18T03:54:52.874502Z"
    }
   },
   "outputs": [
    {
     "data": {
      "text/plain": [
       "(array([ 46875, 785480, 480978,  67796, 721626, 751271, 433003, 376463,\n",
       "         63866, 424603, 737830, 958699]),\n",
       " array([0.82882881, 0.82197392, 0.82114285, 0.8172878 , 0.81713367,\n",
       "        0.81522357, 0.81377411, 0.81365538, 0.81216002, 0.80962861,\n",
       "        0.80810547, 0.80175018]),\n",
       " None)"
      ]
     },
     "execution_count": 8,
     "metadata": {},
     "output_type": "execute_result"
    }
   ],
   "source": [
    "import numpy as np\n",
    "\n",
    "collection.search(np.random.random(128), k=12)"
   ]
  },
  {
   "cell_type": "code",
   "execution_count": 9,
   "id": "5cb94252-a055-4dda-8fcb-be779185234c",
   "metadata": {
    "execution": {
     "iopub.execute_input": "2024-06-18T03:54:53.897633Z",
     "iopub.status.busy": "2024-06-18T03:54:53.896792Z",
     "iopub.status.idle": "2024-06-18T03:54:53.911057Z",
     "shell.execute_reply": "2024-06-18T03:54:53.910437Z",
     "shell.execute_reply.started": "2024-06-18T03:54:53.897588Z"
    }
   },
   "outputs": [
    {
     "name": "stdout",
     "output_type": "stream",
     "text": [
      "\n",
      "* - MOST RECENT SEARCH REPORT -\n",
      "| - Collection Shape: (1000000, 128)\n",
      "| - Search Time: 0.10288 s\n",
      "| - Search Distance: cosine\n",
      "| - Search K: 12\n",
      "| - Top 12 Results ID: [ 46875 785480 480978  67796 721626 751271 433003 376463  63866 424603\n",
      " 737830 958699]\n",
      "| - Top 12 Results Similarity: [0.82882881 0.82197392 0.82114285 0.8172878  0.81713367 0.81522357\n",
      " 0.81377411 0.81365538 0.81216002 0.80962861 0.80810547 0.80175018]\n",
      "\n"
     ]
    }
   ],
   "source": [
    "print(collection.search_report_)"
   ]
  },
  {
   "cell_type": "markdown",
   "id": "04a5f8bf-ae93-4441-a902-c8cd3087ed42",
   "metadata": {},
   "source": [
    "## Using Filter to narrow down the search range"
   ]
  },
  {
   "cell_type": "code",
   "execution_count": 10,
   "id": "7fb353f5-d818-4e2c-9cca-dc82a3c2f5f2",
   "metadata": {
    "execution": {
     "iopub.execute_input": "2024-06-18T03:54:57.177212Z",
     "iopub.status.busy": "2024-06-18T03:54:57.176024Z",
     "iopub.status.idle": "2024-06-18T03:54:57.232060Z",
     "shell.execute_reply": "2024-06-18T03:54:57.231147Z",
     "shell.execute_reply.started": "2024-06-18T03:54:57.177176Z"
    }
   },
   "outputs": [
    {
     "data": {
      "text/plain": [
       "(array([2, 5, 1, 3, 4]),\n",
       " array([0.80089688, 0.78131926, 0.75293136, 0.72805262, 0.71561301]),\n",
       " None)"
      ]
     },
     "execution_count": 10,
     "metadata": {},
     "output_type": "execute_result"
    }
   ],
   "source": [
    "import operator\n",
    "\n",
    "from lynse.field_models import Filter, FieldCondition, MatchField, MatchID\n",
    "\n",
    "\n",
    "collection.search(\n",
    "    vector=np.random.random(128), \n",
    "    k=10, \n",
    "    search_filter=Filter(\n",
    "        must=[\n",
    "            FieldCondition(key='test', matcher=MatchField('test_0')),  # Support for filtering fields\n",
    "            FieldCondition(key=\":match_id:\", matcher=MatchID([1, 2, 3, 4, 5]))  # Support for filtering IDs\n",
    "        ], \n",
    "        any=[\n",
    "            FieldCondition(key='field', matcher=MatchField('test_1')),\n",
    "            FieldCondition(key='order', matcher=MatchField(8, comparator=operator.ge)),\n",
    "            FieldCondition(key=\":match_id:\", matcher=MatchID([1, 2, 3, 4, 5])),\n",
    "        ]\n",
    "    )\n",
    ")"
   ]
  }
 ],
 "metadata": {
  "kernelspec": {
   "display_name": "Python 3 (ipykernel)",
   "language": "python",
   "name": "python3"
  },
  "language_info": {
   "codemirror_mode": {
    "name": "ipython",
    "version": 3
   },
   "file_extension": ".py",
   "mimetype": "text/x-python",
   "name": "python",
   "nbconvert_exporter": "python",
   "pygments_lexer": "ipython3",
   "version": "3.11.5"
  }
 },
 "nbformat": 4,
 "nbformat_minor": 5
}
