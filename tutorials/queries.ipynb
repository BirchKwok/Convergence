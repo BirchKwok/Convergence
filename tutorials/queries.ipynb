{
 "cells": [
  {
   "cell_type": "code",
   "execution_count": 1,
   "id": "66c95394-cb4f-4056-8520-fd632e7299d8",
   "metadata": {
    "execution": {
     "iopub.execute_input": "2024-04-30T09:32:21.585415Z",
     "iopub.status.busy": "2024-04-30T09:32:21.585021Z",
     "iopub.status.idle": "2024-04-30T09:32:21.593384Z",
     "shell.execute_reply": "2024-04-30T09:32:21.592570Z",
     "shell.execute_reply.started": "2024-04-30T09:32:21.585390Z"
    }
   },
   "outputs": [],
   "source": [
    "from min_vec import MinVectorDB"
   ]
  },
  {
   "cell_type": "code",
   "execution_count": 2,
   "id": "68c0d3a6-5802-4d90-a435-46311ed65914",
   "metadata": {
    "execution": {
     "iopub.execute_input": "2024-04-30T09:32:22.095686Z",
     "iopub.status.busy": "2024-04-30T09:32:22.095322Z",
     "iopub.status.idle": "2024-04-30T09:32:22.893774Z",
     "shell.execute_reply": "2024-04-30T09:32:22.893414Z",
     "shell.execute_reply.started": "2024-04-30T09:32:22.095663Z"
    }
   },
   "outputs": [],
   "source": [
    "my_db = MinVectorDB(\"http://localhost:7637\")\n",
    "# or specify a path\n",
    "# my_db = MinVectorDB(\"my_vec\")"
   ]
  },
  {
   "cell_type": "code",
   "execution_count": 3,
   "id": "89a00bcd-fa2e-40b4-85aa-46fd8c8ab49f",
   "metadata": {
    "execution": {
     "iopub.execute_input": "2024-04-30T09:32:23.553319Z",
     "iopub.status.busy": "2024-04-30T09:32:23.552846Z",
     "iopub.status.idle": "2024-04-30T09:32:23.666139Z",
     "shell.execute_reply": "2024-04-30T09:32:23.665809Z",
     "shell.execute_reply.started": "2024-04-30T09:32:23.553296Z"
    }
   },
   "outputs": [],
   "source": [
    "collection = my_db.require_collection(collection='test_vec', dim=128, index_mode='FLAT', drop_if_exists=True, warm_up=True)"
   ]
  },
  {
   "cell_type": "code",
   "execution_count": 4,
   "id": "059d33ca-1f1e-4d02-b52f-2eb760ab1146",
   "metadata": {
    "execution": {
     "iopub.execute_input": "2024-04-30T09:32:24.524394Z",
     "iopub.status.busy": "2024-04-30T09:32:24.523859Z",
     "iopub.status.idle": "2024-04-30T09:32:26.772909Z",
     "shell.execute_reply": "2024-04-30T09:32:26.772137Z",
     "shell.execute_reply.started": "2024-04-30T09:32:24.524367Z"
    }
   },
   "outputs": [
    {
     "name": "stderr",
     "output_type": "stream",
     "text": [
      "Adding items: 100%|██████████| 100/100 [00:01<00:00, 60.48batch/s]\n"
     ]
    }
   ],
   "source": [
    "from tqdm import trange\n",
    "\n",
    "import numpy as np\n",
    "\n",
    "with collection.insert_session():\n",
    "    vectors = []\n",
    "    for i in range(100000):\n",
    "        if i == 0:\n",
    "            query = np.random.random(128)\n",
    "            vec = query\n",
    "        else:\n",
    "            vec = np.random.random(128)\n",
    "\n",
    "        vectors.append((vec, i, {\"test\":f\"test_{i // 1000}\"}))\n",
    "    collection.bulk_add_items(vectors)"
   ]
  },
  {
   "cell_type": "markdown",
   "id": "343f993b-4823-4a0d-8b07-a5b8a6f1a787",
   "metadata": {},
   "source": [
    "## Run a query"
   ]
  },
  {
   "cell_type": "code",
   "execution_count": 5,
   "id": "15d94f52-2317-4c34-b391-66c5a38846b8",
   "metadata": {
    "execution": {
     "iopub.execute_input": "2024-04-30T09:32:27.928018Z",
     "iopub.status.busy": "2024-04-30T09:32:27.927397Z",
     "iopub.status.idle": "2024-04-30T09:32:28.086284Z",
     "shell.execute_reply": "2024-04-30T09:32:28.085972Z",
     "shell.execute_reply.started": "2024-04-30T09:32:27.927979Z"
    }
   },
   "outputs": [
    {
     "data": {
      "text/plain": [
       "(array([35225, 61658, 56937, 22370, 76929, 82723, 39522, 83529, 75406,\n",
       "        65492, 65899, 17413]),\n",
       " array([0.84384322, 0.8412385 , 0.83857441, 0.83661389, 0.83605361,\n",
       "        0.83569294, 0.83545423, 0.83271849, 0.83241564, 0.83194226,\n",
       "        0.8318367 , 0.83105266]))"
      ]
     },
     "execution_count": 5,
     "metadata": {},
     "output_type": "execute_result"
    }
   ],
   "source": [
    "collection.query(np.random.random(128), k=12)"
   ]
  },
  {
   "cell_type": "markdown",
   "id": "2eeb5033-05e7-4841-8fc8-9c6a1d943b71",
   "metadata": {},
   "source": [
    "## Print the most recent query report"
   ]
  },
  {
   "cell_type": "code",
   "execution_count": 6,
   "id": "0cd1296f-f1a0-49ae-a6d0-507a0e57d778",
   "metadata": {
    "execution": {
     "iopub.execute_input": "2024-04-30T09:32:33.368310Z",
     "iopub.status.busy": "2024-04-30T09:32:33.367871Z",
     "iopub.status.idle": "2024-04-30T09:32:33.378516Z",
     "shell.execute_reply": "2024-04-30T09:32:33.378047Z",
     "shell.execute_reply.started": "2024-04-30T09:32:33.368287Z"
    }
   },
   "outputs": [
    {
     "name": "stdout",
     "output_type": "stream",
     "text": [
      "\n",
      "* - MOST RECENT QUERY REPORT -\n",
      "| - Collection Shape: (100000, 128)\n",
      "| - Query Time: 0.14791 s\n",
      "| - Query Distance: cosine\n",
      "| - Query K: 12\n",
      "| - Top 12 Results ID: [35225 61658 56937 22370 76929 82723 39522 83529 75406 65492 65899 17413]\n",
      "| - Top 12 Results Similarity: [0.84384322 0.8412385  0.83857441 0.83661389 0.83605361 0.83569294\n",
      " 0.83545423 0.83271849 0.83241564 0.83194226 0.8318367  0.83105266]\n",
      "* - END OF REPORT -\n",
      "\n"
     ]
    }
   ],
   "source": [
    "print(collection.query_report_)"
   ]
  },
  {
   "cell_type": "markdown",
   "id": "fd2442a6-b266-4fcc-9ca7-27a2a7f8c924",
   "metadata": {},
   "source": [
    "## Using the threads to speed up queries"
   ]
  },
  {
   "cell_type": "code",
   "execution_count": 7,
   "id": "6870d5b8-e239-45da-83ad-2b823a63929c",
   "metadata": {
    "execution": {
     "iopub.execute_input": "2024-04-30T09:32:35.122653Z",
     "iopub.status.busy": "2024-04-30T09:32:35.121983Z",
     "iopub.status.idle": "2024-04-30T09:32:35.338689Z",
     "shell.execute_reply": "2024-04-30T09:32:35.338138Z",
     "shell.execute_reply.started": "2024-04-30T09:32:35.122604Z"
    }
   },
   "outputs": [],
   "source": [
    "collection = my_db.require_collection('test_vec', warm_up=True, n_threads=12)"
   ]
  },
  {
   "cell_type": "code",
   "execution_count": 8,
   "id": "3db89c3d-a56c-45be-9bc6-c0a5f650f149",
   "metadata": {
    "execution": {
     "iopub.execute_input": "2024-04-30T09:32:35.932356Z",
     "iopub.status.busy": "2024-04-30T09:32:35.931444Z",
     "iopub.status.idle": "2024-04-30T09:32:35.976549Z",
     "shell.execute_reply": "2024-04-30T09:32:35.975850Z",
     "shell.execute_reply.started": "2024-04-30T09:32:35.932317Z"
    }
   },
   "outputs": [
    {
     "data": {
      "text/plain": [
       "(array([93933,  2038, 84168, 78918,  6980, 82806, 92899, 75307, 35830,\n",
       "        63711, 33628, 41216]),\n",
       " array([0.85993505, 0.85963386, 0.85962951, 0.8580128 , 0.85729456,\n",
       "        0.8571651 , 0.85711849, 0.85669434, 0.85655409, 0.85622203,\n",
       "        0.85599816, 0.85424376]))"
      ]
     },
     "execution_count": 8,
     "metadata": {},
     "output_type": "execute_result"
    }
   ],
   "source": [
    "import numpy as np\n",
    "\n",
    "collection.query(np.random.random(128), k=12)"
   ]
  },
  {
   "cell_type": "code",
   "execution_count": 9,
   "id": "5cb94252-a055-4dda-8fcb-be779185234c",
   "metadata": {
    "execution": {
     "iopub.execute_input": "2024-04-30T09:32:37.212377Z",
     "iopub.status.busy": "2024-04-30T09:32:37.212118Z",
     "iopub.status.idle": "2024-04-30T09:32:37.220961Z",
     "shell.execute_reply": "2024-04-30T09:32:37.220567Z",
     "shell.execute_reply.started": "2024-04-30T09:32:37.212360Z"
    }
   },
   "outputs": [
    {
     "name": "stdout",
     "output_type": "stream",
     "text": [
      "\n",
      "* - MOST RECENT QUERY REPORT -\n",
      "| - Collection Shape: (100000, 128)\n",
      "| - Query Time: 0.03766 s\n",
      "| - Query Distance: cosine\n",
      "| - Query K: 12\n",
      "| - Top 12 Results ID: [93933  2038 84168 78918  6980 82806 92899 75307 35830 63711 33628 41216]\n",
      "| - Top 12 Results Similarity: [0.85993505 0.85963386 0.85962951 0.8580128  0.85729456 0.8571651\n",
      " 0.85711849 0.85669434 0.85655409 0.85622203 0.85599816 0.85424376]\n",
      "* - END OF REPORT -\n",
      "\n"
     ]
    }
   ],
   "source": [
    "print(collection.query_report_)"
   ]
  },
  {
   "cell_type": "markdown",
   "id": "04a5f8bf-ae93-4441-a902-c8cd3087ed42",
   "metadata": {},
   "source": [
    "## Using Filter to narrow down the search range"
   ]
  },
  {
   "cell_type": "code",
   "execution_count": 10,
   "id": "7fb353f5-d818-4e2c-9cca-dc82a3c2f5f2",
   "metadata": {
    "execution": {
     "iopub.execute_input": "2024-04-30T09:32:40.863423Z",
     "iopub.status.busy": "2024-04-30T09:32:40.862409Z",
     "iopub.status.idle": "2024-04-30T09:32:40.928913Z",
     "shell.execute_reply": "2024-04-30T09:32:40.928533Z",
     "shell.execute_reply.started": "2024-04-30T09:32:40.863389Z"
    }
   },
   "outputs": [
    {
     "data": {
      "text/plain": [
       "(array([762, 615, 373, 182, 377, 852,  19,  87,  72, 608]),\n",
       " array([0.83052421, 0.81398219, 0.81066859, 0.80477023, 0.80089283,\n",
       "        0.7998516 , 0.79862028, 0.79467428, 0.79415911, 0.79328895]))"
      ]
     },
     "execution_count": 10,
     "metadata": {},
     "output_type": "execute_result"
    }
   ],
   "source": [
    "import operator\n",
    "\n",
    "from min_vec.structures.filter import Filter, FieldCondition, MatchField, IDCondition, MatchID\n",
    "\n",
    "\n",
    "collection.query(\n",
    "    vector=np.random.random(128), \n",
    "    k=10, \n",
    "    query_filter=Filter(\n",
    "        must=[\n",
    "            FieldCondition(key='test', matcher=MatchField('test_0')),  # Support for filtering fields\n",
    "            IDCondition(MatchID([1, 2, 3, 4, 5]))  # Support for filtering IDs\n",
    "        ], \n",
    "        # any=[\n",
    "        #     FieldCondition(key='field', matcher=MatchField('test_1')),\n",
    "        #     FieldCondition(key='order', matcher=MatchField(8, comparator=operator.ge)),\n",
    "        #     IDCondition(MatchID([1, 2, 3, 4, 5])),\n",
    "        # ]\n",
    "    )\n",
    ")"
   ]
  }
 ],
 "metadata": {
  "kernelspec": {
   "display_name": "Python 3 (ipykernel)",
   "language": "python",
   "name": "python3"
  },
  "language_info": {
   "codemirror_mode": {
    "name": "ipython",
    "version": 3
   },
   "file_extension": ".py",
   "mimetype": "text/x-python",
   "name": "python",
   "nbconvert_exporter": "python",
   "pygments_lexer": "ipython3",
   "version": "3.11.5"
  }
 },
 "nbformat": 4,
 "nbformat_minor": 5
}
