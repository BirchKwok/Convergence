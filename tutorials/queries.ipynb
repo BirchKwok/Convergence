{
 "cells": [
  {
   "cell_type": "code",
   "execution_count": 1,
   "id": "66c95394-cb4f-4056-8520-fd632e7299d8",
   "metadata": {
    "execution": {
     "iopub.execute_input": "2024-04-23T10:16:43.271960Z",
     "iopub.status.busy": "2024-04-23T10:16:43.271725Z",
     "iopub.status.idle": "2024-04-23T10:16:44.991563Z",
     "shell.execute_reply": "2024-04-23T10:16:44.991233Z",
     "shell.execute_reply.started": "2024-04-23T10:16:43.271949Z"
    }
   },
   "outputs": [],
   "source": [
    "from min_vec import MinVectorDB"
   ]
  },
  {
   "cell_type": "code",
   "execution_count": 2,
   "id": "68c0d3a6-5802-4d90-a435-46311ed65914",
   "metadata": {
    "execution": {
     "iopub.execute_input": "2024-04-23T10:16:44.992536Z",
     "iopub.status.busy": "2024-04-23T10:16:44.992387Z",
     "iopub.status.idle": "2024-04-23T10:16:44.994936Z",
     "shell.execute_reply": "2024-04-23T10:16:44.994545Z",
     "shell.execute_reply.started": "2024-04-23T10:16:44.992527Z"
    }
   },
   "outputs": [
    {
     "name": "stderr",
     "output_type": "stream",
     "text": [
      "MinVectorDB - INFO - Successful initialization of MinVectorDB in root_path: /Users/guobingming/projects/MinVectorDB/tutorials/my_vec_db\n"
     ]
    }
   ],
   "source": [
    "my_db = MinVectorDB('my_vec_db')"
   ]
  },
  {
   "cell_type": "code",
   "execution_count": 3,
   "id": "89a00bcd-fa2e-40b4-85aa-46fd8c8ab49f",
   "metadata": {
    "execution": {
     "iopub.execute_input": "2024-04-23T10:16:44.995729Z",
     "iopub.status.busy": "2024-04-23T10:16:44.995551Z",
     "iopub.status.idle": "2024-04-23T10:16:45.203958Z",
     "shell.execute_reply": "2024-04-23T10:16:45.203691Z",
     "shell.execute_reply.started": "2024-04-23T10:16:44.995708Z"
    }
   },
   "outputs": [
    {
     "name": "stderr",
     "output_type": "stream",
     "text": [
      "MinVectorDB - INFO - Creating collection test_vec with: \n",
      "//    dim=128, collection='test_vec', \n",
      "//    n_clusters=16, chunk_size=100000,\n",
      "//    distance='cosine', index_mode='FLAT', \n",
      "//    dtypes='float32', use_cache=True, \n",
      "//    scaler_bits=8, n_threads=10\n",
      "MinVectorDB - INFO - Collection 'test_vec' already exists. Dropped.\n"
     ]
    }
   ],
   "source": [
    "collection = my_db.require_collection(collection='test_vec', dim=128, index_mode='FLAT', drop_if_exists=True, warm_up=True)"
   ]
  },
  {
   "cell_type": "code",
   "execution_count": 4,
   "id": "059d33ca-1f1e-4d02-b52f-2eb760ab1146",
   "metadata": {
    "execution": {
     "iopub.execute_input": "2024-04-23T10:16:45.204419Z",
     "iopub.status.busy": "2024-04-23T10:16:45.204338Z",
     "iopub.status.idle": "2024-04-23T10:16:45.305071Z",
     "shell.execute_reply": "2024-04-23T10:16:45.304683Z",
     "shell.execute_reply.started": "2024-04-23T10:16:45.204410Z"
    }
   },
   "outputs": [
    {
     "name": "stderr",
     "output_type": "stream",
     "text": [
      "100%|██████████| 10000/10000 [00:00<00:00, 182838.01vectors/s]\n"
     ]
    }
   ],
   "source": [
    "from tqdm import trange\n",
    "\n",
    "import numpy as np\n",
    "\n",
    "max_id = collection.get_max_id()\n",
    "with collection.insert_session():\n",
    "    for i in trange(max_id + 1, max_id + 10001, unit=\"vectors\"):\n",
    "        if i == max_id + 1:\n",
    "            query = np.random.random(128)\n",
    "            vec = query\n",
    "        else:\n",
    "            vec = np.random.random(128)\n",
    "        collection.add_item(vec, id=i, field={\"test\": f\"test_{i // 1000}\"})"
   ]
  },
  {
   "cell_type": "markdown",
   "id": "343f993b-4823-4a0d-8b07-a5b8a6f1a787",
   "metadata": {},
   "source": [
    "## Run a query"
   ]
  },
  {
   "cell_type": "code",
   "execution_count": 5,
   "id": "15d94f52-2317-4c34-b391-66c5a38846b8",
   "metadata": {
    "execution": {
     "iopub.execute_input": "2024-04-23T10:16:45.306852Z",
     "iopub.status.busy": "2024-04-23T10:16:45.306448Z",
     "iopub.status.idle": "2024-04-23T10:16:45.418632Z",
     "shell.execute_reply": "2024-04-23T10:16:45.418399Z",
     "shell.execute_reply.started": "2024-04-23T10:16:45.306831Z"
    }
   },
   "outputs": [
    {
     "data": {
      "text/plain": [
       "(array([9289,  812, 8066, 3266, 2831, 6155, 7262, 3198, 3366, 1613,  237,\n",
       "        9027]),\n",
       " Array([0.8408177 , 0.83601075, 0.8340273 , 0.83262867, 0.8311916 ,\n",
       "        0.8307878 , 0.8287518 , 0.82785505, 0.8275203 , 0.8269049 ,\n",
       "        0.8258995 , 0.82415515], dtype=float32))"
      ]
     },
     "execution_count": 5,
     "metadata": {},
     "output_type": "execute_result"
    }
   ],
   "source": [
    "collection.query(np.random.random(128), k=12)"
   ]
  },
  {
   "cell_type": "markdown",
   "id": "2eeb5033-05e7-4841-8fc8-9c6a1d943b71",
   "metadata": {},
   "source": [
    "## Print the most recent query report"
   ]
  },
  {
   "cell_type": "code",
   "execution_count": 6,
   "id": "0cd1296f-f1a0-49ae-a6d0-507a0e57d778",
   "metadata": {
    "execution": {
     "iopub.execute_input": "2024-04-23T10:16:45.419174Z",
     "iopub.status.busy": "2024-04-23T10:16:45.419099Z",
     "iopub.status.idle": "2024-04-23T10:16:45.421192Z",
     "shell.execute_reply": "2024-04-23T10:16:45.420750Z",
     "shell.execute_reply.started": "2024-04-23T10:16:45.419166Z"
    }
   },
   "outputs": [
    {
     "name": "stdout",
     "output_type": "stream",
     "text": [
      "\n",
      "* - MOST RECENT QUERY REPORT -\n",
      "| - Database Shape: (10000, 128)\n",
      "| - Query Time: 0.09373 s\n",
      "| - Query Distance: cosine\n",
      "| - Query K: 12\n",
      "| - Top 12 Results ID: [9289  812 8066 3266 2831 6155 7262 3198 3366 1613  237 9027]\n",
      "| - Top 12 Results Similarity: [0.840818 0.836011 0.834027 0.832629 0.831192 0.830788 0.828752 0.827855\n",
      " 0.82752  0.826905 0.8259   0.824155]\n",
      "* - END OF REPORT -\n",
      "\n"
     ]
    }
   ],
   "source": [
    "print(collection.query_report_)"
   ]
  },
  {
   "cell_type": "markdown",
   "id": "fd2442a6-b266-4fcc-9ca7-27a2a7f8c924",
   "metadata": {},
   "source": [
    "## Using the threads to speed up queries"
   ]
  },
  {
   "cell_type": "code",
   "execution_count": 7,
   "id": "6870d5b8-e239-45da-83ad-2b823a63929c",
   "metadata": {
    "execution": {
     "iopub.execute_input": "2024-04-23T10:16:45.421872Z",
     "iopub.status.busy": "2024-04-23T10:16:45.421590Z",
     "iopub.status.idle": "2024-04-23T10:16:45.430837Z",
     "shell.execute_reply": "2024-04-23T10:16:45.430504Z",
     "shell.execute_reply.started": "2024-04-23T10:16:45.421837Z"
    }
   },
   "outputs": [
    {
     "name": "stderr",
     "output_type": "stream",
     "text": [
      "MinVectorDB - INFO - Creating collection test_vec with: \n",
      "//    dim=None, collection='test_vec', \n",
      "//    n_clusters=16, chunk_size=100000,\n",
      "//    distance='cosine', index_mode='IVF-FLAT', \n",
      "//    dtypes='float32', use_cache=True, \n",
      "//    scaler_bits=8, n_threads=12\n",
      "MinVectorDB - INFO - Collection 'test_vec' already exists. Loaded.\n",
      "MinVectorDB - WARNING - The immutable parameter `index_mode` of the database has been set to FLAT, the new value IVF-FLAT will be ignored.\n"
     ]
    }
   ],
   "source": [
    "collection = my_db.require_collection('test_vec', warm_up=True, n_threads=12)"
   ]
  },
  {
   "cell_type": "code",
   "execution_count": 8,
   "id": "3db89c3d-a56c-45be-9bc6-c0a5f650f149",
   "metadata": {
    "execution": {
     "iopub.execute_input": "2024-04-23T10:16:45.431289Z",
     "iopub.status.busy": "2024-04-23T10:16:45.431204Z",
     "iopub.status.idle": "2024-04-23T10:16:45.437405Z",
     "shell.execute_reply": "2024-04-23T10:16:45.437133Z",
     "shell.execute_reply.started": "2024-04-23T10:16:45.431279Z"
    }
   },
   "outputs": [
    {
     "data": {
      "text/plain": [
       "(array([5556,  327, 5476, 6571, 4005, 1635, 3167, 2342, 9562, 5703, 5164,\n",
       "        8478]),\n",
       " Array([0.87152505, 0.86520463, 0.8459563 , 0.8448862 , 0.8424814 ,\n",
       "        0.83888644, 0.83759296, 0.8366169 , 0.83652925, 0.83631235,\n",
       "        0.8362526 , 0.8348547 ], dtype=float32))"
      ]
     },
     "execution_count": 8,
     "metadata": {},
     "output_type": "execute_result"
    }
   ],
   "source": [
    "import numpy as np\n",
    "\n",
    "collection.query(np.random.random(128), k=12)"
   ]
  },
  {
   "cell_type": "code",
   "execution_count": 9,
   "id": "5cb94252-a055-4dda-8fcb-be779185234c",
   "metadata": {
    "execution": {
     "iopub.execute_input": "2024-04-23T10:16:45.437974Z",
     "iopub.status.busy": "2024-04-23T10:16:45.437877Z",
     "iopub.status.idle": "2024-04-23T10:16:45.440376Z",
     "shell.execute_reply": "2024-04-23T10:16:45.439925Z",
     "shell.execute_reply.started": "2024-04-23T10:16:45.437966Z"
    }
   },
   "outputs": [
    {
     "name": "stdout",
     "output_type": "stream",
     "text": [
      "\n",
      "* - MOST RECENT QUERY REPORT -\n",
      "| - Database Shape: (10000, 128)\n",
      "| - Query Time: 0.00199 s\n",
      "| - Query Distance: cosine\n",
      "| - Query K: 12\n",
      "| - Top 12 Results ID: [5556  327 5476 6571 4005 1635 3167 2342 9562 5703 5164 8478]\n",
      "| - Top 12 Results Similarity: [0.871525 0.865205 0.845956 0.844886 0.842481 0.838886 0.837593 0.836617\n",
      " 0.836529 0.836312 0.836253 0.834855]\n",
      "* - END OF REPORT -\n",
      "\n"
     ]
    }
   ],
   "source": [
    "print(collection.query_report_)"
   ]
  },
  {
   "cell_type": "markdown",
   "id": "04a5f8bf-ae93-4441-a902-c8cd3087ed42",
   "metadata": {},
   "source": [
    "## Using Filter to narrow down the search range"
   ]
  },
  {
   "cell_type": "code",
   "execution_count": 10,
   "id": "7fb353f5-d818-4e2c-9cca-dc82a3c2f5f2",
   "metadata": {
    "execution": {
     "iopub.execute_input": "2024-04-23T10:16:45.441043Z",
     "iopub.status.busy": "2024-04-23T10:16:45.440955Z",
     "iopub.status.idle": "2024-04-23T10:16:45.563037Z",
     "shell.execute_reply": "2024-04-23T10:16:45.562767Z",
     "shell.execute_reply.started": "2024-04-23T10:16:45.441035Z"
    }
   },
   "outputs": [
    {
     "data": {
      "text/plain": [
       "(array([1, 2, 4, 5, 3]),\n",
       " Array([0.80172694, 0.74257493, 0.738181  , 0.7129409 , 0.70257354],      dtype=float32))"
      ]
     },
     "execution_count": 10,
     "metadata": {},
     "output_type": "execute_result"
    }
   ],
   "source": [
    "import operator\n",
    "\n",
    "from min_vec.structures.filter import Filter, FieldCondition, MatchField, IDCondition, MatchID\n",
    "\n",
    "\n",
    "collection.query(\n",
    "    vector=np.random.random(128), \n",
    "    k=10, \n",
    "    query_filter=Filter(\n",
    "        must=[\n",
    "            FieldCondition(key='test', matcher=MatchField('test_0')),  # Support for filtering fields\n",
    "            IDCondition(MatchID([1, 2, 3, 4, 5]))  # Support for filtering IDs\n",
    "        ], \n",
    "        # The must and any parameters cannot be specified at the same time.\n",
    "        # any=[\n",
    "        #     FieldCondition(key='field', matcher=MatchField('test_1')),\n",
    "        #     FieldCondition(key='order', matcher=MatchField(8, comparator=operator.ge)),\n",
    "        #     IDCondition(MatchID([1, 2, 3, 4, 5])),\n",
    "        # ]\n",
    "    )\n",
    ")"
   ]
  }
 ],
 "metadata": {
  "kernelspec": {
   "display_name": "Python 3 (ipykernel)",
   "language": "python",
   "name": "python3"
  },
  "language_info": {
   "codemirror_mode": {
    "name": "ipython",
    "version": 3
   },
   "file_extension": ".py",
   "mimetype": "text/x-python",
   "name": "python",
   "nbconvert_exporter": "python",
   "pygments_lexer": "ipython3",
   "version": "3.11.5"
  }
 },
 "nbformat": 4,
 "nbformat_minor": 5
}
