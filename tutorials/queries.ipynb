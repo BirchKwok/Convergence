{
 "cells": [
  {
   "cell_type": "code",
   "execution_count": 1,
   "id": "66c95394-cb4f-4056-8520-fd632e7299d8",
   "metadata": {
    "execution": {
     "iopub.execute_input": "2024-04-26T10:32:43.595821Z",
     "iopub.status.busy": "2024-04-26T10:32:43.595766Z",
     "iopub.status.idle": "2024-04-26T10:32:43.599335Z",
     "shell.execute_reply": "2024-04-26T10:32:43.598977Z",
     "shell.execute_reply.started": "2024-04-26T10:32:43.595813Z"
    }
   },
   "outputs": [],
   "source": [
    "from min_vec import MinVectorDB"
   ]
  },
  {
   "cell_type": "code",
   "execution_count": 2,
   "id": "68c0d3a6-5802-4d90-a435-46311ed65914",
   "metadata": {
    "execution": {
     "iopub.execute_input": "2024-04-26T10:32:43.601089Z",
     "iopub.status.busy": "2024-04-26T10:32:43.601013Z",
     "iopub.status.idle": "2024-04-26T10:32:45.277753Z",
     "shell.execute_reply": "2024-04-26T10:32:45.277477Z",
     "shell.execute_reply.started": "2024-04-26T10:32:43.601081Z"
    }
   },
   "outputs": [],
   "source": [
    "# Local server\n",
    "my_db = MinVectorDB(\"http://localhost:7637\")\n",
    "# or if in docker\n",
    "# my_db = MinVectorDB(\"http://localhost:5403\")\n",
    "# or specify a path\n",
    "# my_db = MinVectorDB(\"my_vec\")"
   ]
  },
  {
   "cell_type": "code",
   "execution_count": 5,
   "id": "89a00bcd-fa2e-40b4-85aa-46fd8c8ab49f",
   "metadata": {
    "execution": {
     "iopub.execute_input": "2024-04-26T10:33:28.524291Z",
     "iopub.status.busy": "2024-04-26T10:33:28.523974Z",
     "iopub.status.idle": "2024-04-26T10:33:28.663404Z",
     "shell.execute_reply": "2024-04-26T10:33:28.662666Z",
     "shell.execute_reply.started": "2024-04-26T10:33:28.524268Z"
    }
   },
   "outputs": [],
   "source": [
    "collection = my_db.require_collection(collection='test_vec', dim=128, index_mode='FLAT', drop_if_exists=True, warm_up=True)"
   ]
  },
  {
   "cell_type": "code",
   "execution_count": 6,
   "id": "059d33ca-1f1e-4d02-b52f-2eb760ab1146",
   "metadata": {
    "execution": {
     "iopub.execute_input": "2024-04-26T10:33:29.067046Z",
     "iopub.status.busy": "2024-04-26T10:33:29.066687Z",
     "iopub.status.idle": "2024-04-26T10:33:44.821285Z",
     "shell.execute_reply": "2024-04-26T10:33:44.820971Z",
     "shell.execute_reply.started": "2024-04-26T10:33:29.067024Z"
    }
   },
   "outputs": [],
   "source": [
    "from tqdm import trange\n",
    "\n",
    "import numpy as np\n",
    "\n",
    "with collection.insert_session():\n",
    "    vectors = []\n",
    "    for i in range(100000):\n",
    "        if i == 0:\n",
    "            query = np.random.random(128)\n",
    "            vec = query\n",
    "        else:\n",
    "            vec = np.random.random(128)\n",
    "\n",
    "        vectors.append((vec, i, {\"test\":f\"test_{i // 1000}\"}))\n",
    "    collection.bulk_add_items(vectors)"
   ]
  },
  {
   "cell_type": "markdown",
   "id": "343f993b-4823-4a0d-8b07-a5b8a6f1a787",
   "metadata": {},
   "source": [
    "## Run a query"
   ]
  },
  {
   "cell_type": "code",
   "execution_count": 7,
   "id": "15d94f52-2317-4c34-b391-66c5a38846b8",
   "metadata": {
    "execution": {
     "iopub.execute_input": "2024-04-26T10:33:44.822023Z",
     "iopub.status.busy": "2024-04-26T10:33:44.821932Z",
     "iopub.status.idle": "2024-04-26T10:33:44.966782Z",
     "shell.execute_reply": "2024-04-26T10:33:44.966191Z",
     "shell.execute_reply.started": "2024-04-26T10:33:44.822015Z"
    }
   },
   "outputs": [
    {
     "data": {
      "text/plain": [
       "(array([73697, 77702, 17807, 42889, 99631, 46444, 30706, 49453, 45300,\n",
       "        67957, 10258,  3366]),\n",
       " array([0.85500115, 0.8475976 , 0.84583485, 0.84516144, 0.84397185,\n",
       "        0.84379965, 0.84291363, 0.84267998, 0.84207964, 0.84137881,\n",
       "        0.84128839, 0.83975387]))"
      ]
     },
     "execution_count": 7,
     "metadata": {},
     "output_type": "execute_result"
    }
   ],
   "source": [
    "collection.query(np.random.random(128), k=12)"
   ]
  },
  {
   "cell_type": "markdown",
   "id": "2eeb5033-05e7-4841-8fc8-9c6a1d943b71",
   "metadata": {},
   "source": [
    "## Print the most recent query report"
   ]
  },
  {
   "cell_type": "code",
   "execution_count": 8,
   "id": "0cd1296f-f1a0-49ae-a6d0-507a0e57d778",
   "metadata": {
    "execution": {
     "iopub.execute_input": "2024-04-26T10:33:44.967822Z",
     "iopub.status.busy": "2024-04-26T10:33:44.967484Z",
     "iopub.status.idle": "2024-04-26T10:33:44.976967Z",
     "shell.execute_reply": "2024-04-26T10:33:44.976519Z",
     "shell.execute_reply.started": "2024-04-26T10:33:44.967803Z"
    }
   },
   "outputs": [
    {
     "name": "stdout",
     "output_type": "stream",
     "text": [
      "\n",
      "* - MOST RECENT QUERY REPORT -\n",
      "| - Collection Shape: (100000, 128)\n",
      "| - Query Time: 0.13376 s\n",
      "| - Query Distance: cosine\n",
      "| - Query K: 12\n",
      "| - Top 12 Results ID: [73697 77702 17807 42889 99631 46444 30706 49453 45300 67957 10258  3366]\n",
      "| - Top 12 Results Similarity: [0.85500115 0.8475976  0.84583485 0.84516144 0.84397185 0.84379965\n",
      " 0.84291363 0.84267998 0.84207964 0.84137881 0.84128839 0.83975387]\n",
      "* - END OF REPORT -\n",
      "\n"
     ]
    }
   ],
   "source": [
    "print(collection.query_report_)"
   ]
  },
  {
   "cell_type": "markdown",
   "id": "fd2442a6-b266-4fcc-9ca7-27a2a7f8c924",
   "metadata": {},
   "source": [
    "## Using the threads to speed up queries"
   ]
  },
  {
   "cell_type": "code",
   "execution_count": 9,
   "id": "6870d5b8-e239-45da-83ad-2b823a63929c",
   "metadata": {
    "execution": {
     "iopub.execute_input": "2024-04-26T10:33:44.978545Z",
     "iopub.status.busy": "2024-04-26T10:33:44.978400Z",
     "iopub.status.idle": "2024-04-26T10:33:45.102087Z",
     "shell.execute_reply": "2024-04-26T10:33:45.101251Z",
     "shell.execute_reply.started": "2024-04-26T10:33:44.978535Z"
    }
   },
   "outputs": [],
   "source": [
    "collection = my_db.require_collection('test_vec', warm_up=True, n_threads=12)"
   ]
  },
  {
   "cell_type": "code",
   "execution_count": 10,
   "id": "3db89c3d-a56c-45be-9bc6-c0a5f650f149",
   "metadata": {
    "execution": {
     "iopub.execute_input": "2024-04-26T10:33:45.103704Z",
     "iopub.status.busy": "2024-04-26T10:33:45.102892Z",
     "iopub.status.idle": "2024-04-26T10:33:45.125795Z",
     "shell.execute_reply": "2024-04-26T10:33:45.125428Z",
     "shell.execute_reply.started": "2024-04-26T10:33:45.103683Z"
    }
   },
   "outputs": [
    {
     "data": {
      "text/plain": [
       "(array([81941, 62327, 72022, 59189, 21910, 79938, 69486, 43378, 74343,\n",
       "        96460, 92080, 63112]),\n",
       " array([0.84530234, 0.84270543, 0.84203595, 0.84162509, 0.8370254 ,\n",
       "        0.83698463, 0.83687979, 0.83664346, 0.8365944 , 0.83587211,\n",
       "        0.83585978, 0.83529031]))"
      ]
     },
     "execution_count": 10,
     "metadata": {},
     "output_type": "execute_result"
    }
   ],
   "source": [
    "import numpy as np\n",
    "\n",
    "collection.query(np.random.random(128), k=12)"
   ]
  },
  {
   "cell_type": "code",
   "execution_count": 11,
   "id": "5cb94252-a055-4dda-8fcb-be779185234c",
   "metadata": {
    "execution": {
     "iopub.execute_input": "2024-04-26T10:33:45.126490Z",
     "iopub.status.busy": "2024-04-26T10:33:45.126397Z",
     "iopub.status.idle": "2024-04-26T10:33:45.132463Z",
     "shell.execute_reply": "2024-04-26T10:33:45.132163Z",
     "shell.execute_reply.started": "2024-04-26T10:33:45.126482Z"
    }
   },
   "outputs": [
    {
     "name": "stdout",
     "output_type": "stream",
     "text": [
      "\n",
      "* - MOST RECENT QUERY REPORT -\n",
      "| - Collection Shape: (100000, 128)\n",
      "| - Query Time: 0.01851 s\n",
      "| - Query Distance: cosine\n",
      "| - Query K: 12\n",
      "| - Top 12 Results ID: [81941 62327 72022 59189 21910 79938 69486 43378 74343 96460 92080 63112]\n",
      "| - Top 12 Results Similarity: [0.84530234 0.84270543 0.84203595 0.84162509 0.8370254  0.83698463\n",
      " 0.83687979 0.83664346 0.8365944  0.83587211 0.83585978 0.83529031]\n",
      "* - END OF REPORT -\n",
      "\n"
     ]
    }
   ],
   "source": [
    "print(collection.query_report_)"
   ]
  },
  {
   "cell_type": "markdown",
   "id": "04a5f8bf-ae93-4441-a902-c8cd3087ed42",
   "metadata": {},
   "source": [
    "## Using Filter to narrow down the search range"
   ]
  },
  {
   "cell_type": "code",
   "execution_count": 12,
   "id": "7fb353f5-d818-4e2c-9cca-dc82a3c2f5f2",
   "metadata": {
    "execution": {
     "iopub.execute_input": "2024-04-26T10:33:45.133345Z",
     "iopub.status.busy": "2024-04-26T10:33:45.133205Z",
     "iopub.status.idle": "2024-04-26T10:33:45.177331Z",
     "shell.execute_reply": "2024-04-26T10:33:45.177043Z",
     "shell.execute_reply.started": "2024-04-26T10:33:45.133330Z"
    }
   },
   "outputs": [
    {
     "data": {
      "text/plain": [
       "(array([409, 300, 364, 654, 762, 767, 204, 568, 590, 370]),\n",
       " array([0.82831156, 0.81029993, 0.8094672 , 0.80870515, 0.80779004,\n",
       "        0.80695492, 0.80680823, 0.80619109, 0.80531538, 0.8032192 ]))"
      ]
     },
     "execution_count": 12,
     "metadata": {},
     "output_type": "execute_result"
    }
   ],
   "source": [
    "import operator\n",
    "\n",
    "from min_vec.structures.filter import Filter, FieldCondition, MatchField, IDCondition, MatchID\n",
    "\n",
    "\n",
    "collection.query(\n",
    "    vector=np.random.random(128), \n",
    "    k=10, \n",
    "    query_filter=Filter(\n",
    "        must=[\n",
    "            FieldCondition(key='test', matcher=MatchField('test_0')),  # Support for filtering fields\n",
    "            IDCondition(MatchID([1, 2, 3, 4, 5]))  # Support for filtering IDs\n",
    "        ], \n",
    "        # any=[\n",
    "        #     FieldCondition(key='field', matcher=MatchField('test_1')),\n",
    "        #     FieldCondition(key='order', matcher=MatchField(8, comparator=operator.ge)),\n",
    "        #     IDCondition(MatchID([1, 2, 3, 4, 5])),\n",
    "        # ]\n",
    "    )\n",
    ")"
   ]
  }
 ],
 "metadata": {
  "kernelspec": {
   "display_name": "Python 3 (ipykernel)",
   "language": "python",
   "name": "python3"
  },
  "language_info": {
   "codemirror_mode": {
    "name": "ipython",
    "version": 3
   },
   "file_extension": ".py",
   "mimetype": "text/x-python",
   "name": "python",
   "nbconvert_exporter": "python",
   "pygments_lexer": "ipython3",
   "version": "3.11.5"
  }
 },
 "nbformat": 4,
 "nbformat_minor": 5
}
