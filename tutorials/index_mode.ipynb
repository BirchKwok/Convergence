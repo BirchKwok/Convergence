{
 "cells": [
  {
   "cell_type": "code",
   "execution_count": 1,
   "id": "9126375f-abc9-4e75-b1fe-ecb74abdded1",
   "metadata": {
    "ExecuteTime": {
     "end_time": "2024-04-30T09:20:29.419102Z",
     "start_time": "2024-04-30T09:20:29.415621Z"
    },
    "execution": {
     "iopub.execute_input": "2024-05-04T23:43:39.244451Z",
     "iopub.status.busy": "2024-05-04T23:43:39.244305Z",
     "iopub.status.idle": "2024-05-04T23:43:39.252953Z",
     "shell.execute_reply": "2024-05-04T23:43:39.252119Z",
     "shell.execute_reply.started": "2024-05-04T23:43:39.244433Z"
    }
   },
   "outputs": [],
   "source": [
    "from min_vec import MinVectorDB"
   ]
  },
  {
   "cell_type": "code",
   "execution_count": 2,
   "id": "58834c7b-7dd8-489e-a68f-17fdbaa0e2ff",
   "metadata": {
    "execution": {
     "iopub.execute_input": "2024-05-04T23:43:39.257518Z",
     "iopub.status.busy": "2024-05-04T23:43:39.257399Z",
     "iopub.status.idle": "2024-05-04T23:43:39.976589Z",
     "shell.execute_reply": "2024-05-04T23:43:39.976260Z",
     "shell.execute_reply.started": "2024-05-04T23:43:39.257506Z"
    }
   },
   "outputs": [],
   "source": [
    "my_db = MinVectorDB(\"http://localhost:7637\")\n",
    "# or specify a path\n",
    "# my_db = MinVectorDB(\"my_vec\")"
   ]
  },
  {
   "cell_type": "markdown",
   "id": "18018ce0-3622-48a5-84e8-760d89d0094d",
   "metadata": {},
   "source": [
    "## Use FLAT index mode\n",
    "\n",
    "FLAT mode is a brute force search mode, so performance decays linearly with increasing data size."
   ]
  },
  {
   "cell_type": "code",
   "execution_count": 3,
   "id": "870e3f23-3928-4482-9476-f1f959bce08f",
   "metadata": {
    "execution": {
     "iopub.execute_input": "2024-05-04T23:43:39.977126Z",
     "iopub.status.busy": "2024-05-04T23:43:39.977023Z",
     "iopub.status.idle": "2024-05-04T23:43:40.074951Z",
     "shell.execute_reply": "2024-05-04T23:43:40.074546Z",
     "shell.execute_reply.started": "2024-05-04T23:43:39.977116Z"
    }
   },
   "outputs": [],
   "source": [
    "collection = my_db.require_collection(collection='test_vec', dim=128, index_mode='FLAT', drop_if_exists=True)"
   ]
  },
  {
   "cell_type": "code",
   "execution_count": 4,
   "id": "4f15489c-d05e-4eb7-b80a-f75a887e787c",
   "metadata": {
    "execution": {
     "iopub.execute_input": "2024-05-04T23:43:40.075391Z",
     "iopub.status.busy": "2024-05-04T23:43:40.075314Z",
     "iopub.status.idle": "2024-05-04T23:43:42.961294Z",
     "shell.execute_reply": "2024-05-04T23:43:42.960903Z",
     "shell.execute_reply.started": "2024-05-04T23:43:40.075383Z"
    }
   },
   "outputs": [
    {
     "name": "stderr",
     "output_type": "stream",
     "text": [
      "Adding items: 100%|██████████| 100/100 [00:02<00:00, 49.52batch/s]\n"
     ]
    }
   ],
   "source": [
    "\n",
    "import numpy as np\n",
    "\n",
    "with collection.insert_session():\n",
    "    vectors = []\n",
    "    for i in range(100000):\n",
    "        if i == 0:\n",
    "            query = np.random.random(128)\n",
    "            vec = query\n",
    "        else:\n",
    "            vec = np.random.random(128)\n",
    "\n",
    "        vectors.append((vec, i, {\"test\":f\"test_{i // 1000}\"}))\n",
    "    collection.bulk_add_items(vectors)"
   ]
  },
  {
   "cell_type": "code",
   "execution_count": 5,
   "id": "e8099cfb-443b-47b4-bfca-1f0ee46627d6",
   "metadata": {
    "execution": {
     "iopub.execute_input": "2024-05-04T23:43:42.961975Z",
     "iopub.status.busy": "2024-05-04T23:43:42.961839Z",
     "iopub.status.idle": "2024-05-04T23:43:42.986720Z",
     "shell.execute_reply": "2024-05-04T23:43:42.986293Z",
     "shell.execute_reply.started": "2024-05-04T23:43:42.961964Z"
    }
   },
   "outputs": [
    {
     "data": {
      "text/plain": [
       "(array([    0, 85780, 81033, 93391, 14675]),\n",
       " array([0.99681091, 0.83603102, 0.83244038, 0.82392895, 0.82269329]))"
      ]
     },
     "execution_count": 5,
     "metadata": {},
     "output_type": "execute_result"
    }
   ],
   "source": [
    "collection.query(vector=query, k=5)"
   ]
  },
  {
   "cell_type": "code",
   "execution_count": 6,
   "id": "b5cacea8-2272-48d8-972d-8dc4aaa745c7",
   "metadata": {
    "execution": {
     "iopub.execute_input": "2024-05-04T23:43:42.987320Z",
     "iopub.status.busy": "2024-05-04T23:43:42.987235Z",
     "iopub.status.idle": "2024-05-04T23:43:42.994239Z",
     "shell.execute_reply": "2024-05-04T23:43:42.993990Z",
     "shell.execute_reply.started": "2024-05-04T23:43:42.987311Z"
    }
   },
   "outputs": [
    {
     "name": "stdout",
     "output_type": "stream",
     "text": [
      "\n",
      "* - MOST RECENT QUERY REPORT -\n",
      "| - Collection Shape: (100000, 128)\n",
      "| - Query Time: 0.01812 s\n",
      "| - Query Distance: cosine\n",
      "| - Query K: 5\n",
      "| - Top 5 Results ID: [    0 85780 81033 93391 14675]\n",
      "| - Top 5 Results Similarity: [0.99681091 0.83603102 0.83244038 0.82392895 0.82269329]\n",
      "* - END OF REPORT -\n",
      "\n"
     ]
    }
   ],
   "source": [
    "print(collection.query_report_)"
   ]
  },
  {
   "cell_type": "markdown",
   "id": "79391527-278d-42de-9328-41f45577432f",
   "metadata": {},
   "source": [
    "## Use IVF-FLAT index mode\n",
    "\n",
    "IVF-FLAT uses inverted indexes for significant speedups on large-scale data.\n",
    "\n",
    "\n",
    "Note that IVF-FLAT mode will only take effect if the number of rows added to the collection has reached 100,000; below 100,000 rows, it will fall back to FLAT mode."
   ]
  },
  {
   "cell_type": "code",
   "execution_count": 7,
   "id": "6e11a797-6161-4566-8543-58d72be23e34",
   "metadata": {
    "execution": {
     "iopub.execute_input": "2024-05-04T23:43:42.996785Z",
     "iopub.status.busy": "2024-05-04T23:43:42.996553Z",
     "iopub.status.idle": "2024-05-04T23:43:43.110957Z",
     "shell.execute_reply": "2024-05-04T23:43:43.110603Z",
     "shell.execute_reply.started": "2024-05-04T23:43:42.996756Z"
    }
   },
   "outputs": [],
   "source": [
    "collection = my_db.require_collection(collection='test_vec2', dim=128, index_mode='IVF-FLAT', drop_if_exists=True, chunk_size=10000, use_cache=False)"
   ]
  },
  {
   "cell_type": "code",
   "execution_count": 8,
   "id": "a6ac03c3-8f26-4c27-8306-cd0ee4173ef8",
   "metadata": {
    "execution": {
     "iopub.execute_input": "2024-05-04T23:43:43.111459Z",
     "iopub.status.busy": "2024-05-04T23:43:43.111367Z",
     "iopub.status.idle": "2024-05-04T23:43:46.556898Z",
     "shell.execute_reply": "2024-05-04T23:43:46.556013Z",
     "shell.execute_reply.started": "2024-05-04T23:43:43.111450Z"
    }
   },
   "outputs": [
    {
     "name": "stderr",
     "output_type": "stream",
     "text": [
      "Adding items: 100%|██████████| 100/100 [00:02<00:00, 49.33batch/s]\n"
     ]
    }
   ],
   "source": [
    "from tqdm import trange\n",
    "\n",
    "import numpy as np\n",
    "\n",
    "with collection.insert_session():\n",
    "    vectors = []\n",
    "    for i in range(100000):\n",
    "        if i == 0:\n",
    "            query = np.random.random(128)\n",
    "            vec = query\n",
    "        else:\n",
    "            vec = np.random.random(128)\n",
    "\n",
    "        vectors.append((vec, i, {\"test\":f\"test_{i // 1000}\"}))\n",
    "        \n",
    "    collection.bulk_add_items(vectors)"
   ]
  },
  {
   "cell_type": "code",
   "execution_count": 9,
   "id": "93ba7b01-b859-4b09-9f67-4d360fb5a185",
   "metadata": {
    "execution": {
     "iopub.execute_input": "2024-05-04T23:43:46.561696Z",
     "iopub.status.busy": "2024-05-04T23:43:46.560130Z",
     "iopub.status.idle": "2024-05-04T23:43:46.588782Z",
     "shell.execute_reply": "2024-05-04T23:43:46.588402Z",
     "shell.execute_reply.started": "2024-05-04T23:43:46.561667Z"
    }
   },
   "outputs": [
    {
     "data": {
      "text/plain": [
       "(array([    0, 36103, 61785, 46632, 86766]),\n",
       " array([0.99780244, 0.83608764, 0.83415651, 0.8321054 , 0.8320967 ]))"
      ]
     },
     "execution_count": 9,
     "metadata": {},
     "output_type": "execute_result"
    }
   ],
   "source": [
    "collection.query(vector=query, k=5)"
   ]
  },
  {
   "cell_type": "code",
   "execution_count": 10,
   "id": "6a667b72-b830-4ba9-883e-ee092f690dcd",
   "metadata": {
    "execution": {
     "iopub.execute_input": "2024-05-04T23:43:46.589457Z",
     "iopub.status.busy": "2024-05-04T23:43:46.589354Z",
     "iopub.status.idle": "2024-05-04T23:43:46.594667Z",
     "shell.execute_reply": "2024-05-04T23:43:46.594366Z",
     "shell.execute_reply.started": "2024-05-04T23:43:46.589449Z"
    }
   },
   "outputs": [
    {
     "name": "stdout",
     "output_type": "stream",
     "text": [
      "\n",
      "* - MOST RECENT QUERY REPORT -\n",
      "| - Collection Shape: (100000, 128)\n",
      "| - Query Time: 0.01919 s\n",
      "| - Query Distance: cosine\n",
      "| - Query K: 5\n",
      "| - Top 5 Results ID: [    0 36103 61785 46632 86766]\n",
      "| - Top 5 Results Similarity: [0.99780244 0.83608764 0.83415651 0.8321054  0.8320967 ]\n",
      "* - END OF REPORT -\n",
      "\n"
     ]
    }
   ],
   "source": [
    "print(collection.query_report_)"
   ]
  }
 ],
 "metadata": {
  "kernelspec": {
   "display_name": "Python 3 (ipykernel)",
   "language": "python",
   "name": "python3"
  },
  "language_info": {
   "codemirror_mode": {
    "name": "ipython",
    "version": 3
   },
   "file_extension": ".py",
   "mimetype": "text/x-python",
   "name": "python",
   "nbconvert_exporter": "python",
   "pygments_lexer": "ipython3",
   "version": "3.11.5"
  }
 },
 "nbformat": 4,
 "nbformat_minor": 5
}
