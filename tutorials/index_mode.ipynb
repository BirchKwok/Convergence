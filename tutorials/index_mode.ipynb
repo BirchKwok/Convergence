{
 "cells": [
  {
   "cell_type": "code",
   "execution_count": 1,
   "id": "9126375f-abc9-4e75-b1fe-ecb74abdded1",
   "metadata": {
    "ExecuteTime": {
     "end_time": "2024-04-30T09:20:29.419102Z",
     "start_time": "2024-04-30T09:20:29.415621Z"
    },
    "execution": {
     "iopub.execute_input": "2024-05-08T09:03:04.336193Z",
     "iopub.status.busy": "2024-05-08T09:03:04.336077Z",
     "iopub.status.idle": "2024-05-08T09:03:04.347255Z",
     "shell.execute_reply": "2024-05-08T09:03:04.346776Z",
     "shell.execute_reply.started": "2024-05-08T09:03:04.336174Z"
    }
   },
   "outputs": [],
   "source": [
    "from min_vec import MinVectorDB"
   ]
  },
  {
   "cell_type": "code",
   "execution_count": 2,
   "id": "58834c7b-7dd8-489e-a68f-17fdbaa0e2ff",
   "metadata": {
    "execution": {
     "iopub.execute_input": "2024-05-08T09:03:04.350260Z",
     "iopub.status.busy": "2024-05-08T09:03:04.349967Z",
     "iopub.status.idle": "2024-05-08T09:03:05.144213Z",
     "shell.execute_reply": "2024-05-08T09:03:05.143839Z",
     "shell.execute_reply.started": "2024-05-08T09:03:04.350240Z"
    }
   },
   "outputs": [],
   "source": [
    "my_db = MinVectorDB(\"http://localhost:7637\")\n",
    "# or specify a path\n",
    "# my_db = MinVectorDB(\"my_vec\")"
   ]
  },
  {
   "cell_type": "markdown",
   "id": "18018ce0-3622-48a5-84e8-760d89d0094d",
   "metadata": {},
   "source": [
    "## Use FLAT index mode\n",
    "\n",
    "FLAT mode is a brute force search mode, so performance decays linearly with increasing data size."
   ]
  },
  {
   "cell_type": "code",
   "execution_count": 3,
   "id": "870e3f23-3928-4482-9476-f1f959bce08f",
   "metadata": {
    "execution": {
     "iopub.execute_input": "2024-05-08T09:03:05.144878Z",
     "iopub.status.busy": "2024-05-08T09:03:05.144758Z",
     "iopub.status.idle": "2024-05-08T09:03:05.239357Z",
     "shell.execute_reply": "2024-05-08T09:03:05.238855Z",
     "shell.execute_reply.started": "2024-05-08T09:03:05.144868Z"
    }
   },
   "outputs": [],
   "source": [
    "collection = my_db.require_collection(collection='test_vec', dim=128, index_mode='FLAT', drop_if_exists=True)"
   ]
  },
  {
   "cell_type": "code",
   "execution_count": 4,
   "id": "4f15489c-d05e-4eb7-b80a-f75a887e787c",
   "metadata": {
    "execution": {
     "iopub.execute_input": "2024-05-08T09:03:05.239979Z",
     "iopub.status.busy": "2024-05-08T09:03:05.239846Z",
     "iopub.status.idle": "2024-05-08T09:03:08.281989Z",
     "shell.execute_reply": "2024-05-08T09:03:08.280913Z",
     "shell.execute_reply.started": "2024-05-08T09:03:05.239964Z"
    }
   },
   "outputs": [
    {
     "name": "stderr",
     "output_type": "stream",
     "text": [
      "Adding items: 100%|██████████| 100/100 [00:01<00:00, 57.24batch/s]\n"
     ]
    }
   ],
   "source": [
    "\n",
    "import numpy as np\n",
    "\n",
    "with collection.insert_session():\n",
    "    vectors = []\n",
    "    for i in range(100000):\n",
    "        if i == 0:\n",
    "            query = np.random.random(128)\n",
    "            vec = query\n",
    "        else:\n",
    "            vec = np.random.random(128)\n",
    "\n",
    "        vectors.append((vec, i, {\"test\":f\"test_{i // 1000}\"}))\n",
    "    collection.bulk_add_items(vectors)"
   ]
  },
  {
   "cell_type": "code",
   "execution_count": 5,
   "id": "e8099cfb-443b-47b4-bfca-1f0ee46627d6",
   "metadata": {
    "execution": {
     "iopub.execute_input": "2024-05-08T09:03:08.284229Z",
     "iopub.status.busy": "2024-05-08T09:03:08.283395Z",
     "iopub.status.idle": "2024-05-08T09:03:08.524776Z",
     "shell.execute_reply": "2024-05-08T09:03:08.524506Z",
     "shell.execute_reply.started": "2024-05-08T09:03:08.284204Z"
    }
   },
   "outputs": [
    {
     "data": {
      "text/plain": [
       "(array([    0, 55339, 84884, 64014, 61010]),\n",
       " array([0.99630481, 0.84128678, 0.84112144, 0.84108722, 0.84049249]))"
      ]
     },
     "execution_count": 5,
     "metadata": {},
     "output_type": "execute_result"
    }
   ],
   "source": [
    "collection.query(vector=query, k=5)"
   ]
  },
  {
   "cell_type": "code",
   "execution_count": 6,
   "id": "b5cacea8-2272-48d8-972d-8dc4aaa745c7",
   "metadata": {
    "execution": {
     "iopub.execute_input": "2024-05-08T09:03:08.525512Z",
     "iopub.status.busy": "2024-05-08T09:03:08.525365Z",
     "iopub.status.idle": "2024-05-08T09:03:08.530680Z",
     "shell.execute_reply": "2024-05-08T09:03:08.530271Z",
     "shell.execute_reply.started": "2024-05-08T09:03:08.525500Z"
    }
   },
   "outputs": [
    {
     "name": "stdout",
     "output_type": "stream",
     "text": [
      "\n",
      "* - MOST RECENT QUERY REPORT -\n",
      "| - Collection Shape: (100000, 128)\n",
      "| - Query Time: 0.23443 s\n",
      "| - Query Distance: cosine\n",
      "| - Query K: 5\n",
      "| - Top 5 Results ID: [    0 55339 84884 64014 61010]\n",
      "| - Top 5 Results Similarity: [0.99630481 0.84128678 0.84112144 0.84108722 0.84049249]\n",
      "* - END OF REPORT -\n",
      "\n"
     ]
    }
   ],
   "source": [
    "print(collection.query_report_)"
   ]
  },
  {
   "cell_type": "markdown",
   "id": "79391527-278d-42de-9328-41f45577432f",
   "metadata": {},
   "source": [
    "## Use IVF-FLAT index mode\n",
    "\n",
    "IVF-FLAT uses inverted indexes for significant speedups on large-scale data.\n",
    "\n",
    "\n",
    "Note that IVF-FLAT mode will only take effect if the number of rows added to the collection has reached 100,000; below 100,000 rows, it will fall back to FLAT mode."
   ]
  },
  {
   "cell_type": "code",
   "execution_count": 7,
   "id": "6e11a797-6161-4566-8543-58d72be23e34",
   "metadata": {
    "execution": {
     "iopub.execute_input": "2024-05-08T09:03:08.532473Z",
     "iopub.status.busy": "2024-05-08T09:03:08.532355Z",
     "iopub.status.idle": "2024-05-08T09:03:08.592622Z",
     "shell.execute_reply": "2024-05-08T09:03:08.592141Z",
     "shell.execute_reply.started": "2024-05-08T09:03:08.532464Z"
    }
   },
   "outputs": [],
   "source": [
    "collection = my_db.require_collection(collection='test_vec2', dim=128, index_mode='IVF-FLAT', drop_if_exists=True, chunk_size=10000, use_cache=False)"
   ]
  },
  {
   "cell_type": "code",
   "execution_count": 8,
   "id": "a6ac03c3-8f26-4c27-8306-cd0ee4173ef8",
   "metadata": {
    "execution": {
     "iopub.execute_input": "2024-05-08T09:03:08.593149Z",
     "iopub.status.busy": "2024-05-08T09:03:08.593047Z",
     "iopub.status.idle": "2024-05-08T09:03:11.850101Z",
     "shell.execute_reply": "2024-05-08T09:03:11.849349Z",
     "shell.execute_reply.started": "2024-05-08T09:03:08.593139Z"
    }
   },
   "outputs": [
    {
     "name": "stderr",
     "output_type": "stream",
     "text": [
      "Adding items: 100%|██████████| 100/100 [00:01<00:00, 55.37batch/s]\n"
     ]
    }
   ],
   "source": [
    "from tqdm import trange\n",
    "\n",
    "import numpy as np\n",
    "\n",
    "with collection.insert_session():\n",
    "    vectors = []\n",
    "    for i in range(100000):\n",
    "        if i == 0:\n",
    "            query = np.random.random(128)\n",
    "            vec = query\n",
    "        else:\n",
    "            vec = np.random.random(128)\n",
    "\n",
    "        vectors.append((vec, i, {\"test\":f\"test_{i // 1000}\"}))\n",
    "        \n",
    "    collection.bulk_add_items(vectors)"
   ]
  },
  {
   "cell_type": "code",
   "execution_count": 9,
   "id": "93ba7b01-b859-4b09-9f67-4d360fb5a185",
   "metadata": {
    "execution": {
     "iopub.execute_input": "2024-05-08T09:03:11.851195Z",
     "iopub.status.busy": "2024-05-08T09:03:11.850982Z",
     "iopub.status.idle": "2024-05-08T09:03:11.914973Z",
     "shell.execute_reply": "2024-05-08T09:03:11.914612Z",
     "shell.execute_reply.started": "2024-05-08T09:03:11.851172Z"
    }
   },
   "outputs": [
    {
     "data": {
      "text/plain": [
       "(array([    0, 45162, 96739,  9018, 54905]),\n",
       " array([0.99805629, 0.83658516, 0.83634007, 0.83466458, 0.82984453]))"
      ]
     },
     "execution_count": 9,
     "metadata": {},
     "output_type": "execute_result"
    }
   ],
   "source": [
    "collection.query(vector=query, k=5)"
   ]
  },
  {
   "cell_type": "code",
   "execution_count": 10,
   "id": "6a667b72-b830-4ba9-883e-ee092f690dcd",
   "metadata": {
    "execution": {
     "iopub.execute_input": "2024-05-08T09:03:11.915423Z",
     "iopub.status.busy": "2024-05-08T09:03:11.915313Z",
     "iopub.status.idle": "2024-05-08T09:03:11.920489Z",
     "shell.execute_reply": "2024-05-08T09:03:11.920089Z",
     "shell.execute_reply.started": "2024-05-08T09:03:11.915413Z"
    }
   },
   "outputs": [
    {
     "name": "stdout",
     "output_type": "stream",
     "text": [
      "\n",
      "* - MOST RECENT QUERY REPORT -\n",
      "| - Collection Shape: (100000, 128)\n",
      "| - Query Time: 0.05428 s\n",
      "| - Query Distance: cosine\n",
      "| - Query K: 5\n",
      "| - Top 5 Results ID: [    0 45162 96739  9018 54905]\n",
      "| - Top 5 Results Similarity: [0.99805629 0.83658516 0.83634007 0.83466458 0.82984453]\n",
      "* - END OF REPORT -\n",
      "\n"
     ]
    }
   ],
   "source": [
    "print(collection.query_report_)"
   ]
  }
 ],
 "metadata": {
  "kernelspec": {
   "display_name": "Python 3 (ipykernel)",
   "language": "python",
   "name": "python3"
  },
  "language_info": {
   "codemirror_mode": {
    "name": "ipython",
    "version": 3
   },
   "file_extension": ".py",
   "mimetype": "text/x-python",
   "name": "python",
   "nbconvert_exporter": "python",
   "pygments_lexer": "ipython3",
   "version": "3.11.5"
  }
 },
 "nbformat": 4,
 "nbformat_minor": 5
}
