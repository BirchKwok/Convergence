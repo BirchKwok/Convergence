{
 "cells": [
  {
   "cell_type": "code",
   "execution_count": 1,
   "id": "9126375f-abc9-4e75-b1fe-ecb74abdded1",
   "metadata": {
    "ExecuteTime": {
     "end_time": "2024-04-30T09:20:29.419102Z",
     "start_time": "2024-04-30T09:20:29.415621Z"
    },
    "execution": {
     "iopub.execute_input": "2024-05-30T08:35:25.783033Z",
     "iopub.status.busy": "2024-05-30T08:35:25.782848Z",
     "iopub.status.idle": "2024-05-30T08:35:26.176941Z",
     "shell.execute_reply": "2024-05-30T08:35:26.176628Z",
     "shell.execute_reply.started": "2024-05-30T08:35:25.783014Z"
    }
   },
   "outputs": [],
   "source": [
    "import min_vec"
   ]
  },
  {
   "cell_type": "code",
   "execution_count": 2,
   "id": "58834c7b-7dd8-489e-a68f-17fdbaa0e2ff",
   "metadata": {
    "execution": {
     "iopub.execute_input": "2024-05-30T08:35:26.178063Z",
     "iopub.status.busy": "2024-05-30T08:35:26.177936Z",
     "iopub.status.idle": "2024-05-30T08:35:26.911422Z",
     "shell.execute_reply": "2024-05-30T08:35:26.911023Z",
     "shell.execute_reply.started": "2024-05-30T08:35:26.178054Z"
    }
   },
   "outputs": [],
   "source": [
    "client = min_vec.VectorDBClient(\"http://localhost:7637\")\n",
    "my_db = client.create_database(\"my_vec_db\", drop_if_exists=False)"
   ]
  },
  {
   "cell_type": "markdown",
   "id": "18018ce0-3622-48a5-84e8-760d89d0094d",
   "metadata": {},
   "source": [
    "## Use FLAT index mode\n",
    "\n",
    "FLAT mode is a brute force search mode, so performance decays linearly with increasing data size."
   ]
  },
  {
   "cell_type": "code",
   "execution_count": 3,
   "id": "870e3f23-3928-4482-9476-f1f959bce08f",
   "metadata": {
    "execution": {
     "iopub.execute_input": "2024-05-30T08:35:26.911992Z",
     "iopub.status.busy": "2024-05-30T08:35:26.911860Z",
     "iopub.status.idle": "2024-05-30T08:35:27.036711Z",
     "shell.execute_reply": "2024-05-30T08:35:27.036352Z",
     "shell.execute_reply.started": "2024-05-30T08:35:26.911982Z"
    }
   },
   "outputs": [],
   "source": [
    "collection = my_db.require_collection(collection='test_vec', dim=128, drop_if_exists=True)"
   ]
  },
  {
   "cell_type": "code",
   "execution_count": 4,
   "id": "4f15489c-d05e-4eb7-b80a-f75a887e787c",
   "metadata": {
    "execution": {
     "iopub.execute_input": "2024-05-30T08:35:27.037239Z",
     "iopub.status.busy": "2024-05-30T08:35:27.037144Z",
     "iopub.status.idle": "2024-05-30T08:35:53.751353Z",
     "shell.execute_reply": "2024-05-30T08:35:53.750741Z",
     "shell.execute_reply.started": "2024-05-30T08:35:27.037230Z"
    }
   },
   "outputs": [
    {
     "name": "stderr",
     "output_type": "stream",
     "text": [
      "Adding items: 100%|██████████| 1000/1000 [00:22<00:00, 43.63batch/s]\n"
     ]
    }
   ],
   "source": [
    "import numpy as np\n",
    "\n",
    "with collection.insert_session() as session:\n",
    "    vectors = []\n",
    "    for i in range(1000000):\n",
    "        if i == 0:\n",
    "            search_vec = np.random.random(128)\n",
    "            vec = search_vec\n",
    "        else:\n",
    "            vec = np.random.random(128)\n",
    "\n",
    "        vectors.append((vec, i, {\"test\":f\"test_{i // 1000}\"}))\n",
    "    session.bulk_add_items(vectors)"
   ]
  },
  {
   "cell_type": "code",
   "execution_count": 5,
   "id": "e8099cfb-443b-47b4-bfca-1f0ee46627d6",
   "metadata": {
    "execution": {
     "iopub.execute_input": "2024-05-30T08:35:53.755342Z",
     "iopub.status.busy": "2024-05-30T08:35:53.754927Z",
     "iopub.status.idle": "2024-05-30T08:35:53.805070Z",
     "shell.execute_reply": "2024-05-30T08:35:53.803738Z",
     "shell.execute_reply.started": "2024-05-30T08:35:53.755314Z"
    }
   },
   "outputs": [
    {
     "data": {
      "text/plain": [
       "(array([     0, 380618, 515925, 703707, 964683]),\n",
       " array([6.78201008, 6.1760006 , 6.14976549, 6.11931086, 6.10258436]))"
      ]
     },
     "execution_count": 5,
     "metadata": {},
     "output_type": "execute_result"
    }
   ],
   "source": [
    "collection.search(vector=search_vec, k=5)"
   ]
  },
  {
   "cell_type": "code",
   "execution_count": 6,
   "id": "b5cacea8-2272-48d8-972d-8dc4aaa745c7",
   "metadata": {
    "execution": {
     "iopub.execute_input": "2024-05-30T08:35:53.808625Z",
     "iopub.status.busy": "2024-05-30T08:35:53.807840Z",
     "iopub.status.idle": "2024-05-30T08:35:53.817435Z",
     "shell.execute_reply": "2024-05-30T08:35:53.816801Z",
     "shell.execute_reply.started": "2024-05-30T08:35:53.808594Z"
    }
   },
   "outputs": [
    {
     "name": "stdout",
     "output_type": "stream",
     "text": [
      "\n",
      "* - MOST RECENT SEARCH REPORT -\n",
      "| - Collection Shape: (1000000, 128)\n",
      "| - Search Time: 0.02995 s\n",
      "| - Search Distance: cosine\n",
      "| - Search K: 5\n",
      "| - Top 5 Results ID: [     0 380618 515925 703707 964683]\n",
      "| - Top 5 Results Similarity: [6.78201008 6.1760006  6.14976549 6.11931086 6.10258436]\n",
      "\n"
     ]
    }
   ],
   "source": [
    "print(collection.search_report_)"
   ]
  },
  {
   "cell_type": "markdown",
   "id": "79391527-278d-42de-9328-41f45577432f",
   "metadata": {},
   "source": [
    "## Use IVF-FLAT index mode\n",
    "\n",
    "IVF-FLAT uses inverted indexes for significant speedups on large-scale data.\n",
    "\n",
    "\n",
    "Note that IVF-FLAT mode will only take effect if the number of rows added to the collection has reached 100,000; below 100,000 rows, it will fall back to FLAT mode."
   ]
  },
  {
   "cell_type": "code",
   "execution_count": 7,
   "id": "6e11a797-6161-4566-8543-58d72be23e34",
   "metadata": {
    "execution": {
     "iopub.execute_input": "2024-05-30T08:35:53.819770Z",
     "iopub.status.busy": "2024-05-30T08:35:53.819609Z",
     "iopub.status.idle": "2024-05-30T08:35:53.952932Z",
     "shell.execute_reply": "2024-05-30T08:35:53.952621Z",
     "shell.execute_reply.started": "2024-05-30T08:35:53.819758Z"
    }
   },
   "outputs": [],
   "source": [
    "collection = my_db.require_collection(collection='test_vec2', dim=128, drop_if_exists=True, chunk_size=10000, use_cache=False)"
   ]
  },
  {
   "cell_type": "code",
   "execution_count": 8,
   "id": "a6ac03c3-8f26-4c27-8306-cd0ee4173ef8",
   "metadata": {
    "execution": {
     "iopub.execute_input": "2024-05-30T08:35:53.953555Z",
     "iopub.status.busy": "2024-05-30T08:35:53.953465Z",
     "iopub.status.idle": "2024-05-30T08:36:22.886079Z",
     "shell.execute_reply": "2024-05-30T08:36:22.885309Z",
     "shell.execute_reply.started": "2024-05-30T08:35:53.953545Z"
    }
   },
   "outputs": [
    {
     "name": "stderr",
     "output_type": "stream",
     "text": [
      "Adding items: 100%|██████████| 1000/1000 [00:24<00:00, 40.33batch/s]\n"
     ]
    }
   ],
   "source": [
    "from tqdm import trange\n",
    "\n",
    "import numpy as np\n",
    "\n",
    "with collection.insert_session() as session:\n",
    "    vectors = []\n",
    "    for i in range(1000000):\n",
    "        if i == 0:\n",
    "            query = np.random.random(128)\n",
    "            vec = query\n",
    "        else:\n",
    "            vec = np.random.random(128)\n",
    "\n",
    "        vectors.append((vec, i, {\"test\":f\"test_{i // 1000}\"}))\n",
    "        \n",
    "    session.bulk_add_items(vectors)\n",
    "\n",
    "collection.build_index(\"IVF-FLAT\")"
   ]
  },
  {
   "cell_type": "code",
   "execution_count": 19,
   "id": "93ba7b01-b859-4b09-9f67-4d360fb5a185",
   "metadata": {
    "execution": {
     "iopub.execute_input": "2024-05-30T08:37:36.204800Z",
     "iopub.status.busy": "2024-05-30T08:37:36.204329Z",
     "iopub.status.idle": "2024-05-30T08:37:36.491568Z",
     "shell.execute_reply": "2024-05-30T08:37:36.489654Z",
     "shell.execute_reply.started": "2024-05-30T08:37:36.204744Z"
    }
   },
   "outputs": [
    {
     "name": "stdout",
     "output_type": "stream",
     "text": [
      "\n",
      "* - MOST RECENT SEARCH REPORT -\n",
      "| - Collection Shape: (1000000, 128)\n",
      "| - Search Time: 0.26925 s\n",
      "| - Search Distance: cosine\n",
      "| - Search K: 5\n",
      "| - Top 5 Results ID: [ 21671 763098 829277 893376 449564]\n",
      "| - Top 5 Results Similarity: [5.97338295 5.80930614 5.79313946 5.78817749 5.76111984]\n",
      "\n"
     ]
    }
   ],
   "source": [
    "collection.search(vector=search_vec, k=5)\n",
    "print(collection.search_report_)"
   ]
  }
 ],
 "metadata": {
  "kernelspec": {
   "display_name": "Python 3 (ipykernel)",
   "language": "python",
   "name": "python3"
  },
  "language_info": {
   "codemirror_mode": {
    "name": "ipython",
    "version": 3
   },
   "file_extension": ".py",
   "mimetype": "text/x-python",
   "name": "python",
   "nbconvert_exporter": "python",
   "pygments_lexer": "ipython3",
   "version": "3.11.5"
  }
 },
 "nbformat": 4,
 "nbformat_minor": 5
}
