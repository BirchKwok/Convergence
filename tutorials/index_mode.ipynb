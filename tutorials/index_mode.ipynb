{
 "cells": [
  {
   "cell_type": "code",
   "execution_count": 1,
   "id": "9126375f-abc9-4e75-b1fe-ecb74abdded1",
   "metadata": {
    "execution": {
     "iopub.execute_input": "2024-04-26T10:32:40.511712Z",
     "iopub.status.busy": "2024-04-26T10:32:40.511622Z",
     "iopub.status.idle": "2024-04-26T10:32:40.517663Z",
     "shell.execute_reply": "2024-04-26T10:32:40.516483Z",
     "shell.execute_reply.started": "2024-04-26T10:32:40.511701Z"
    }
   },
   "outputs": [],
   "source": [
    "from min_vec import MinVectorDB"
   ]
  },
  {
   "cell_type": "code",
   "execution_count": 2,
   "id": "58834c7b-7dd8-489e-a68f-17fdbaa0e2ff",
   "metadata": {
    "execution": {
     "iopub.execute_input": "2024-04-26T10:32:40.520097Z",
     "iopub.status.busy": "2024-04-26T10:32:40.519729Z",
     "iopub.status.idle": "2024-04-26T10:32:42.279379Z",
     "shell.execute_reply": "2024-04-26T10:32:42.279059Z",
     "shell.execute_reply.started": "2024-04-26T10:32:40.520083Z"
    }
   },
   "outputs": [],
   "source": [
    "# Local server\n",
    "my_db = MinVectorDB(\"http://localhost:7637\")\n",
    "# or if in docker\n",
    "# my_db = MinVectorDB(\"http://localhost:5403\")\n",
    "# or specify a path\n",
    "# my_db = MinVectorDB(\"my_vec\")"
   ]
  },
  {
   "cell_type": "markdown",
   "id": "18018ce0-3622-48a5-84e8-760d89d0094d",
   "metadata": {},
   "source": [
    "## Use FLAT index mode\n",
    "\n",
    "FLAT mode is a brute force search mode, so performance decays linearly with increasing data size."
   ]
  },
  {
   "cell_type": "code",
   "execution_count": 3,
   "id": "870e3f23-3928-4482-9476-f1f959bce08f",
   "metadata": {
    "execution": {
     "iopub.execute_input": "2024-04-26T10:32:42.280054Z",
     "iopub.status.busy": "2024-04-26T10:32:42.279931Z",
     "iopub.status.idle": "2024-04-26T10:32:42.366402Z",
     "shell.execute_reply": "2024-04-26T10:32:42.366079Z",
     "shell.execute_reply.started": "2024-04-26T10:32:42.280042Z"
    }
   },
   "outputs": [],
   "source": [
    "collection = my_db.require_collection(collection='test_vec', dim=128, index_mode='FLAT', drop_if_exists=True)"
   ]
  },
  {
   "cell_type": "code",
   "execution_count": 4,
   "id": "4f15489c-d05e-4eb7-b80a-f75a887e787c",
   "metadata": {
    "execution": {
     "iopub.execute_input": "2024-04-26T10:32:42.367136Z",
     "iopub.status.busy": "2024-04-26T10:32:42.366980Z",
     "iopub.status.idle": "2024-04-26T10:32:58.957195Z",
     "shell.execute_reply": "2024-04-26T10:32:58.956926Z",
     "shell.execute_reply.started": "2024-04-26T10:32:42.367124Z"
    }
   },
   "outputs": [],
   "source": [
    "from tqdm import trange\n",
    "\n",
    "import numpy as np\n",
    "\n",
    "with collection.insert_session():\n",
    "    vectors = []\n",
    "    for i in range(100000):\n",
    "        if i == 0:\n",
    "            query = np.random.random(128)\n",
    "            vec = query\n",
    "        else:\n",
    "            vec = np.random.random(128)\n",
    "\n",
    "        vectors.append((vec, i, {\"test\":f\"test_{i // 1000}\"}))\n",
    "    collection.bulk_add_items(vectors)"
   ]
  },
  {
   "cell_type": "code",
   "execution_count": 5,
   "id": "e8099cfb-443b-47b4-bfca-1f0ee46627d6",
   "metadata": {
    "execution": {
     "iopub.execute_input": "2024-04-26T10:32:58.958447Z",
     "iopub.status.busy": "2024-04-26T10:32:58.958355Z",
     "iopub.status.idle": "2024-04-26T10:32:59.089560Z",
     "shell.execute_reply": "2024-04-26T10:32:59.089251Z",
     "shell.execute_reply.started": "2024-04-26T10:32:58.958439Z"
    }
   },
   "outputs": [
    {
     "data": {
      "text/plain": [
       "(array([    0, 85838, 61597, 47268, 48315]),\n",
       " array([0.99657476, 0.843458  , 0.84294021, 0.83954662, 0.83554995]))"
      ]
     },
     "execution_count": 5,
     "metadata": {},
     "output_type": "execute_result"
    }
   ],
   "source": [
    "collection.query(vector=query, k=5)"
   ]
  },
  {
   "cell_type": "code",
   "execution_count": 6,
   "id": "b5cacea8-2272-48d8-972d-8dc4aaa745c7",
   "metadata": {
    "execution": {
     "iopub.execute_input": "2024-04-26T10:32:59.090073Z",
     "iopub.status.busy": "2024-04-26T10:32:59.089986Z",
     "iopub.status.idle": "2024-04-26T10:32:59.094762Z",
     "shell.execute_reply": "2024-04-26T10:32:59.094461Z",
     "shell.execute_reply.started": "2024-04-26T10:32:59.090065Z"
    }
   },
   "outputs": [
    {
     "name": "stdout",
     "output_type": "stream",
     "text": [
      "\n",
      "* - MOST RECENT QUERY REPORT -\n",
      "| - Collection Shape: (100000, 128)\n",
      "| - Query Time: 0.12786 s\n",
      "| - Query Distance: cosine\n",
      "| - Query K: 5\n",
      "| - Top 5 Results ID: [    0 85838 61597 47268 48315]\n",
      "| - Top 5 Results Similarity: [0.99657476 0.843458   0.84294021 0.83954662 0.83554995]\n",
      "* - END OF REPORT -\n",
      "\n"
     ]
    }
   ],
   "source": [
    "print(collection.query_report_)"
   ]
  },
  {
   "cell_type": "markdown",
   "id": "79391527-278d-42de-9328-41f45577432f",
   "metadata": {},
   "source": [
    "## Use IVF-FLAT index mode\n",
    "\n",
    "IVF-FLAT uses inverted indexes for significant speedups on large-scale data.\n",
    "\n",
    "\n",
    "Note that IVF-FLAT mode will only take effect if the number of rows added to the collection has reached 100,000; below 100,000 rows, it will fall back to FLAT mode."
   ]
  },
  {
   "cell_type": "code",
   "execution_count": 7,
   "id": "6e11a797-6161-4566-8543-58d72be23e34",
   "metadata": {
    "execution": {
     "iopub.execute_input": "2024-04-26T10:32:59.095246Z",
     "iopub.status.busy": "2024-04-26T10:32:59.095156Z",
     "iopub.status.idle": "2024-04-26T10:32:59.100244Z",
     "shell.execute_reply": "2024-04-26T10:32:59.099940Z",
     "shell.execute_reply.started": "2024-04-26T10:32:59.095238Z"
    }
   },
   "outputs": [],
   "source": [
    "collection = my_db.require_collection(collection='test_vec2', dim=128, index_mode='IVF-FLAT', drop_if_exists=True, chunk_size=10000)"
   ]
  },
  {
   "cell_type": "code",
   "execution_count": 8,
   "id": "a6ac03c3-8f26-4c27-8306-cd0ee4173ef8",
   "metadata": {
    "execution": {
     "iopub.execute_input": "2024-04-26T10:32:59.100670Z",
     "iopub.status.busy": "2024-04-26T10:32:59.100592Z",
     "iopub.status.idle": "2024-04-26T10:33:15.548495Z",
     "shell.execute_reply": "2024-04-26T10:33:15.547557Z",
     "shell.execute_reply.started": "2024-04-26T10:32:59.100662Z"
    }
   },
   "outputs": [],
   "source": [
    "from tqdm import trange\n",
    "\n",
    "import numpy as np\n",
    "\n",
    "with collection.insert_session():\n",
    "    vectors = []\n",
    "    for i in range(100000):\n",
    "        if i == 0:\n",
    "            query = np.random.random(128)\n",
    "            vec = query\n",
    "        else:\n",
    "            vec = np.random.random(128)\n",
    "\n",
    "        vectors.append((vec, i, {\"test\":f\"test_{i // 1000}\"}))\n",
    "    collection.bulk_add_items(vectors)"
   ]
  },
  {
   "cell_type": "code",
   "execution_count": 9,
   "id": "93ba7b01-b859-4b09-9f67-4d360fb5a185",
   "metadata": {
    "execution": {
     "iopub.execute_input": "2024-04-26T10:33:15.550983Z",
     "iopub.status.busy": "2024-04-26T10:33:15.550542Z",
     "iopub.status.idle": "2024-04-26T10:33:15.621702Z",
     "shell.execute_reply": "2024-04-26T10:33:15.621398Z",
     "shell.execute_reply.started": "2024-04-26T10:33:15.550960Z"
    }
   },
   "outputs": [
    {
     "data": {
      "text/plain": [
       "(array([    0, 41509, 39325, 31824, 17708]),\n",
       " array([0.99684113, 0.82527226, 0.81985044, 0.81840128, 0.81757426]))"
      ]
     },
     "execution_count": 9,
     "metadata": {},
     "output_type": "execute_result"
    }
   ],
   "source": [
    "collection.query(vector=query, k=5)"
   ]
  },
  {
   "cell_type": "code",
   "execution_count": 10,
   "id": "6a667b72-b830-4ba9-883e-ee092f690dcd",
   "metadata": {
    "execution": {
     "iopub.execute_input": "2024-04-26T10:33:15.622299Z",
     "iopub.status.busy": "2024-04-26T10:33:15.622215Z",
     "iopub.status.idle": "2024-04-26T10:33:15.631700Z",
     "shell.execute_reply": "2024-04-26T10:33:15.631295Z",
     "shell.execute_reply.started": "2024-04-26T10:33:15.622291Z"
    }
   },
   "outputs": [
    {
     "name": "stdout",
     "output_type": "stream",
     "text": [
      "\n",
      "* - MOST RECENT QUERY REPORT -\n",
      "| - Collection Shape: (100000, 128)\n",
      "| - Query Time: 0.06284 s\n",
      "| - Query Distance: cosine\n",
      "| - Query K: 5\n",
      "| - Top 5 Results ID: [    0 41509 39325 31824 17708]\n",
      "| - Top 5 Results Similarity: [0.99684113 0.82527226 0.81985044 0.81840128 0.81757426]\n",
      "* - END OF REPORT -\n",
      "\n"
     ]
    }
   ],
   "source": [
    "print(collection.query_report_)"
   ]
  }
 ],
 "metadata": {
  "kernelspec": {
   "display_name": "Python 3 (ipykernel)",
   "language": "python",
   "name": "python3"
  },
  "language_info": {
   "codemirror_mode": {
    "name": "ipython",
    "version": 3
   },
   "file_extension": ".py",
   "mimetype": "text/x-python",
   "name": "python",
   "nbconvert_exporter": "python",
   "pygments_lexer": "ipython3",
   "version": "3.11.5"
  }
 },
 "nbformat": 4,
 "nbformat_minor": 5
}
