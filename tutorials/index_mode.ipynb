{
 "cells": [
  {
   "cell_type": "code",
   "execution_count": 1,
   "id": "9126375f-abc9-4e75-b1fe-ecb74abdded1",
   "metadata": {
    "ExecuteTime": {
     "end_time": "2024-04-30T09:20:29.419102Z",
     "start_time": "2024-04-30T09:20:29.415621Z"
    },
    "execution": {
     "iopub.execute_input": "2024-06-18T03:49:25.890253Z",
     "iopub.status.busy": "2024-06-18T03:49:25.889959Z",
     "iopub.status.idle": "2024-06-18T03:49:25.996075Z",
     "shell.execute_reply": "2024-06-18T03:49:25.994663Z",
     "shell.execute_reply.started": "2024-06-18T03:49:25.890233Z"
    }
   },
   "outputs": [],
   "source": [
    "import lynse"
   ]
  },
  {
   "cell_type": "code",
   "execution_count": 2,
   "id": "58834c7b-7dd8-489e-a68f-17fdbaa0e2ff",
   "metadata": {
    "execution": {
     "iopub.execute_input": "2024-06-18T03:49:26.345274Z",
     "iopub.status.busy": "2024-06-18T03:49:26.345007Z",
     "iopub.status.idle": "2024-06-18T03:49:26.768788Z",
     "shell.execute_reply": "2024-06-18T03:49:26.768494Z",
     "shell.execute_reply.started": "2024-06-18T03:49:26.345256Z"
    }
   },
   "outputs": [],
   "source": [
    "client = lynse.VectorDBClient(\"http://127.0.0.1:7637\")\n",
    "my_db = client.create_database(\"my_vec_db\", drop_if_exists=True)"
   ]
  },
  {
   "cell_type": "markdown",
   "id": "18018ce0-3622-48a5-84e8-760d89d0094d",
   "metadata": {},
   "source": [
    "## Use FLAT index mode\n",
    "\n",
    "FLAT mode is a brute force search mode, so performance decays linearly with increasing data size."
   ]
  },
  {
   "cell_type": "code",
   "execution_count": 3,
   "id": "870e3f23-3928-4482-9476-f1f959bce08f",
   "metadata": {
    "execution": {
     "iopub.execute_input": "2024-06-18T03:49:29.666287Z",
     "iopub.status.busy": "2024-06-18T03:49:29.664905Z",
     "iopub.status.idle": "2024-06-18T03:49:29.712470Z",
     "shell.execute_reply": "2024-06-18T03:49:29.712108Z",
     "shell.execute_reply.started": "2024-06-18T03:49:29.666236Z"
    }
   },
   "outputs": [],
   "source": [
    "collection = my_db.require_collection(collection='test_vec', dim=128, drop_if_exists=True)"
   ]
  },
  {
   "cell_type": "code",
   "execution_count": 4,
   "id": "4f15489c-d05e-4eb7-b80a-f75a887e787c",
   "metadata": {
    "execution": {
     "iopub.execute_input": "2024-06-18T03:49:30.654785Z",
     "iopub.status.busy": "2024-06-18T03:49:30.653309Z",
     "iopub.status.idle": "2024-06-18T03:50:58.090807Z",
     "shell.execute_reply": "2024-06-18T03:50:58.089595Z",
     "shell.execute_reply.started": "2024-06-18T03:49:30.654739Z"
    }
   },
   "outputs": [
    {
     "name": "stderr",
     "output_type": "stream",
     "text": [
      "Adding items: 100%|██████████| 1000/1000 [00:21<00:00, 46.46batch/s]\n",
      "\n",
      "2024-06-18 11:50:56 - LynseDB - INFO - Task status: {'status': 'Processing'}\n",
      "2024-06-18 11:50:58 - LynseDB - INFO - Task status: {'result': {'collection_name': 'test_vec', 'database_name': 'my_vec_db'}, 'status': 'Success'}\r"
     ]
    }
   ],
   "source": [
    "import numpy as np\n",
    "\n",
    "with collection.insert_session() as session:\n",
    "    vectors = []\n",
    "    for i in range(1000000):\n",
    "        if i == 0:\n",
    "            search_vec = np.random.random(128)\n",
    "            vec = search_vec\n",
    "        else:\n",
    "            vec = np.random.random(128)\n",
    "\n",
    "        vectors.append((vec, i, {\"test\":f\"test_{i // 1000}\"}))\n",
    "    session.bulk_add_items(vectors)"
   ]
  },
  {
   "cell_type": "code",
   "execution_count": 5,
   "id": "e8099cfb-443b-47b4-bfca-1f0ee46627d6",
   "metadata": {
    "execution": {
     "iopub.execute_input": "2024-06-18T03:51:15.588804Z",
     "iopub.status.busy": "2024-06-18T03:51:15.588032Z",
     "iopub.status.idle": "2024-06-18T03:51:15.670808Z",
     "shell.execute_reply": "2024-06-18T03:51:15.669887Z",
     "shell.execute_reply.started": "2024-06-18T03:51:15.588753Z"
    }
   },
   "outputs": [
    {
     "data": {
      "text/plain": [
       "(array([     0, 890676,  34931, 900812, 719672]),\n",
       " array([0.9999969 , 0.84619355, 0.84239531, 0.82766622, 0.82372534]),\n",
       " None)"
      ]
     },
     "execution_count": 5,
     "metadata": {},
     "output_type": "execute_result"
    }
   ],
   "source": [
    "collection.search(vector=search_vec, k=5)"
   ]
  },
  {
   "cell_type": "code",
   "execution_count": 6,
   "id": "b5cacea8-2272-48d8-972d-8dc4aaa745c7",
   "metadata": {
    "execution": {
     "iopub.execute_input": "2024-06-18T03:51:17.966191Z",
     "iopub.status.busy": "2024-06-18T03:51:17.964865Z",
     "iopub.status.idle": "2024-06-18T03:51:17.981438Z",
     "shell.execute_reply": "2024-06-18T03:51:17.980175Z",
     "shell.execute_reply.started": "2024-06-18T03:51:17.966135Z"
    }
   },
   "outputs": [
    {
     "name": "stdout",
     "output_type": "stream",
     "text": [
      "\n",
      "* - MOST RECENT SEARCH REPORT -\n",
      "| - Collection Shape: (1000000, 128)\n",
      "| - Search Time: 0.06348 s\n",
      "| - Search Distance: cosine\n",
      "| - Search K: 5\n",
      "| - Top 5 Results ID: [     0 890676  34931 900812 719672]\n",
      "| - Top 5 Results Similarity: [0.9999969  0.84619355 0.84239531 0.82766622 0.82372534]\n",
      "\n"
     ]
    }
   ],
   "source": [
    "print(collection.search_report_)"
   ]
  },
  {
   "cell_type": "markdown",
   "id": "79391527-278d-42de-9328-41f45577432f",
   "metadata": {},
   "source": [
    "## Use IVF-FLAT index mode\n",
    "\n",
    "IVF-FLAT uses inverted indexes for significant speedups on large-scale data.\n",
    "\n",
    "\n",
    "Note that IVF-FLAT mode will only take effect if the number of rows added to the collection has reached 100,000; below 100,000 rows, it will fall back to FLAT mode."
   ]
  },
  {
   "cell_type": "code",
   "execution_count": 7,
   "id": "6e11a797-6161-4566-8543-58d72be23e34",
   "metadata": {
    "execution": {
     "iopub.execute_input": "2024-06-18T03:51:22.007490Z",
     "iopub.status.busy": "2024-06-18T03:51:22.006811Z",
     "iopub.status.idle": "2024-06-18T03:51:22.059264Z",
     "shell.execute_reply": "2024-06-18T03:51:22.058929Z",
     "shell.execute_reply.started": "2024-06-18T03:51:22.007458Z"
    }
   },
   "outputs": [],
   "source": [
    "collection = my_db.require_collection(collection='test_vec2', dim=128, drop_if_exists=True, chunk_size=10000, use_cache=False)"
   ]
  },
  {
   "cell_type": "code",
   "execution_count": 8,
   "id": "a6ac03c3-8f26-4c27-8306-cd0ee4173ef8",
   "metadata": {
    "execution": {
     "iopub.execute_input": "2024-06-18T03:51:23.081771Z",
     "iopub.status.busy": "2024-06-18T03:51:23.080948Z",
     "iopub.status.idle": "2024-06-18T03:51:57.910649Z",
     "shell.execute_reply": "2024-06-18T03:51:57.909833Z",
     "shell.execute_reply.started": "2024-06-18T03:51:23.081716Z"
    }
   },
   "outputs": [
    {
     "name": "stderr",
     "output_type": "stream",
     "text": [
      "Adding items: 100%|██████████| 1000/1000 [00:21<00:00, 45.65batch/s]\n",
      "\n",
      "2024-06-18 11:51:53 - LynseDB - INFO - Task status: {'status': 'Processing'}\n",
      "2024-06-18 11:51:55 - LynseDB - INFO - Task status: {'result': {'collection_name': 'test_vec2', 'database_name': 'my_vec_db'}, 'status': 'Success'}\r"
     ]
    },
    {
     "data": {
      "text/plain": [
       "{'status': 'success',\n",
       " 'params': {'database_name': 'my_vec_db',\n",
       "  'collection_name': 'test_vec2',\n",
       "  'index_mode': 'IVF-FLAT'}}"
      ]
     },
     "execution_count": 8,
     "metadata": {},
     "output_type": "execute_result"
    }
   ],
   "source": [
    "from tqdm import trange\n",
    "\n",
    "import numpy as np\n",
    "\n",
    "with collection.insert_session() as session:\n",
    "    vectors = []\n",
    "    for i in range(1000000):\n",
    "        if i == 0:\n",
    "            query = np.random.random(128)\n",
    "            vec = query\n",
    "        else:\n",
    "            vec = np.random.random(128)\n",
    "\n",
    "        vectors.append((vec, i, {\"test\":f\"test_{i // 1000}\"}))\n",
    "        \n",
    "    session.bulk_add_items(vectors)\n",
    "\n",
    "collection.build_index(\"IVF-FLAT\")"
   ]
  },
  {
   "cell_type": "code",
   "execution_count": 14,
   "id": "93ba7b01-b859-4b09-9f67-4d360fb5a185",
   "metadata": {
    "execution": {
     "iopub.execute_input": "2024-06-18T03:52:26.125108Z",
     "iopub.status.busy": "2024-06-18T03:52:26.124739Z",
     "iopub.status.idle": "2024-06-18T03:52:26.244006Z",
     "shell.execute_reply": "2024-06-18T03:52:26.243362Z",
     "shell.execute_reply.started": "2024-06-18T03:52:26.125084Z"
    }
   },
   "outputs": [
    {
     "name": "stdout",
     "output_type": "stream",
     "text": [
      "\n",
      "* - MOST RECENT SEARCH REPORT -\n",
      "| - Collection Shape: (1000000, 128)\n",
      "| - Search Time: 0.11089 s\n",
      "| - Search Distance: cosine\n",
      "| - Search K: 5\n",
      "| - Top 5 Results ID: [254174 447460 186416 321505 630247]\n",
      "| - Top 5 Results Similarity: [0.86221623 0.86213523 0.8573665  0.85304284 0.85047865]\n",
      "\n"
     ]
    }
   ],
   "source": [
    "collection.search(vector=search_vec, k=5)\n",
    "print(collection.search_report_)"
   ]
  }
 ],
 "metadata": {
  "kernelspec": {
   "display_name": "Python 3 (ipykernel)",
   "language": "python",
   "name": "python3"
  },
  "language_info": {
   "codemirror_mode": {
    "name": "ipython",
    "version": 3
   },
   "file_extension": ".py",
   "mimetype": "text/x-python",
   "name": "python",
   "nbconvert_exporter": "python",
   "pygments_lexer": "ipython3",
   "version": "3.11.5"
  }
 },
 "nbformat": 4,
 "nbformat_minor": 5
}
