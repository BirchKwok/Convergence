{
 "cells": [
  {
   "cell_type": "code",
   "execution_count": 1,
   "id": "9126375f-abc9-4e75-b1fe-ecb74abdded1",
   "metadata": {
    "execution": {
     "iopub.execute_input": "2024-04-23T10:00:54.864594Z",
     "iopub.status.busy": "2024-04-23T10:00:54.864194Z",
     "iopub.status.idle": "2024-04-23T10:00:56.549603Z",
     "shell.execute_reply": "2024-04-23T10:00:56.549299Z",
     "shell.execute_reply.started": "2024-04-23T10:00:54.864538Z"
    }
   },
   "outputs": [],
   "source": [
    "from min_vec import MinVectorDB"
   ]
  },
  {
   "cell_type": "code",
   "execution_count": 2,
   "id": "58834c7b-7dd8-489e-a68f-17fdbaa0e2ff",
   "metadata": {
    "execution": {
     "iopub.execute_input": "2024-04-23T10:00:56.550821Z",
     "iopub.status.busy": "2024-04-23T10:00:56.550696Z",
     "iopub.status.idle": "2024-04-23T10:00:56.553112Z",
     "shell.execute_reply": "2024-04-23T10:00:56.552858Z",
     "shell.execute_reply.started": "2024-04-23T10:00:56.550814Z"
    }
   },
   "outputs": [
    {
     "name": "stderr",
     "output_type": "stream",
     "text": [
      "MinVectorDB - INFO - Successful initialization of MinVectorDB in root_path: /projects/MinVectorDB/tutorials/my_vec_db\n"
     ]
    }
   ],
   "source": [
    "my_db = MinVectorDB('my_vec_db')"
   ]
  },
  {
   "cell_type": "markdown",
   "id": "18018ce0-3622-48a5-84e8-760d89d0094d",
   "metadata": {},
   "source": [
    "## Use FLAT index mode\n",
    "\n",
    "FLAT mode is a brute force search mode, so performance decays linearly with increasing data size."
   ]
  },
  {
   "cell_type": "code",
   "execution_count": 3,
   "id": "870e3f23-3928-4482-9476-f1f959bce08f",
   "metadata": {
    "execution": {
     "iopub.execute_input": "2024-04-23T10:00:56.553656Z",
     "iopub.status.busy": "2024-04-23T10:00:56.553578Z",
     "iopub.status.idle": "2024-04-23T10:00:56.632965Z",
     "shell.execute_reply": "2024-04-23T10:00:56.632709Z",
     "shell.execute_reply.started": "2024-04-23T10:00:56.553645Z"
    }
   },
   "outputs": [
    {
     "name": "stderr",
     "output_type": "stream",
     "text": [
      "MinVectorDB - INFO - Creating collection test_vec with: \n",
      "//    dim=128, collection='test_vec', \n",
      "//    n_clusters=16, chunk_size=100000,\n",
      "//    distance='cosine', index_mode='FLAT', \n",
      "//    dtypes='float32', use_cache=True, \n",
      "//    scaler_bits=8, n_threads=10\n",
      "MinVectorDB - INFO - Collection 'test_vec' already exists. Dropped.\n"
     ]
    }
   ],
   "source": [
    "collection = my_db.require_collection(collection='test_vec', dim=128, index_mode='FLAT', drop_if_exists=True)"
   ]
  },
  {
   "cell_type": "code",
   "execution_count": 4,
   "id": "4f15489c-d05e-4eb7-b80a-f75a887e787c",
   "metadata": {
    "execution": {
     "iopub.execute_input": "2024-04-23T10:00:56.633521Z",
     "iopub.status.busy": "2024-04-23T10:00:56.633432Z",
     "iopub.status.idle": "2024-04-23T10:00:57.500063Z",
     "shell.execute_reply": "2024-04-23T10:00:57.499753Z",
     "shell.execute_reply.started": "2024-04-23T10:00:56.633513Z"
    }
   },
   "outputs": [
    {
     "name": "stderr",
     "output_type": "stream",
     "text": [
      "100%|██████████| 100000/100000 [00:00<00:00, 136726.36vectors/s]\n"
     ]
    }
   ],
   "source": [
    "from tqdm import trange\n",
    "\n",
    "import numpy as np\n",
    "\n",
    "with collection.insert_session():\n",
    "    for i in trange(100000, unit=\"vectors\"):\n",
    "        if i == 0:\n",
    "            query = np.random.random(128)\n",
    "            vec = query\n",
    "        else:\n",
    "            vec = np.random.random(128)\n",
    "        collection.add_item(vec, id=i, field={\"test\":f\"test_{i // 1000}\"})"
   ]
  },
  {
   "cell_type": "code",
   "execution_count": 5,
   "id": "e8099cfb-443b-47b4-bfca-1f0ee46627d6",
   "metadata": {
    "execution": {
     "iopub.execute_input": "2024-04-23T10:00:57.500738Z",
     "iopub.status.busy": "2024-04-23T10:00:57.500649Z",
     "iopub.status.idle": "2024-04-23T10:00:57.652299Z",
     "shell.execute_reply": "2024-04-23T10:00:57.652018Z",
     "shell.execute_reply.started": "2024-04-23T10:00:57.500726Z"
    }
   },
   "outputs": [
    {
     "data": {
      "text/plain": [
       "(array([    0, 83623, 27364, 63772, 95421]),\n",
       " Array([0.9964056 , 0.84585243, 0.84466696, 0.8444241 , 0.84396076],      dtype=float32))"
      ]
     },
     "execution_count": 5,
     "metadata": {},
     "output_type": "execute_result"
    }
   ],
   "source": [
    "collection.query(vector=query, k=5)"
   ]
  },
  {
   "cell_type": "code",
   "execution_count": 6,
   "id": "b5cacea8-2272-48d8-972d-8dc4aaa745c7",
   "metadata": {
    "execution": {
     "iopub.execute_input": "2024-04-23T10:00:57.652761Z",
     "iopub.status.busy": "2024-04-23T10:00:57.652683Z",
     "iopub.status.idle": "2024-04-23T10:00:57.654737Z",
     "shell.execute_reply": "2024-04-23T10:00:57.654491Z",
     "shell.execute_reply.started": "2024-04-23T10:00:57.652753Z"
    }
   },
   "outputs": [
    {
     "name": "stdout",
     "output_type": "stream",
     "text": [
      "\n",
      "* - MOST RECENT QUERY REPORT -\n",
      "| - Database Shape: (100000, 128)\n",
      "| - Query Time: 0.12887 s\n",
      "| - Query Distance: cosine\n",
      "| - Query K: 5\n",
      "| - Top 5 Results ID: [    0 83623 27364 63772 95421]\n",
      "| - Top 5 Results Similarity: [0.996406 0.845852 0.844667 0.844424 0.843961]\n",
      "* - END OF REPORT -\n",
      "\n"
     ]
    }
   ],
   "source": [
    "print(collection.query_report_)"
   ]
  },
  {
   "cell_type": "markdown",
   "id": "79391527-278d-42de-9328-41f45577432f",
   "metadata": {},
   "source": [
    "## Use IVF-FLAT index mode\n",
    "\n",
    "IVF-FLAT uses inverted indexes for significant speedups on large-scale data.\n",
    "\n",
    "\n",
    "Note that IVF-FLAT mode will only take effect if the number of rows added to the collection has reached 100,000; below 100,000 rows, it will fall back to FLAT mode."
   ]
  },
  {
   "cell_type": "code",
   "execution_count": 7,
   "id": "6e11a797-6161-4566-8543-58d72be23e34",
   "metadata": {
    "execution": {
     "iopub.execute_input": "2024-04-23T10:00:57.656147Z",
     "iopub.status.busy": "2024-04-23T10:00:57.656055Z",
     "iopub.status.idle": "2024-04-23T10:00:57.744928Z",
     "shell.execute_reply": "2024-04-23T10:00:57.744649Z",
     "shell.execute_reply.started": "2024-04-23T10:00:57.656140Z"
    }
   },
   "outputs": [
    {
     "name": "stderr",
     "output_type": "stream",
     "text": [
      "MinVectorDB - INFO - Creating collection test_vec2 with: \n",
      "//    dim=128, collection='test_vec2', \n",
      "//    n_clusters=16, chunk_size=10000,\n",
      "//    distance='cosine', index_mode='IVF-FLAT', \n",
      "//    dtypes='float32', use_cache=True, \n",
      "//    scaler_bits=8, n_threads=10\n",
      "MinVectorDB - INFO - Collection 'test_vec2' already exists. Dropped.\n"
     ]
    }
   ],
   "source": [
    "collection = my_db.require_collection(collection='test_vec2', dim=128, index_mode='IVF-FLAT', drop_if_exists=True, chunk_size=10000)"
   ]
  },
  {
   "cell_type": "code",
   "execution_count": 8,
   "id": "a6ac03c3-8f26-4c27-8306-cd0ee4173ef8",
   "metadata": {
    "execution": {
     "iopub.execute_input": "2024-04-23T10:00:57.745472Z",
     "iopub.status.busy": "2024-04-23T10:00:57.745382Z",
     "iopub.status.idle": "2024-04-23T10:00:59.253234Z",
     "shell.execute_reply": "2024-04-23T10:00:59.252783Z",
     "shell.execute_reply.started": "2024-04-23T10:00:57.745463Z"
    }
   },
   "outputs": [
    {
     "name": "stderr",
     "output_type": "stream",
     "text": [
      "100%|██████████| 100000/100000 [00:00<00:00, 138672.42vectors/s]\n"
     ]
    }
   ],
   "source": [
    "from tqdm import trange\n",
    "\n",
    "import numpy as np\n",
    "\n",
    "with collection.insert_session():\n",
    "    for i in trange(100000, unit=\"vectors\"):\n",
    "        if i == 0:\n",
    "            query = np.random.random(128)\n",
    "            vec = query\n",
    "        else:\n",
    "            vec = np.random.random(128)\n",
    "        collection.add_item(vec, id=i, field={\"test\":f\"test_{i // 1000}\"})"
   ]
  },
  {
   "cell_type": "code",
   "execution_count": 9,
   "id": "93ba7b01-b859-4b09-9f67-4d360fb5a185",
   "metadata": {
    "execution": {
     "iopub.execute_input": "2024-04-23T10:00:59.254295Z",
     "iopub.status.busy": "2024-04-23T10:00:59.253985Z",
     "iopub.status.idle": "2024-04-23T10:00:59.324961Z",
     "shell.execute_reply": "2024-04-23T10:00:59.324646Z",
     "shell.execute_reply.started": "2024-04-23T10:00:59.254282Z"
    }
   },
   "outputs": [
    {
     "data": {
      "text/plain": [
       "(array([    0, 25346, 66497, 26745, 69704]),\n",
       " Array([0.9972331 , 0.8270122 , 0.8229687 , 0.8146472 , 0.81384647],      dtype=float32))"
      ]
     },
     "execution_count": 9,
     "metadata": {},
     "output_type": "execute_result"
    }
   ],
   "source": [
    "collection.query(vector=query, k=5)"
   ]
  },
  {
   "cell_type": "code",
   "execution_count": 10,
   "id": "6a667b72-b830-4ba9-883e-ee092f690dcd",
   "metadata": {
    "execution": {
     "iopub.execute_input": "2024-04-23T10:00:59.325556Z",
     "iopub.status.busy": "2024-04-23T10:00:59.325474Z",
     "iopub.status.idle": "2024-04-23T10:00:59.327479Z",
     "shell.execute_reply": "2024-04-23T10:00:59.327207Z",
     "shell.execute_reply.started": "2024-04-23T10:00:59.325549Z"
    }
   },
   "outputs": [
    {
     "name": "stdout",
     "output_type": "stream",
     "text": [
      "\n",
      "* - MOST RECENT QUERY REPORT -\n",
      "| - Database Shape: (100000, 128)\n",
      "| - Query Time: 0.06724 s\n",
      "| - Query Distance: cosine\n",
      "| - Query K: 5\n",
      "| - Top 5 Results ID: [    0 25346 66497 26745 69704]\n",
      "| - Top 5 Results Similarity: [0.997233 0.827012 0.822969 0.814647 0.813846]\n",
      "* - END OF REPORT -\n",
      "\n"
     ]
    }
   ],
   "source": [
    "print(collection.query_report_)"
   ]
  }
 ],
 "metadata": {
  "kernelspec": {
   "display_name": "Python 3 (ipykernel)",
   "language": "python",
   "name": "python3"
  },
  "language_info": {
   "codemirror_mode": {
    "name": "ipython",
    "version": 3
   },
   "file_extension": ".py",
   "mimetype": "text/x-python",
   "name": "python",
   "nbconvert_exporter": "python",
   "pygments_lexer": "ipython3",
   "version": "3.11.5"
  }
 },
 "nbformat": 4,
 "nbformat_minor": 5
}
