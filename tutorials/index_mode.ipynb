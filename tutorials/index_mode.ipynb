{
 "cells": [
  {
   "cell_type": "code",
   "execution_count": 1,
   "id": "9126375f-abc9-4e75-b1fe-ecb74abdded1",
   "metadata": {
    "ExecuteTime": {
     "end_time": "2024-04-30T09:20:29.419102Z",
     "start_time": "2024-04-30T09:20:29.415621Z"
    },
    "execution": {
     "iopub.execute_input": "2024-04-30T10:53:34.088227Z",
     "iopub.status.busy": "2024-04-30T10:53:34.087998Z",
     "iopub.status.idle": "2024-04-30T10:53:34.097195Z",
     "shell.execute_reply": "2024-04-30T10:53:34.096447Z",
     "shell.execute_reply.started": "2024-04-30T10:53:34.088206Z"
    }
   },
   "outputs": [],
   "source": [
    "from min_vec import MinVectorDB"
   ]
  },
  {
   "cell_type": "code",
   "execution_count": 2,
   "id": "58834c7b-7dd8-489e-a68f-17fdbaa0e2ff",
   "metadata": {
    "execution": {
     "iopub.execute_input": "2024-04-30T10:53:34.920087Z",
     "iopub.status.busy": "2024-04-30T10:53:34.919633Z",
     "iopub.status.idle": "2024-04-30T10:53:35.703226Z",
     "shell.execute_reply": "2024-04-30T10:53:35.702822Z",
     "shell.execute_reply.started": "2024-04-30T10:53:34.920066Z"
    }
   },
   "outputs": [],
   "source": [
    "my_db = MinVectorDB(\"http://localhost:7637\")\n",
    "# or specify a path\n",
    "# my_db = MinVectorDB(\"my_vec\")"
   ]
  },
  {
   "cell_type": "markdown",
   "id": "18018ce0-3622-48a5-84e8-760d89d0094d",
   "metadata": {},
   "source": [
    "## Use FLAT index mode\n",
    "\n",
    "FLAT mode is a brute force search mode, so performance decays linearly with increasing data size."
   ]
  },
  {
   "cell_type": "code",
   "execution_count": 3,
   "id": "870e3f23-3928-4482-9476-f1f959bce08f",
   "metadata": {
    "execution": {
     "iopub.execute_input": "2024-04-30T10:53:36.884215Z",
     "iopub.status.busy": "2024-04-30T10:53:36.883631Z",
     "iopub.status.idle": "2024-04-30T10:53:36.960033Z",
     "shell.execute_reply": "2024-04-30T10:53:36.959717Z",
     "shell.execute_reply.started": "2024-04-30T10:53:36.884190Z"
    }
   },
   "outputs": [],
   "source": "collection = my_db.require_collection(collection='test_vec', dim=128, index_mode='FLAT', drop_if_exists=True)"
  },
  {
   "cell_type": "code",
   "execution_count": 4,
   "id": "4f15489c-d05e-4eb7-b80a-f75a887e787c",
   "metadata": {
    "execution": {
     "iopub.execute_input": "2024-04-30T10:53:39.068438Z",
     "iopub.status.busy": "2024-04-30T10:53:39.067316Z",
     "iopub.status.idle": "2024-04-30T10:53:42.341534Z",
     "shell.execute_reply": "2024-04-30T10:53:42.341232Z",
     "shell.execute_reply.started": "2024-04-30T10:53:39.068388Z"
    }
   },
   "outputs": [
    {
     "name": "stderr",
     "output_type": "stream",
     "text": [
      "Adding items: 100%|██████████| 100/100 [00:02<00:00, 46.26batch/s]\n"
     ]
    }
   ],
   "source": [
    "\n",
    "import numpy as np\n",
    "\n",
    "with collection.insert_session():\n",
    "    vectors = []\n",
    "    for i in range(100000):\n",
    "        if i == 0:\n",
    "            query = np.random.random(128)\n",
    "            vec = query\n",
    "        else:\n",
    "            vec = np.random.random(128)\n",
    "\n",
    "        vectors.append((vec, i, {\"test\":f\"test_{i // 1000}\"}))\n",
    "    collection.bulk_add_items(vectors)"
   ]
  },
  {
   "cell_type": "code",
   "execution_count": 5,
   "id": "c9f2fb97-93ca-4b74-818a-78d4bac5c0a4",
   "metadata": {
    "execution": {
     "iopub.execute_input": "2024-04-30T10:53:43.799331Z",
     "iopub.status.busy": "2024-04-30T10:53:43.798901Z",
     "iopub.status.idle": "2024-04-30T10:53:47.104872Z",
     "shell.execute_reply": "2024-04-30T10:53:47.104559Z",
     "shell.execute_reply.started": "2024-04-30T10:53:43.799293Z"
    }
   },
   "outputs": [
    {
     "name": "stderr",
     "output_type": "stream",
     "text": [
      "Adding items: 100%|██████████| 100/100 [00:02<00:00, 45.67batch/s]\n"
     ]
    }
   ],
   "source": ""
  },
  {
   "cell_type": "code",
   "execution_count": 6,
   "id": "e8099cfb-443b-47b4-bfca-1f0ee46627d6",
   "metadata": {
    "execution": {
     "iopub.execute_input": "2024-04-30T10:53:49.488183Z",
     "iopub.status.busy": "2024-04-30T10:53:49.487907Z",
     "iopub.status.idle": "2024-04-30T10:53:49.685076Z",
     "shell.execute_reply": "2024-04-30T10:53:49.684817Z",
     "shell.execute_reply.started": "2024-04-30T10:53:49.488149Z"
    }
   },
   "outputs": [
    {
     "data": {
      "text/plain": [
       "(array([     0,  93766,  72221, 164287,  31034]),\n",
       " array([0.99663687, 0.83784258, 0.83720052, 0.83609754, 0.83343524]))"
      ]
     },
     "execution_count": 6,
     "metadata": {},
     "output_type": "execute_result"
    }
   ],
   "source": [
    "collection.query(vector=query, k=5)"
   ]
  },
  {
   "cell_type": "code",
   "execution_count": 7,
   "id": "b5cacea8-2272-48d8-972d-8dc4aaa745c7",
   "metadata": {
    "execution": {
     "iopub.execute_input": "2024-04-30T10:53:52.165558Z",
     "iopub.status.busy": "2024-04-30T10:53:52.164734Z",
     "iopub.status.idle": "2024-04-30T10:53:52.179370Z",
     "shell.execute_reply": "2024-04-30T10:53:52.178672Z",
     "shell.execute_reply.started": "2024-04-30T10:53:52.165529Z"
    }
   },
   "outputs": [
    {
     "name": "stdout",
     "output_type": "stream",
     "text": [
      "\n",
      "* - MOST RECENT QUERY REPORT -\n",
      "| - Collection Shape: (200000, 128)\n",
      "| - Query Time: 0.18736 s\n",
      "| - Query Distance: cosine\n",
      "| - Query K: 5\n",
      "| - Top 5 Results ID: [     0  93766  72221 164287  31034]\n",
      "| - Top 5 Results Similarity: [0.99663687 0.83784258 0.83720052 0.83609754 0.83343524]\n",
      "* - END OF REPORT -\n",
      "\n"
     ]
    }
   ],
   "source": [
    "print(collection.query_report_)"
   ]
  },
  {
   "cell_type": "markdown",
   "id": "79391527-278d-42de-9328-41f45577432f",
   "metadata": {},
   "source": [
    "## Use IVF-FLAT index mode\n",
    "\n",
    "IVF-FLAT uses inverted indexes for significant speedups on large-scale data.\n",
    "\n",
    "\n",
    "Note that IVF-FLAT mode will only take effect if the number of rows added to the collection has reached 100,000; below 100,000 rows, it will fall back to FLAT mode."
   ]
  },
  {
   "cell_type": "code",
   "execution_count": 11,
   "id": "6e11a797-6161-4566-8543-58d72be23e34",
   "metadata": {
    "execution": {
     "iopub.execute_input": "2024-04-30T09:52:55.139191Z",
     "iopub.status.busy": "2024-04-30T09:52:55.138758Z",
     "iopub.status.idle": "2024-04-30T09:52:55.294116Z",
     "shell.execute_reply": "2024-04-30T09:52:55.293770Z",
     "shell.execute_reply.started": "2024-04-30T09:52:55.139154Z"
    }
   },
   "outputs": [],
   "source": [
    "collection = my_db.require_collection(collection='test_vec2', dim=128, index_mode='IVF-FLAT', drop_if_exists=True, chunk_size=10000)"
   ]
  },
  {
   "cell_type": "code",
   "execution_count": 12,
   "id": "a6ac03c3-8f26-4c27-8306-cd0ee4173ef8",
   "metadata": {
    "execution": {
     "iopub.execute_input": "2024-04-30T09:52:56.014653Z",
     "iopub.status.busy": "2024-04-30T09:52:56.014216Z",
     "iopub.status.idle": "2024-04-30T09:52:58.902327Z",
     "shell.execute_reply": "2024-04-30T09:52:58.901382Z",
     "shell.execute_reply.started": "2024-04-30T09:52:56.014633Z"
    }
   },
   "outputs": [
    {
     "name": "stderr",
     "output_type": "stream",
     "text": [
      "Adding items: 100%|██████████| 100/100 [00:01<00:00, 53.86batch/s]\n"
     ]
    }
   ],
   "source": [
    "from tqdm import trange\n",
    "\n",
    "import numpy as np\n",
    "\n",
    "with collection.insert_session():\n",
    "    vectors = []\n",
    "    for i in range(100000):\n",
    "        if i == 0:\n",
    "            query = np.random.random(128)\n",
    "            vec = query\n",
    "        else:\n",
    "            vec = np.random.random(128)\n",
    "\n",
    "        vectors.append((vec, i, {\"test\":f\"test_{i // 1000}\"}))\n",
    "        \n",
    "    collection.bulk_add_items(vectors)"
   ]
  },
  {
   "cell_type": "code",
   "execution_count": 13,
   "id": "93ba7b01-b859-4b09-9f67-4d360fb5a185",
   "metadata": {
    "execution": {
     "iopub.execute_input": "2024-04-30T09:52:58.946323Z",
     "iopub.status.busy": "2024-04-30T09:52:58.945825Z",
     "iopub.status.idle": "2024-04-30T09:52:58.978438Z",
     "shell.execute_reply": "2024-04-30T09:52:58.978045Z",
     "shell.execute_reply.started": "2024-04-30T09:52:58.946302Z"
    }
   },
   "outputs": [
    {
     "data": {
      "text/plain": [
       "(array([    0, 28076, 33346, 25574, 53443, 28211, 89654, 38817, 70201,\n",
       "        47820]),\n",
       " array([0.99427956, 0.83509803, 0.82248974, 0.8204155 , 0.81968242,\n",
       "        0.81914139, 0.81905454, 0.81847763, 0.81813222, 0.81808954]))"
      ]
     },
     "execution_count": 13,
     "metadata": {},
     "output_type": "execute_result"
    }
   ],
   "source": "collection.query(vector=query, k=5)"
  },
  {
   "cell_type": "code",
   "execution_count": 14,
   "id": "6a667b72-b830-4ba9-883e-ee092f690dcd",
   "metadata": {
    "execution": {
     "iopub.execute_input": "2024-04-30T09:52:59.932994Z",
     "iopub.status.busy": "2024-04-30T09:52:59.932637Z",
     "iopub.status.idle": "2024-04-30T09:52:59.942677Z",
     "shell.execute_reply": "2024-04-30T09:52:59.942149Z",
     "shell.execute_reply.started": "2024-04-30T09:52:59.932971Z"
    }
   },
   "outputs": [
    {
     "name": "stdout",
     "output_type": "stream",
     "text": [
      "\n",
      "* - MOST RECENT QUERY REPORT -\n",
      "| - Collection Shape: (100000, 128)\n",
      "| - Query Time: 0.02555 s\n",
      "| - Query Distance: cosine\n",
      "| - Query K: 10\n",
      "| - Top 10 Results ID: [    0 28076 33346 25574 53443 28211 89654 38817 70201 47820]\n",
      "| - Top 10 Results Similarity: [0.99427956 0.83509803 0.82248974 0.8204155  0.81968242 0.81914139\n",
      " 0.81905454 0.81847763 0.81813222 0.81808954]\n",
      "* - END OF REPORT -\n",
      "\n"
     ]
    }
   ],
   "source": [
    "print(collection.query_report_)"
   ]
  }
 ],
 "metadata": {
  "kernelspec": {
   "display_name": "Python 3 (ipykernel)",
   "language": "python",
   "name": "python3"
  },
  "language_info": {
   "codemirror_mode": {
    "name": "ipython",
    "version": 3
   },
   "file_extension": ".py",
   "mimetype": "text/x-python",
   "name": "python",
   "nbconvert_exporter": "python",
   "pygments_lexer": "ipython3",
   "version": "3.11.5"
  }
 },
 "nbformat": 4,
 "nbformat_minor": 5
}
