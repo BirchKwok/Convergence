{
 "cells": [
  {
   "cell_type": "code",
   "execution_count": 1,
   "id": "9126375f-abc9-4e75-b1fe-ecb74abdded1",
   "metadata": {
    "execution": {
     "iopub.execute_input": "2024-04-26T09:52:40.703189Z",
     "iopub.status.busy": "2024-04-26T09:52:40.703080Z",
     "iopub.status.idle": "2024-04-26T09:52:40.710720Z",
     "shell.execute_reply": "2024-04-26T09:52:40.710339Z",
     "shell.execute_reply.started": "2024-04-26T09:52:40.703178Z"
    }
   },
   "outputs": [],
   "source": [
    "from min_vec import MinVectorDB"
   ]
  },
  {
   "cell_type": "code",
   "execution_count": 11,
   "id": "58834c7b-7dd8-489e-a68f-17fdbaa0e2ff",
   "metadata": {
    "execution": {
     "iopub.execute_input": "2024-04-26T09:54:21.879138Z",
     "iopub.status.busy": "2024-04-26T09:54:21.878768Z",
     "iopub.status.idle": "2024-04-26T09:54:21.908815Z",
     "shell.execute_reply": "2024-04-26T09:54:21.908351Z",
     "shell.execute_reply.started": "2024-04-26T09:54:21.879117Z"
    }
   },
   "outputs": [],
   "source": [
    "# Local server\n",
    "my_db = MinVectorDB(\"http://localhost:7637\")\n",
    "# or if in docker\n",
    "# my_db = MinVectorDB(\"http://localhost:5403\")\n",
    "# or specify a path\n",
    "# my_db = MinVectorDB(\"my_vec\")"
   ]
  },
  {
   "cell_type": "markdown",
   "id": "18018ce0-3622-48a5-84e8-760d89d0094d",
   "metadata": {},
   "source": [
    "## Use FLAT index mode\n",
    "\n",
    "FLAT mode is a brute force search mode, so performance decays linearly with increasing data size."
   ]
  },
  {
   "cell_type": "code",
   "execution_count": 12,
   "id": "870e3f23-3928-4482-9476-f1f959bce08f",
   "metadata": {
    "execution": {
     "iopub.execute_input": "2024-04-26T09:54:24.409743Z",
     "iopub.status.busy": "2024-04-26T09:54:24.409058Z",
     "iopub.status.idle": "2024-04-26T09:54:24.548665Z",
     "shell.execute_reply": "2024-04-26T09:54:24.547797Z",
     "shell.execute_reply.started": "2024-04-26T09:54:24.409720Z"
    }
   },
   "outputs": [],
   "source": [
    "collection = my_db.require_collection(collection='test_vec', dim=128, index_mode='FLAT', drop_if_exists=True)"
   ]
  },
  {
   "cell_type": "code",
   "execution_count": 13,
   "id": "4f15489c-d05e-4eb7-b80a-f75a887e787c",
   "metadata": {
    "execution": {
     "iopub.execute_input": "2024-04-26T09:54:26.040348Z",
     "iopub.status.busy": "2024-04-26T09:54:26.039821Z",
     "iopub.status.idle": "2024-04-26T09:54:41.451995Z",
     "shell.execute_reply": "2024-04-26T09:54:41.451192Z",
     "shell.execute_reply.started": "2024-04-26T09:54:26.040323Z"
    }
   },
   "outputs": [],
   "source": [
    "from tqdm import trange\n",
    "\n",
    "import numpy as np\n",
    "\n",
    "with collection.insert_session():\n",
    "    vectors = []\n",
    "    for i in range(100000):\n",
    "        if i == 0:\n",
    "            query = np.random.random(128)\n",
    "            vec = query\n",
    "        else:\n",
    "            vec = np.random.random(128)\n",
    "\n",
    "        vectors.append((vec, i, {\"test\":f\"test_{i // 1000}\"}))\n",
    "    collection.bulk_add_items(vectors)"
   ]
  },
  {
   "cell_type": "code",
   "execution_count": 14,
   "id": "e8099cfb-443b-47b4-bfca-1f0ee46627d6",
   "metadata": {
    "execution": {
     "iopub.execute_input": "2024-04-26T09:54:41.454070Z",
     "iopub.status.busy": "2024-04-26T09:54:41.453643Z",
     "iopub.status.idle": "2024-04-26T09:54:41.643994Z",
     "shell.execute_reply": "2024-04-26T09:54:41.643731Z",
     "shell.execute_reply.started": "2024-04-26T09:54:41.454034Z"
    }
   },
   "outputs": [
    {
     "data": {
      "text/plain": [
       "(array([    0, 83015, 83514, 81066, 20269]),\n",
       " array([0.9964596 , 0.84821522, 0.84683108, 0.8449266 , 0.84055191]))"
      ]
     },
     "execution_count": 14,
     "metadata": {},
     "output_type": "execute_result"
    }
   ],
   "source": [
    "collection.query(vector=query, k=5)"
   ]
  },
  {
   "cell_type": "code",
   "execution_count": 15,
   "id": "b5cacea8-2272-48d8-972d-8dc4aaa745c7",
   "metadata": {
    "execution": {
     "iopub.execute_input": "2024-04-26T09:54:41.644441Z",
     "iopub.status.busy": "2024-04-26T09:54:41.644361Z",
     "iopub.status.idle": "2024-04-26T09:54:41.648902Z",
     "shell.execute_reply": "2024-04-26T09:54:41.648586Z",
     "shell.execute_reply.started": "2024-04-26T09:54:41.644433Z"
    }
   },
   "outputs": [
    {
     "name": "stdout",
     "output_type": "stream",
     "text": [
      "\n",
      "* - MOST RECENT QUERY REPORT -\n",
      "| - Collection Shape: (100000, 128)\n",
      "| - Query Time: 0.18751 s\n",
      "| - Query Distance: cosine\n",
      "| - Query K: 5\n",
      "| - Top 5 Results ID: [    0 83015 83514 81066 20269]\n",
      "| - Top 5 Results Similarity: [0.9964596  0.84821522 0.84683108 0.8449266  0.84055191]\n",
      "* - END OF REPORT -\n",
      "\n"
     ]
    }
   ],
   "source": [
    "print(collection.query_report_)"
   ]
  },
  {
   "cell_type": "markdown",
   "id": "79391527-278d-42de-9328-41f45577432f",
   "metadata": {},
   "source": [
    "## Use IVF-FLAT index mode\n",
    "\n",
    "IVF-FLAT uses inverted indexes for significant speedups on large-scale data.\n",
    "\n",
    "\n",
    "Note that IVF-FLAT mode will only take effect if the number of rows added to the collection has reached 100,000; below 100,000 rows, it will fall back to FLAT mode."
   ]
  },
  {
   "cell_type": "code",
   "execution_count": 16,
   "id": "6e11a797-6161-4566-8543-58d72be23e34",
   "metadata": {
    "execution": {
     "iopub.execute_input": "2024-04-26T09:54:41.650385Z",
     "iopub.status.busy": "2024-04-26T09:54:41.650268Z",
     "iopub.status.idle": "2024-04-26T09:54:41.733058Z",
     "shell.execute_reply": "2024-04-26T09:54:41.731372Z",
     "shell.execute_reply.started": "2024-04-26T09:54:41.650377Z"
    }
   },
   "outputs": [],
   "source": [
    "collection = my_db.require_collection(collection='test_vec2', dim=128, index_mode='IVF-FLAT', drop_if_exists=True, chunk_size=10000)"
   ]
  },
  {
   "cell_type": "code",
   "execution_count": 17,
   "id": "a6ac03c3-8f26-4c27-8306-cd0ee4173ef8",
   "metadata": {
    "execution": {
     "iopub.execute_input": "2024-04-26T09:54:41.733666Z",
     "iopub.status.busy": "2024-04-26T09:54:41.733580Z",
     "iopub.status.idle": "2024-04-26T09:54:57.579481Z",
     "shell.execute_reply": "2024-04-26T09:54:57.578850Z",
     "shell.execute_reply.started": "2024-04-26T09:54:41.733658Z"
    }
   },
   "outputs": [],
   "source": [
    "from tqdm import trange\n",
    "\n",
    "import numpy as np\n",
    "\n",
    "with collection.insert_session():\n",
    "    vectors = []\n",
    "    for i in range(100000):\n",
    "        if i == 0:\n",
    "            query = np.random.random(128)\n",
    "            vec = query\n",
    "        else:\n",
    "            vec = np.random.random(128)\n",
    "\n",
    "        vectors.append((vec, i, {\"test\":f\"test_{i // 1000}\"}))\n",
    "    collection.bulk_add_items(vectors)"
   ]
  },
  {
   "cell_type": "code",
   "execution_count": 18,
   "id": "93ba7b01-b859-4b09-9f67-4d360fb5a185",
   "metadata": {
    "execution": {
     "iopub.execute_input": "2024-04-26T09:54:57.582442Z",
     "iopub.status.busy": "2024-04-26T09:54:57.580596Z",
     "iopub.status.idle": "2024-04-26T09:54:57.657953Z",
     "shell.execute_reply": "2024-04-26T09:54:57.657111Z",
     "shell.execute_reply.started": "2024-04-26T09:54:57.582377Z"
    }
   },
   "outputs": [
    {
     "data": {
      "text/plain": [
       "(array([    0, 77621, 51787, 23614, 65492]),\n",
       " array([0.99815422, 0.83720356, 0.82392925, 0.82383007, 0.82344675]))"
      ]
     },
     "execution_count": 18,
     "metadata": {},
     "output_type": "execute_result"
    }
   ],
   "source": [
    "collection.query(vector=query, k=5)"
   ]
  },
  {
   "cell_type": "code",
   "execution_count": 19,
   "id": "6a667b72-b830-4ba9-883e-ee092f690dcd",
   "metadata": {
    "execution": {
     "iopub.execute_input": "2024-04-26T09:54:57.659146Z",
     "iopub.status.busy": "2024-04-26T09:54:57.658962Z",
     "iopub.status.idle": "2024-04-26T09:54:57.664906Z",
     "shell.execute_reply": "2024-04-26T09:54:57.664472Z",
     "shell.execute_reply.started": "2024-04-26T09:54:57.659135Z"
    }
   },
   "outputs": [
    {
     "name": "stdout",
     "output_type": "stream",
     "text": [
      "\n",
      "* - MOST RECENT QUERY REPORT -\n",
      "| - Collection Shape: (100000, 128)\n",
      "| - Query Time: 0.07176 s\n",
      "| - Query Distance: cosine\n",
      "| - Query K: 5\n",
      "| - Top 5 Results ID: [    0 77621 51787 23614 65492]\n",
      "| - Top 5 Results Similarity: [0.99815422 0.83720356 0.82392925 0.82383007 0.82344675]\n",
      "* - END OF REPORT -\n",
      "\n"
     ]
    }
   ],
   "source": [
    "print(collection.query_report_)"
   ]
  }
 ],
 "metadata": {
  "kernelspec": {
   "display_name": "Python 3 (ipykernel)",
   "language": "python",
   "name": "python3"
  },
  "language_info": {
   "codemirror_mode": {
    "name": "ipython",
    "version": 3
   },
   "file_extension": ".py",
   "mimetype": "text/x-python",
   "name": "python",
   "nbconvert_exporter": "python",
   "pygments_lexer": "ipython3",
   "version": "3.11.5"
  }
 },
 "nbformat": 4,
 "nbformat_minor": 5
}
