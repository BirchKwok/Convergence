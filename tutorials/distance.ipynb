{
 "cells": [
  {
   "cell_type": "code",
   "execution_count": 1,
   "id": "6fd48528-b8f6-4943-9b81-155a18b5026c",
   "metadata": {
    "execution": {
     "iopub.execute_input": "2024-05-04T13:22:37.434184Z",
     "iopub.status.busy": "2024-05-04T13:22:37.434089Z",
     "iopub.status.idle": "2024-05-04T13:22:37.441014Z",
     "shell.execute_reply": "2024-05-04T13:22:37.440599Z",
     "shell.execute_reply.started": "2024-05-04T13:22:37.434173Z"
    }
   },
   "outputs": [],
   "source": [
    "from min_vec import MinVectorDB"
   ]
  },
  {
   "cell_type": "code",
   "execution_count": 2,
   "id": "9718d586-104a-47b0-88bf-8da255b6a8b6",
   "metadata": {
    "execution": {
     "iopub.execute_input": "2024-05-04T13:22:37.443857Z",
     "iopub.status.busy": "2024-05-04T13:22:37.443608Z",
     "iopub.status.idle": "2024-05-04T13:22:38.188127Z",
     "shell.execute_reply": "2024-05-04T13:22:38.187752Z",
     "shell.execute_reply.started": "2024-05-04T13:22:37.443840Z"
    }
   },
   "outputs": [],
   "source": [
    "my_db = MinVectorDB(\"http://localhost:7637\")\n",
    "# or specify a path\n",
    "# my_db = MinVectorDB(\"my_vec\")"
   ]
  },
  {
   "cell_type": "markdown",
   "id": "935a02ec-c5f8-4b19-8b45-44d17556effd",
   "metadata": {},
   "source": [
    "## Distance\n",
    "\n",
    "Distance metric is the computational core of MinVectorDB vector database, which is used to measure the similarity between two vectors. Currently, MinVectorDB supports two measurement methods: **cosine** similarity and Euclidean distance (**L2**).\n"
   ]
  },
  {
   "cell_type": "markdown",
   "id": "edf907ec-e1ee-488e-aa08-edfe28232fa8",
   "metadata": {},
   "source": [
    "## Create a collection object using the cosine similarity measure"
   ]
  },
  {
   "cell_type": "code",
   "execution_count": 3,
   "id": "c3fff147-48a0-4dad-abb8-1cd61e74e800",
   "metadata": {
    "execution": {
     "iopub.execute_input": "2024-05-04T13:22:38.188785Z",
     "iopub.status.busy": "2024-05-04T13:22:38.188679Z",
     "iopub.status.idle": "2024-05-04T13:22:38.244274Z",
     "shell.execute_reply": "2024-05-04T13:22:38.243963Z",
     "shell.execute_reply.started": "2024-05-04T13:22:38.188775Z"
    }
   },
   "outputs": [],
   "source": [
    "collection = my_db.require_collection(collection='test_vec', dim=128, index_mode='FLAT', drop_if_exists=True, distance='cosine')"
   ]
  },
  {
   "cell_type": "markdown",
   "id": "93db4b8b-4879-4054-ad49-25ac567fb8b3",
   "metadata": {},
   "source": [
    "## Created a collection object using the Euclidean distance measure"
   ]
  },
  {
   "cell_type": "code",
   "execution_count": 4,
   "id": "bd0106e6-056f-436f-b01a-49b841cdf76f",
   "metadata": {
    "execution": {
     "iopub.execute_input": "2024-05-04T13:22:38.244786Z",
     "iopub.status.busy": "2024-05-04T13:22:38.244710Z",
     "iopub.status.idle": "2024-05-04T13:22:38.355803Z",
     "shell.execute_reply": "2024-05-04T13:22:38.355394Z",
     "shell.execute_reply.started": "2024-05-04T13:22:38.244778Z"
    }
   },
   "outputs": [],
   "source": [
    "collection = my_db.require_collection(collection='test_vec', dim=128, index_mode='FLAT', drop_if_exists=True, distance='L2')"
   ]
  },
  {
   "cell_type": "markdown",
   "id": "285ed052-86ab-4743-9541-b5324847b938",
   "metadata": {},
   "source": [
    "## Use cosine similarity for queries"
   ]
  },
  {
   "cell_type": "code",
   "execution_count": 5,
   "id": "af6478ff-662d-4933-9f31-c34f7f8a5aa6",
   "metadata": {
    "execution": {
     "iopub.execute_input": "2024-05-04T13:22:38.356429Z",
     "iopub.status.busy": "2024-05-04T13:22:38.356336Z",
     "iopub.status.idle": "2024-05-04T13:22:38.358737Z",
     "shell.execute_reply": "2024-05-04T13:22:38.358049Z",
     "shell.execute_reply.started": "2024-05-04T13:22:38.356421Z"
    }
   },
   "outputs": [],
   "source": [
    "# import numpy as np\n",
    "\n",
    "# collection.query(np.random.random(128), distance=\"cosine\")  # default to cosine"
   ]
  },
  {
   "cell_type": "markdown",
   "id": "d0983bc0-97b1-43ce-82ea-2f0b60623911",
   "metadata": {},
   "source": [
    "## Use Euclidean distance for queries"
   ]
  },
  {
   "cell_type": "code",
   "execution_count": 6,
   "id": "947c8706-a9eb-4cfd-a372-0de0d4f65f5b",
   "metadata": {
    "execution": {
     "iopub.execute_input": "2024-05-04T13:22:38.359684Z",
     "iopub.status.busy": "2024-05-04T13:22:38.359582Z",
     "iopub.status.idle": "2024-05-04T13:22:38.361497Z",
     "shell.execute_reply": "2024-05-04T13:22:38.361126Z",
     "shell.execute_reply.started": "2024-05-04T13:22:38.359676Z"
    }
   },
   "outputs": [],
   "source": [
    "# import numpy as np\n",
    "\n",
    "# collection.query(np.random.random(128), distance=\"L2\")"
   ]
  }
 ],
 "metadata": {
  "kernelspec": {
   "display_name": "Python 3 (ipykernel)",
   "language": "python",
   "name": "python3"
  },
  "language_info": {
   "codemirror_mode": {
    "name": "ipython",
    "version": 3
   },
   "file_extension": ".py",
   "mimetype": "text/x-python",
   "name": "python",
   "nbconvert_exporter": "python",
   "pygments_lexer": "ipython3",
   "version": "3.11.5"
  }
 },
 "nbformat": 4,
 "nbformat_minor": 5
}
