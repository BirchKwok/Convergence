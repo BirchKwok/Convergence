{
 "cells": [
  {
   "cell_type": "code",
   "execution_count": 1,
   "id": "6fd48528-b8f6-4943-9b81-155a18b5026c",
   "metadata": {
    "execution": {
     "iopub.execute_input": "2024-06-18T03:46:03.807602Z",
     "iopub.status.busy": "2024-06-18T03:46:03.806996Z",
     "iopub.status.idle": "2024-06-18T03:46:03.931706Z",
     "shell.execute_reply": "2024-06-18T03:46:03.930850Z",
     "shell.execute_reply.started": "2024-06-18T03:46:03.807568Z"
    }
   },
   "outputs": [],
   "source": [
    "import lynse"
   ]
  },
  {
   "cell_type": "code",
   "execution_count": 2,
   "id": "9718d586-104a-47b0-88bf-8da255b6a8b6",
   "metadata": {
    "execution": {
     "iopub.execute_input": "2024-06-18T03:46:04.261793Z",
     "iopub.status.busy": "2024-06-18T03:46:04.261590Z",
     "iopub.status.idle": "2024-06-18T03:46:04.742844Z",
     "shell.execute_reply": "2024-06-18T03:46:04.742539Z",
     "shell.execute_reply.started": "2024-06-18T03:46:04.261780Z"
    }
   },
   "outputs": [],
   "source": [
    "client = lynse.VectorDBClient(\"http://127.0.0.1:7637\")\n",
    "my_db = client.create_database(\"my_vec_db\", drop_if_exists=True)"
   ]
  },
  {
   "cell_type": "markdown",
   "id": "935a02ec-c5f8-4b19-8b45-44d17556effd",
   "metadata": {},
   "source": [
    "## Distance\n",
    "\n",
    "Distance metric is the computational core of MinVectorDB vector database, which is used to measure the similarity between two vectors. Currently, MinVectorDB supports two measurement methods: **cosine** similarity and Euclidean distance (**L2**).\n"
   ]
  },
  {
   "cell_type": "markdown",
   "id": "edf907ec-e1ee-488e-aa08-edfe28232fa8",
   "metadata": {},
   "source": [
    "## Create a collection object using the cosine similarity measure"
   ]
  },
  {
   "cell_type": "code",
   "execution_count": 20,
   "id": "c3fff147-48a0-4dad-abb8-1cd61e74e800",
   "metadata": {
    "execution": {
     "iopub.execute_input": "2024-06-18T03:48:57.836454Z",
     "iopub.status.busy": "2024-06-18T03:48:57.835475Z",
     "iopub.status.idle": "2024-06-18T03:48:57.975798Z",
     "shell.execute_reply": "2024-06-18T03:48:57.975528Z",
     "shell.execute_reply.started": "2024-06-18T03:48:57.836406Z"
    }
   },
   "outputs": [
    {
     "data": {
      "text/plain": [
       "LynseDB collection with status: \n",
       "\n",
       "* - COLLECTION STATUS REPORT -\n",
       "| - Collection shape: (0, 128)\n",
       "| - Collection last_commit_time: None\n",
       "| - Collection distance: cosine\n",
       "| - Collection use_cache: True\n",
       "| - Collection status: ACTIVE"
      ]
     },
     "execution_count": 20,
     "metadata": {},
     "output_type": "execute_result"
    }
   ],
   "source": [
    "collection = my_db.require_collection(collection='test_vec', dim=128, drop_if_exists=True, distance='cosine')\n",
    "collection"
   ]
  },
  {
   "cell_type": "markdown",
   "id": "93db4b8b-4879-4054-ad49-25ac567fb8b3",
   "metadata": {},
   "source": [
    "## Created a collection object using the Euclidean distance measure"
   ]
  },
  {
   "cell_type": "code",
   "execution_count": 6,
   "id": "bd0106e6-056f-436f-b01a-49b841cdf76f",
   "metadata": {
    "execution": {
     "iopub.execute_input": "2024-06-18T03:47:07.400006Z",
     "iopub.status.busy": "2024-06-18T03:47:07.398715Z",
     "iopub.status.idle": "2024-06-18T03:47:07.518885Z",
     "shell.execute_reply": "2024-06-18T03:47:07.518580Z",
     "shell.execute_reply.started": "2024-06-18T03:47:07.399965Z"
    }
   },
   "outputs": [
    {
     "data": {
      "text/plain": [
       "LynseDB collection with status: \n",
       "\n",
       "* - COLLECTION STATUS REPORT -\n",
       "| - Collection shape: (0, 128)\n",
       "| - Collection last_commit_time: None\n",
       "| - Collection distance: L2\n",
       "| - Collection use_cache: True\n",
       "| - Collection status: ACTIVE"
      ]
     },
     "execution_count": 6,
     "metadata": {},
     "output_type": "execute_result"
    }
   ],
   "source": [
    "collection = my_db.require_collection(collection='test_vec', dim=128, drop_if_exists=True, distance='L2')\n",
    "collection"
   ]
  },
  {
   "cell_type": "markdown",
   "id": "285ed052-86ab-4743-9541-b5324847b938",
   "metadata": {},
   "source": [
    "## Use cosine similarity for queries"
   ]
  },
  {
   "cell_type": "code",
   "execution_count": 5,
   "id": "af6478ff-662d-4933-9f31-c34f7f8a5aa6",
   "metadata": {
    "execution": {
     "iopub.execute_input": "2024-05-08T09:02:55.613841Z",
     "iopub.status.busy": "2024-05-08T09:02:55.613764Z",
     "iopub.status.idle": "2024-05-08T09:02:55.615384Z",
     "shell.execute_reply": "2024-05-08T09:02:55.615167Z",
     "shell.execute_reply.started": "2024-05-08T09:02:55.613832Z"
    }
   },
   "outputs": [],
   "source": [
    "# import numpy as np\n",
    "\n",
    "# collection.query(np.random.random(128), distance=\"cosine\")  # default to cosine"
   ]
  },
  {
   "cell_type": "markdown",
   "id": "d0983bc0-97b1-43ce-82ea-2f0b60623911",
   "metadata": {},
   "source": [
    "## Use Euclidean distance for queries"
   ]
  },
  {
   "cell_type": "code",
   "execution_count": 6,
   "id": "947c8706-a9eb-4cfd-a372-0de0d4f65f5b",
   "metadata": {
    "execution": {
     "iopub.execute_input": "2024-05-08T09:02:55.615860Z",
     "iopub.status.busy": "2024-05-08T09:02:55.615764Z",
     "iopub.status.idle": "2024-05-08T09:02:55.617355Z",
     "shell.execute_reply": "2024-05-08T09:02:55.617113Z",
     "shell.execute_reply.started": "2024-05-08T09:02:55.615850Z"
    }
   },
   "outputs": [],
   "source": [
    "# import numpy as np\n",
    "\n",
    "# collection.query(np.random.random(128), distance=\"L2\")"
   ]
  }
 ],
 "metadata": {
  "kernelspec": {
   "display_name": "Python 3 (ipykernel)",
   "language": "python",
   "name": "python3"
  },
  "language_info": {
   "codemirror_mode": {
    "name": "ipython",
    "version": 3
   },
   "file_extension": ".py",
   "mimetype": "text/x-python",
   "name": "python",
   "nbconvert_exporter": "python",
   "pygments_lexer": "ipython3",
   "version": "3.11.5"
  }
 },
 "nbformat": 4,
 "nbformat_minor": 5
}
