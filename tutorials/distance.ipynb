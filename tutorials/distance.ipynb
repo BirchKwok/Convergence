{
 "cells": [
  {
   "cell_type": "code",
   "execution_count": 1,
   "id": "6fd48528-b8f6-4943-9b81-155a18b5026c",
   "metadata": {
    "execution": {
     "iopub.execute_input": "2024-04-23T09:57:29.046339Z",
     "iopub.status.busy": "2024-04-23T09:57:29.046246Z",
     "iopub.status.idle": "2024-04-23T09:57:30.655304Z",
     "shell.execute_reply": "2024-04-23T09:57:30.655041Z",
     "shell.execute_reply.started": "2024-04-23T09:57:29.046327Z"
    }
   },
   "outputs": [],
   "source": [
    "from min_vec import MinVectorDB"
   ]
  },
  {
   "cell_type": "code",
   "execution_count": 2,
   "id": "9718d586-104a-47b0-88bf-8da255b6a8b6",
   "metadata": {
    "execution": {
     "iopub.execute_input": "2024-04-23T09:57:30.656383Z",
     "iopub.status.busy": "2024-04-23T09:57:30.656259Z",
     "iopub.status.idle": "2024-04-23T09:57:30.659103Z",
     "shell.execute_reply": "2024-04-23T09:57:30.658668Z",
     "shell.execute_reply.started": "2024-04-23T09:57:30.656375Z"
    }
   },
   "outputs": [
    {
     "name": "stderr",
     "output_type": "stream",
     "text": [
      "MinVectorDB - INFO - Successful initialization of MinVectorDB in root_path: /Users/guobingming/projects/MinVectorDB/tutorials/my_vec_db\n"
     ]
    }
   ],
   "source": [
    "my_db = MinVectorDB('my_vec_db')"
   ]
  },
  {
   "cell_type": "markdown",
   "id": "935a02ec-c5f8-4b19-8b45-44d17556effd",
   "metadata": {},
   "source": [
    "## Distance\n",
    "\n",
    "Distance metric is the computational core of MinVectorDB vector database, which is used to measure the similarity between two vectors. Currently, MinVectorDB supports two measurement methods: **cosine** similarity and Euclidean distance (**L2**).\n"
   ]
  },
  {
   "cell_type": "markdown",
   "id": "edf907ec-e1ee-488e-aa08-edfe28232fa8",
   "metadata": {},
   "source": [
    "## Create a collection object using the cosine similarity measure"
   ]
  },
  {
   "cell_type": "code",
   "execution_count": 3,
   "id": "c3fff147-48a0-4dad-abb8-1cd61e74e800",
   "metadata": {
    "execution": {
     "iopub.execute_input": "2024-04-23T09:57:30.659703Z",
     "iopub.status.busy": "2024-04-23T09:57:30.659511Z",
     "iopub.status.idle": "2024-04-23T09:57:30.726825Z",
     "shell.execute_reply": "2024-04-23T09:57:30.726577Z",
     "shell.execute_reply.started": "2024-04-23T09:57:30.659691Z"
    }
   },
   "outputs": [
    {
     "name": "stderr",
     "output_type": "stream",
     "text": [
      "MinVectorDB - INFO - Creating collection test_vec with: \n",
      "//    dim=128, collection='test_vec', \n",
      "//    n_clusters=16, chunk_size=100000,\n",
      "//    distance='cosine', index_mode='FLAT', \n",
      "//    dtypes='float32', use_cache=True, \n",
      "//    scaler_bits=8, n_threads=10\n",
      "MinVectorDB - INFO - Collection 'test_vec' already exists. Dropped.\n"
     ]
    }
   ],
   "source": [
    "collection = my_db.require_collection(collection='test_vec', dim=128, index_mode='FLAT', drop_if_exists=True, distance='cosine')"
   ]
  },
  {
   "cell_type": "markdown",
   "id": "93db4b8b-4879-4054-ad49-25ac567fb8b3",
   "metadata": {},
   "source": [
    "## Created a collection object using the Euclidean distance measure"
   ]
  },
  {
   "cell_type": "code",
   "execution_count": 4,
   "id": "bd0106e6-056f-436f-b01a-49b841cdf76f",
   "metadata": {
    "execution": {
     "iopub.execute_input": "2024-04-23T09:57:30.727480Z",
     "iopub.status.busy": "2024-04-23T09:57:30.727254Z",
     "iopub.status.idle": "2024-04-23T09:57:30.793557Z",
     "shell.execute_reply": "2024-04-23T09:57:30.793281Z",
     "shell.execute_reply.started": "2024-04-23T09:57:30.727460Z"
    }
   },
   "outputs": [
    {
     "name": "stderr",
     "output_type": "stream",
     "text": [
      "MinVectorDB - INFO - Creating collection test_vec with: \n",
      "//    dim=128, collection='test_vec', \n",
      "//    n_clusters=16, chunk_size=100000,\n",
      "//    distance='L2', index_mode='FLAT', \n",
      "//    dtypes='float32', use_cache=True, \n",
      "//    scaler_bits=8, n_threads=10\n",
      "MinVectorDB - INFO - Collection 'test_vec' already exists. Dropped.\n"
     ]
    }
   ],
   "source": [
    "collection = my_db.require_collection(collection='test_vec', dim=128, index_mode='FLAT', drop_if_exists=True, distance='L2')"
   ]
  },
  {
   "cell_type": "markdown",
   "id": "285ed052-86ab-4743-9541-b5324847b938",
   "metadata": {},
   "source": [
    "## Use cosine similarity for queries"
   ]
  },
  {
   "cell_type": "code",
   "execution_count": 5,
   "id": "af6478ff-662d-4933-9f31-c34f7f8a5aa6",
   "metadata": {
    "execution": {
     "iopub.execute_input": "2024-04-23T09:57:30.794098Z",
     "iopub.status.busy": "2024-04-23T09:57:30.793988Z",
     "iopub.status.idle": "2024-04-23T09:57:30.796162Z",
     "shell.execute_reply": "2024-04-23T09:57:30.795421Z",
     "shell.execute_reply.started": "2024-04-23T09:57:30.794090Z"
    }
   },
   "outputs": [],
   "source": [
    "# import numpy as np\n",
    "\n",
    "# collection.query(np.random.random(128), distance=\"cosine\")  # default to cosine"
   ]
  },
  {
   "cell_type": "markdown",
   "id": "d0983bc0-97b1-43ce-82ea-2f0b60623911",
   "metadata": {},
   "source": [
    "## Use Euclidean distance for queries"
   ]
  },
  {
   "cell_type": "code",
   "execution_count": 6,
   "id": "947c8706-a9eb-4cfd-a372-0de0d4f65f5b",
   "metadata": {
    "execution": {
     "iopub.execute_input": "2024-04-23T09:57:30.797123Z",
     "iopub.status.busy": "2024-04-23T09:57:30.796991Z",
     "iopub.status.idle": "2024-04-23T09:57:30.798879Z",
     "shell.execute_reply": "2024-04-23T09:57:30.798590Z",
     "shell.execute_reply.started": "2024-04-23T09:57:30.797114Z"
    }
   },
   "outputs": [],
   "source": [
    "# import numpy as np\n",
    "\n",
    "# collection.query(np.random.random(128), distance=\"L2\")"
   ]
  }
 ],
 "metadata": {
  "kernelspec": {
   "display_name": "Python 3 (ipykernel)",
   "language": "python",
   "name": "python3"
  },
  "language_info": {
   "codemirror_mode": {
    "name": "ipython",
    "version": 3
   },
   "file_extension": ".py",
   "mimetype": "text/x-python",
   "name": "python",
   "nbconvert_exporter": "python",
   "pygments_lexer": "ipython3",
   "version": "3.11.5"
  }
 },
 "nbformat": 4,
 "nbformat_minor": 5
}
