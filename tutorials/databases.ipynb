{
 "cells": [
  {
   "cell_type": "code",
   "execution_count": 1,
   "id": "0b1966c2-222e-4b17-a5fe-61e6b9fb9223",
   "metadata": {
    "execution": {
     "iopub.execute_input": "2024-05-30T07:39:38.277937Z",
     "iopub.status.busy": "2024-05-30T07:39:38.277659Z",
     "iopub.status.idle": "2024-05-30T07:39:38.394325Z",
     "shell.execute_reply": "2024-05-30T07:39:38.393963Z",
     "shell.execute_reply.started": "2024-05-30T07:39:38.277915Z"
    }
   },
   "outputs": [],
   "source": [
    "import min_vec"
   ]
  },
  {
   "cell_type": "code",
   "execution_count": 2,
   "id": "7725e3c9-7e87-4871-923a-3f880f2a3852",
   "metadata": {
    "execution": {
     "iopub.execute_input": "2024-05-30T07:39:39.067826Z",
     "iopub.status.busy": "2024-05-30T07:39:39.067310Z",
     "iopub.status.idle": "2024-05-30T07:39:40.267736Z",
     "shell.execute_reply": "2024-05-30T07:39:40.267297Z",
     "shell.execute_reply.started": "2024-05-30T07:39:39.067796Z"
    }
   },
   "outputs": [],
   "source": [
    "client = min_vec.VectorDBClient(\"http://localhost:7637\")\n",
    "my_db = client.create_database(\"my_vec_db\", drop_if_exists=True)"
   ]
  },
  {
   "cell_type": "code",
   "execution_count": 6,
   "id": "0b7c97be-9c62-484b-8857-ac6594780526",
   "metadata": {
    "execution": {
     "iopub.execute_input": "2024-05-30T07:39:54.907527Z",
     "iopub.status.busy": "2024-05-30T07:39:54.907079Z",
     "iopub.status.idle": "2024-05-30T07:39:54.920993Z",
     "shell.execute_reply": "2024-05-30T07:39:54.920158Z",
     "shell.execute_reply.started": "2024-05-30T07:39:54.907500Z"
    }
   },
   "outputs": [
    {
     "data": {
      "text/plain": [
       "[]"
      ]
     },
     "execution_count": 6,
     "metadata": {},
     "output_type": "execute_result"
    }
   ],
   "source": [
    "client.list_databases()"
   ]
  },
  {
   "cell_type": "markdown",
   "id": "541a9e29-4ced-4743-8016-56bbaa404fc7",
   "metadata": {},
   "source": [
    "## show all databases"
   ]
  },
  {
   "cell_type": "code",
   "execution_count": 4,
   "id": "2adf3fb5-4d7a-4219-b48b-85c9e0463a69",
   "metadata": {
    "execution": {
     "iopub.execute_input": "2024-05-30T07:39:51.906170Z",
     "iopub.status.busy": "2024-05-30T07:39:51.905755Z",
     "iopub.status.idle": "2024-05-30T07:39:51.923431Z",
     "shell.execute_reply": "2024-05-30T07:39:51.922591Z",
     "shell.execute_reply.started": "2024-05-30T07:39:51.906144Z"
    }
   },
   "outputs": [
    {
     "data": {
      "text/plain": [
       "[]"
      ]
     },
     "execution_count": 4,
     "metadata": {},
     "output_type": "execute_result"
    }
   ],
   "source": [
    "my_db.show_collections()"
   ]
  },
  {
   "cell_type": "code",
   "execution_count": 7,
   "id": "65199d8f-e10b-40df-b751-69a14f647cae",
   "metadata": {
    "execution": {
     "iopub.execute_input": "2024-05-30T07:39:59.346754Z",
     "iopub.status.busy": "2024-05-30T07:39:59.345850Z",
     "iopub.status.idle": "2024-05-30T07:39:59.513656Z",
     "shell.execute_reply": "2024-05-30T07:39:59.513310Z",
     "shell.execute_reply.started": "2024-05-30T07:39:59.346701Z"
    }
   },
   "outputs": [],
   "source": [
    "a = my_db.require_collection(collection='test_vec', dim=128, drop_if_exists=True)"
   ]
  },
  {
   "cell_type": "code",
   "execution_count": null,
   "id": "f56132b0-58bc-44a7-a616-a543ac8e4b73",
   "metadata": {},
   "outputs": [],
   "source": [
    "import numpy as np\n",
    "a.add_item(np.random"
   ]
  },
  {
   "cell_type": "code",
   "execution_count": null,
   "id": "37e6e832-15ee-4ee9-97ae-49e8e618b493",
   "metadata": {},
   "outputs": [],
   "source": []
  }
 ],
 "metadata": {
  "kernelspec": {
   "display_name": "Python 3 (ipykernel)",
   "language": "python",
   "name": "python3"
  },
  "language_info": {
   "codemirror_mode": {
    "name": "ipython",
    "version": 3
   },
   "file_extension": ".py",
   "mimetype": "text/x-python",
   "name": "python",
   "nbconvert_exporter": "python",
   "pygments_lexer": "ipython3",
   "version": "3.11.5"
  }
 },
 "nbformat": 4,
 "nbformat_minor": 5
}
