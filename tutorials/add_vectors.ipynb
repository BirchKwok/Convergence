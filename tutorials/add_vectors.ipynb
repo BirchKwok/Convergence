{
 "cells": [
  {
   "cell_type": "code",
   "execution_count": 1,
   "id": "be0f0b7f-55e4-485c-87cd-cbdfa758023f",
   "metadata": {
    "execution": {
     "iopub.execute_input": "2024-06-18T03:39:25.744435Z",
     "iopub.status.busy": "2024-06-18T03:39:25.744290Z",
     "iopub.status.idle": "2024-06-18T03:39:25.922378Z",
     "shell.execute_reply": "2024-06-18T03:39:25.877236Z",
     "shell.execute_reply.started": "2024-06-18T03:39:25.744419Z"
    }
   },
   "outputs": [],
   "source": [
    "import lynse"
   ]
  },
  {
   "cell_type": "code",
   "execution_count": 2,
   "id": "24a43cca-cc83-439b-a97f-6de5a2de5758",
   "metadata": {
    "execution": {
     "iopub.execute_input": "2024-06-18T03:39:26.581279Z",
     "iopub.status.busy": "2024-06-18T03:39:26.580272Z",
     "iopub.status.idle": "2024-06-18T03:39:27.281106Z",
     "shell.execute_reply": "2024-06-18T03:39:27.280786Z",
     "shell.execute_reply.started": "2024-06-18T03:39:26.581248Z"
    }
   },
   "outputs": [],
   "source": [
    "client = lynse.VectorDBClient(\"http://localhost:7637\")\n",
    "my_db = client.create_database(\"my_vec_db\", drop_if_exists=False)"
   ]
  },
  {
   "cell_type": "markdown",
   "id": "aa6d39e1-747d-4761-83ff-302f55258066",
   "metadata": {},
   "source": [
    "## Sequentially add vectors"
   ]
  },
  {
   "cell_type": "code",
   "execution_count": 3,
   "id": "50c3d257-4480-4a08-bd88-c01ebdbb08b2",
   "metadata": {
    "execution": {
     "iopub.execute_input": "2024-06-18T03:39:28.948877Z",
     "iopub.status.busy": "2024-06-18T03:39:28.947781Z",
     "iopub.status.idle": "2024-06-18T03:39:29.663888Z",
     "shell.execute_reply": "2024-06-18T03:39:29.663598Z",
     "shell.execute_reply.started": "2024-06-18T03:39:28.948820Z"
    }
   },
   "outputs": [],
   "source": [
    "# create or truncate a collection\n",
    "collection = my_db.require_collection(\"test_add_vectors\", dim=128, drop_if_exists=True)"
   ]
  },
  {
   "cell_type": "code",
   "execution_count": 4,
   "id": "762449f6-2ffd-4254-a250-8a511e620a8b",
   "metadata": {
    "execution": {
     "iopub.execute_input": "2024-06-18T03:39:30.650166Z",
     "iopub.status.busy": "2024-06-18T03:39:30.649544Z",
     "iopub.status.idle": "2024-06-18T03:39:32.711308Z",
     "shell.execute_reply": "2024-06-18T03:39:32.710533Z",
     "shell.execute_reply.started": "2024-06-18T03:39:30.650132Z"
    }
   },
   "outputs": [
    {
     "name": "stderr",
     "output_type": "stream",
     "text": [
      "\n",
      "2024-06-18 11:39:30 - LynseDB - INFO - Task status: {'status': 'Processing'}\n",
      "2024-06-18 11:39:32 - LynseDB - INFO - Task status: {'result': {'collection_name': 'test_add_vectors', 'database_name': 'my_vec_db'}, 'status': 'Success'}\r"
     ]
    }
   ],
   "source": [
    "import numpy as np\n",
    "\n",
    "# If id and field are not passed, a self-incrementing id (start from 0) and a blank string field will be used.\n",
    "# The add_item function returns the id of the data by default.\n",
    "with collection.insert_session() as session:\n",
    "    id = session.add_item(vector=np.random.random(128), id=1, field={'test': 'test', 'test1': 'test2'})\n",
    "\n",
    "# If you do not use the insert_session function, you need to manually call the commit function to submit the data\n",
    "# collection.commit()"
   ]
  },
  {
   "cell_type": "code",
   "execution_count": 5,
   "id": "abb479b7-3127-49a1-8c8c-b20198d23090",
   "metadata": {
    "execution": {
     "iopub.execute_input": "2024-06-18T03:39:35.502354Z",
     "iopub.status.busy": "2024-06-18T03:39:35.501647Z",
     "iopub.status.idle": "2024-06-18T03:39:35.511950Z",
     "shell.execute_reply": "2024-06-18T03:39:35.509622Z",
     "shell.execute_reply.started": "2024-06-18T03:39:35.502321Z"
    }
   },
   "outputs": [
    {
     "name": "stdout",
     "output_type": "stream",
     "text": [
      "1\n"
     ]
    }
   ],
   "source": [
    "print(id)"
   ]
  },
  {
   "cell_type": "code",
   "execution_count": 6,
   "id": "f2f02c41-7b4b-40d0-975b-def191583a2f",
   "metadata": {
    "execution": {
     "iopub.execute_input": "2024-06-18T03:39:37.862391Z",
     "iopub.status.busy": "2024-06-18T03:39:37.860237Z",
     "iopub.status.idle": "2024-06-18T03:39:37.879766Z",
     "shell.execute_reply": "2024-06-18T03:39:37.879180Z",
     "shell.execute_reply.started": "2024-06-18T03:39:37.862343Z"
    }
   },
   "outputs": [
    {
     "name": "stdout",
     "output_type": "stream",
     "text": [
      "LynseDB collection with status: \n",
      "\n",
      "* - COLLECTION STATUS REPORT -\n",
      "| - Collection shape: (1, 128)\n",
      "| - Collection last_commit_time: 2024-06-18 11:39:32\n",
      "| - Collection distance: cosine\n",
      "| - Collection use_cache: True\n",
      "| - Collection status: ACTIVE\n",
      "\n"
     ]
    }
   ],
   "source": [
    "print(collection)"
   ]
  },
  {
   "cell_type": "markdown",
   "id": "886eb619-319d-414e-9a8c-8b4317931c47",
   "metadata": {},
   "source": [
    "## Add vectors in bulk"
   ]
  },
  {
   "cell_type": "code",
   "execution_count": 7,
   "id": "859a4179-5a4c-4339-8984-5c05d87126d2",
   "metadata": {
    "execution": {
     "iopub.execute_input": "2024-06-18T03:39:39.792129Z",
     "iopub.status.busy": "2024-06-18T03:39:39.791595Z",
     "iopub.status.idle": "2024-06-18T03:39:39.830800Z",
     "shell.execute_reply": "2024-06-18T03:39:39.830136Z",
     "shell.execute_reply.started": "2024-06-18T03:39:39.792096Z"
    }
   },
   "outputs": [],
   "source": [
    "# create or truncate a collection\n",
    "collection = my_db.require_collection(\"test_min_vec\", dim=128, drop_if_exists=True)"
   ]
  },
  {
   "cell_type": "code",
   "execution_count": 8,
   "id": "daba60dd-0927-494c-af6f-fdf00be897d0",
   "metadata": {
    "execution": {
     "iopub.execute_input": "2024-06-18T03:39:41.178987Z",
     "iopub.status.busy": "2024-06-18T03:39:41.178211Z",
     "iopub.status.idle": "2024-06-18T03:39:43.242410Z",
     "shell.execute_reply": "2024-06-18T03:39:43.241207Z",
     "shell.execute_reply.started": "2024-06-18T03:39:41.178952Z"
    }
   },
   "outputs": [
    {
     "name": "stderr",
     "output_type": "stream",
     "text": [
      "Adding items: 100%|██████████| 1/1 [00:00<00:00, 219.15batch/s]\n",
      "\n",
      "2024-06-18 11:39:41 - LynseDB - INFO - Task status: {'status': 'Processing'}\n",
      "2024-06-18 11:39:43 - LynseDB - INFO - Task status: {'result': {'collection_name': 'test_min_vec', 'database_name': 'my_vec_db'}, 'status': 'Success'}\r"
     ]
    },
    {
     "name": "stdout",
     "output_type": "stream",
     "text": [
      "[0, 1, 2, 3, 4, 5, 6, 7, 8, 9]\n"
     ]
    }
   ],
   "source": [
    "import numpy as np\n",
    "\n",
    "vectors = []\n",
    "\n",
    "with collection.insert_session() as session:\n",
    "    for i in range(10):\n",
    "        # The order is vector, id, field\n",
    "        vectors.append((np.random.random(128), i, {'test': f'test_{i}'}))\n",
    "\n",
    "\n",
    "    ids = session.bulk_add_items(vectors)\n",
    "\n",
    "print(ids)"
   ]
  },
  {
   "cell_type": "code",
   "execution_count": 9,
   "id": "79afab71-8f39-4c7e-acac-5a61c8b31670",
   "metadata": {
    "execution": {
     "iopub.execute_input": "2024-06-18T03:39:47.002130Z",
     "iopub.status.busy": "2024-06-18T03:39:47.001168Z",
     "iopub.status.idle": "2024-06-18T03:39:47.037823Z",
     "shell.execute_reply": "2024-06-18T03:39:47.036942Z",
     "shell.execute_reply.started": "2024-06-18T03:39:47.002059Z"
    }
   },
   "outputs": [
    {
     "name": "stdout",
     "output_type": "stream",
     "text": [
      "LynseDB collection with status: \n",
      "\n",
      "* - COLLECTION STATUS REPORT -\n",
      "| - Collection shape: (10, 128)\n",
      "| - Collection last_commit_time: 2024-06-18 11:39:43\n",
      "| - Collection distance: cosine\n",
      "| - Collection use_cache: True\n",
      "| - Collection status: ACTIVE\n",
      "\n"
     ]
    }
   ],
   "source": [
    "print(collection)"
   ]
  }
 ],
 "metadata": {
  "kernelspec": {
   "display_name": "Python 3 (ipykernel)",
   "language": "python",
   "name": "python3"
  },
  "language_info": {
   "codemirror_mode": {
    "name": "ipython",
    "version": 3
   },
   "file_extension": ".py",
   "mimetype": "text/x-python",
   "name": "python",
   "nbconvert_exporter": "python",
   "pygments_lexer": "ipython3",
   "version": "3.11.5"
  }
 },
 "nbformat": 4,
 "nbformat_minor": 5
}
