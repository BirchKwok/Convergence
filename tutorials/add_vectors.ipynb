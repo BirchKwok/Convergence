{
 "cells": [
  {
   "cell_type": "code",
   "execution_count": 1,
   "id": "be0f0b7f-55e4-485c-87cd-cbdfa758023f",
   "metadata": {
    "execution": {
     "iopub.execute_input": "2024-04-23T09:52:08.808016Z",
     "iopub.status.busy": "2024-04-23T09:52:08.807366Z",
     "iopub.status.idle": "2024-04-23T09:52:10.425078Z",
     "shell.execute_reply": "2024-04-23T09:52:10.424797Z",
     "shell.execute_reply.started": "2024-04-23T09:52:08.807972Z"
    }
   },
   "outputs": [],
   "source": [
    "from min_vec import MinVectorDB"
   ]
  },
  {
   "cell_type": "code",
   "execution_count": 2,
   "id": "24a43cca-cc83-439b-a97f-6de5a2de5758",
   "metadata": {
    "execution": {
     "iopub.execute_input": "2024-04-23T09:52:11.323054Z",
     "iopub.status.busy": "2024-04-23T09:52:11.322636Z",
     "iopub.status.idle": "2024-04-23T09:52:11.326717Z",
     "shell.execute_reply": "2024-04-23T09:52:11.326197Z",
     "shell.execute_reply.started": "2024-04-23T09:52:11.323034Z"
    }
   },
   "outputs": [
    {
     "name": "stderr",
     "output_type": "stream",
     "text": [
      "MinVectorDB - INFO - Successful initialization of MinVectorDB in root_path: /projects/MinVectorDB/tutorials/my_vec_db\n"
     ]
    }
   ],
   "source": [
    "my_db = MinVectorDB('my_vec_db')"
   ]
  },
  {
   "cell_type": "markdown",
   "id": "aa6d39e1-747d-4761-83ff-302f55258066",
   "metadata": {},
   "source": [
    "## Sequentially add vectors"
   ]
  },
  {
   "cell_type": "code",
   "execution_count": 3,
   "id": "50c3d257-4480-4a08-bd88-c01ebdbb08b2",
   "metadata": {
    "execution": {
     "iopub.execute_input": "2024-04-23T09:52:12.181621Z",
     "iopub.status.busy": "2024-04-23T09:52:12.181068Z",
     "iopub.status.idle": "2024-04-23T09:52:12.188366Z",
     "shell.execute_reply": "2024-04-23T09:52:12.187433Z",
     "shell.execute_reply.started": "2024-04-23T09:52:12.181594Z"
    }
   },
   "outputs": [
    {
     "name": "stderr",
     "output_type": "stream",
     "text": [
      "MinVectorDB - INFO - Creating collection test_add_vectors with: \n",
      "//    dim=128, collection='test_add_vectors', \n",
      "//    n_clusters=16, chunk_size=100000,\n",
      "//    distance='cosine', index_mode='IVF-FLAT', \n",
      "//    dtypes='float32', use_cache=True, \n",
      "//    scaler_bits=8, n_threads=10\n"
     ]
    }
   ],
   "source": [
    "# create or truncate a collection\n",
    "collection = my_db.require_collection(\"test_add_vectors\", dim=128, drop_if_exists=True)"
   ]
  },
  {
   "cell_type": "code",
   "execution_count": 5,
   "id": "762449f6-2ffd-4254-a250-8a511e620a8b",
   "metadata": {
    "execution": {
     "iopub.execute_input": "2024-04-23T09:52:40.526601Z",
     "iopub.status.busy": "2024-04-23T09:52:40.525967Z",
     "iopub.status.idle": "2024-04-23T09:52:40.539386Z",
     "shell.execute_reply": "2024-04-23T09:52:40.538727Z",
     "shell.execute_reply.started": "2024-04-23T09:52:40.526569Z"
    }
   },
   "outputs": [],
   "source": [
    "import numpy as np\n",
    "\n",
    "# If id and field are not passed, a self-incrementing id (start from 0) and a blank string field will be used.\n",
    "# The add_item function returns the id of the data by default.\n",
    "with collection.insert_session():\n",
    "    id = collection.add_item(vector=np.random.random(128), id=1, field={'test': 'test', 'test1': 'test2'})\n",
    "\n",
    "# If you do not use the insert_session function, you need to manually call the commit function to submit the data\n",
    "# collection.commit()"
   ]
  },
  {
   "cell_type": "code",
   "execution_count": 6,
   "id": "abb479b7-3127-49a1-8c8c-b20198d23090",
   "metadata": {
    "execution": {
     "iopub.execute_input": "2024-04-23T09:52:42.644962Z",
     "iopub.status.busy": "2024-04-23T09:52:42.644511Z",
     "iopub.status.idle": "2024-04-23T09:52:42.649290Z",
     "shell.execute_reply": "2024-04-23T09:52:42.648296Z",
     "shell.execute_reply.started": "2024-04-23T09:52:42.644929Z"
    }
   },
   "outputs": [
    {
     "name": "stdout",
     "output_type": "stream",
     "text": [
      "1\n"
     ]
    }
   ],
   "source": [
    "print(id)"
   ]
  },
  {
   "cell_type": "code",
   "execution_count": 7,
   "id": "f2f02c41-7b4b-40d0-975b-def191583a2f",
   "metadata": {
    "execution": {
     "iopub.execute_input": "2024-04-23T09:52:43.755447Z",
     "iopub.status.busy": "2024-04-23T09:52:43.755048Z",
     "iopub.status.idle": "2024-04-23T09:52:43.759918Z",
     "shell.execute_reply": "2024-04-23T09:52:43.759261Z",
     "shell.execute_reply.started": "2024-04-23T09:52:43.755427Z"
    }
   },
   "outputs": [
    {
     "name": "stdout",
     "output_type": "stream",
     "text": [
      "MinVectorDB collection with status: \n",
      "\n",
      "* - DATABASE STATUS REPORT -\n",
      "| - Database shape: (1, 128)\n",
      "| - Database last_commit_time: 2024-04-23 17:52:40.537311\n",
      "| - Database commit status: True\n",
      "| - Database index_mode: IVF-FLAT\n",
      "| - Database distance: cosine\n",
      "| - Database use_cache: True\n",
      "| - Database status: ACTIVE\n",
      "\n"
     ]
    }
   ],
   "source": [
    "print(collection)"
   ]
  },
  {
   "cell_type": "markdown",
   "id": "886eb619-319d-414e-9a8c-8b4317931c47",
   "metadata": {},
   "source": [
    "## Add vectors in bulk"
   ]
  },
  {
   "cell_type": "code",
   "execution_count": 8,
   "id": "859a4179-5a4c-4339-8984-5c05d87126d2",
   "metadata": {
    "execution": {
     "iopub.execute_input": "2024-04-23T09:52:46.321021Z",
     "iopub.status.busy": "2024-04-23T09:52:46.320350Z",
     "iopub.status.idle": "2024-04-23T09:52:46.405627Z",
     "shell.execute_reply": "2024-04-23T09:52:46.405262Z",
     "shell.execute_reply.started": "2024-04-23T09:52:46.320980Z"
    }
   },
   "outputs": [
    {
     "name": "stderr",
     "output_type": "stream",
     "text": [
      "MinVectorDB - INFO - Creating collection test_add_vectors with: \n",
      "//    dim=128, collection='test_add_vectors', \n",
      "//    n_clusters=16, chunk_size=100000,\n",
      "//    distance='cosine', index_mode='IVF-FLAT', \n",
      "//    dtypes='float32', use_cache=True, \n",
      "//    scaler_bits=8, n_threads=10\n",
      "MinVectorDB - INFO - Collection 'test_add_vectors' already exists. Dropped.\n"
     ]
    }
   ],
   "source": [
    "# create or truncate a collection\n",
    "collection = my_db.require_collection(\"test_add_vectors\", dim=128, drop_if_exists=True)"
   ]
  },
  {
   "cell_type": "code",
   "execution_count": 9,
   "id": "daba60dd-0927-494c-af6f-fdf00be897d0",
   "metadata": {
    "execution": {
     "iopub.execute_input": "2024-04-23T09:52:48.051357Z",
     "iopub.status.busy": "2024-04-23T09:52:48.050674Z",
     "iopub.status.idle": "2024-04-23T09:52:48.060451Z",
     "shell.execute_reply": "2024-04-23T09:52:48.060082Z",
     "shell.execute_reply.started": "2024-04-23T09:52:48.051323Z"
    }
   },
   "outputs": [
    {
     "name": "stdout",
     "output_type": "stream",
     "text": [
      "[0, 1, 2, 3, 4, 5, 6, 7, 8, 9]\n"
     ]
    }
   ],
   "source": [
    "import numpy as np\n",
    "\n",
    "vectors = []\n",
    "for i in range(10):\n",
    "    # The order is vector, id, field\n",
    "    vectors.append((np.random.random(128), i, {'test': f'test_{i}'}))\n",
    "\n",
    "with collection.insert_session():\n",
    "    ids = collection.bulk_add_items(vectors)\n",
    "\n",
    "print(ids)"
   ]
  },
  {
   "cell_type": "code",
   "execution_count": 10,
   "id": "79afab71-8f39-4c7e-acac-5a61c8b31670",
   "metadata": {
    "execution": {
     "iopub.execute_input": "2024-04-23T09:52:50.783657Z",
     "iopub.status.busy": "2024-04-23T09:52:50.783031Z",
     "iopub.status.idle": "2024-04-23T09:52:50.788652Z",
     "shell.execute_reply": "2024-04-23T09:52:50.787971Z",
     "shell.execute_reply.started": "2024-04-23T09:52:50.783627Z"
    }
   },
   "outputs": [
    {
     "name": "stdout",
     "output_type": "stream",
     "text": [
      "MinVectorDB collection with status: \n",
      "\n",
      "* - DATABASE STATUS REPORT -\n",
      "| - Database shape: (10, 128)\n",
      "| - Database last_commit_time: 2024-04-23 17:52:48.058603\n",
      "| - Database commit status: True\n",
      "| - Database index_mode: IVF-FLAT\n",
      "| - Database distance: cosine\n",
      "| - Database use_cache: True\n",
      "| - Database status: ACTIVE\n",
      "\n"
     ]
    }
   ],
   "source": [
    "print(collection)"
   ]
  }
 ],
 "metadata": {
  "kernelspec": {
   "display_name": "Python 3 (ipykernel)",
   "language": "python",
   "name": "python3"
  },
  "language_info": {
   "codemirror_mode": {
    "name": "ipython",
    "version": 3
   },
   "file_extension": ".py",
   "mimetype": "text/x-python",
   "name": "python",
   "nbconvert_exporter": "python",
   "pygments_lexer": "ipython3",
   "version": "3.11.5"
  }
 },
 "nbformat": 4,
 "nbformat_minor": 5
}
