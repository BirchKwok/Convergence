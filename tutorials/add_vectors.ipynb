{
 "cells": [
  {
   "cell_type": "code",
   "execution_count": 1,
   "id": "be0f0b7f-55e4-485c-87cd-cbdfa758023f",
   "metadata": {
    "execution": {
     "iopub.execute_input": "2024-05-08T09:02:25.186290Z",
     "iopub.status.busy": "2024-05-08T09:02:25.186083Z",
     "iopub.status.idle": "2024-05-08T09:02:25.190683Z",
     "shell.execute_reply": "2024-05-08T09:02:25.190181Z",
     "shell.execute_reply.started": "2024-05-08T09:02:25.186270Z"
    }
   },
   "outputs": [],
   "source": [
    "from min_vec import MinVectorDB"
   ]
  },
  {
   "cell_type": "code",
   "execution_count": 2,
   "id": "24a43cca-cc83-439b-a97f-6de5a2de5758",
   "metadata": {
    "execution": {
     "iopub.execute_input": "2024-05-08T09:02:26.128500Z",
     "iopub.status.busy": "2024-05-08T09:02:26.128339Z",
     "iopub.status.idle": "2024-05-08T09:02:27.016027Z",
     "shell.execute_reply": "2024-05-08T09:02:27.015659Z",
     "shell.execute_reply.started": "2024-05-08T09:02:26.128491Z"
    }
   },
   "outputs": [],
   "source": [
    "my_db = MinVectorDB(\"http://localhost:7637\")\n",
    "# or specify a path\n",
    "# my_db = MinVectorDB(\"my_vec\")"
   ]
  },
  {
   "cell_type": "markdown",
   "id": "aa6d39e1-747d-4761-83ff-302f55258066",
   "metadata": {},
   "source": [
    "## Sequentially add vectors"
   ]
  },
  {
   "cell_type": "code",
   "execution_count": 3,
   "id": "50c3d257-4480-4a08-bd88-c01ebdbb08b2",
   "metadata": {
    "execution": {
     "iopub.execute_input": "2024-05-08T09:02:28.590727Z",
     "iopub.status.busy": "2024-05-08T09:02:28.590466Z",
     "iopub.status.idle": "2024-05-08T09:02:28.648902Z",
     "shell.execute_reply": "2024-05-08T09:02:28.648568Z",
     "shell.execute_reply.started": "2024-05-08T09:02:28.590705Z"
    }
   },
   "outputs": [],
   "source": [
    "# create or truncate a collection\n",
    "collection = my_db.require_collection(\"test_add_vectors\", dim=128, drop_if_exists=True)"
   ]
  },
  {
   "cell_type": "code",
   "execution_count": 4,
   "id": "762449f6-2ffd-4254-a250-8a511e620a8b",
   "metadata": {
    "execution": {
     "iopub.execute_input": "2024-05-08T09:02:29.860272Z",
     "iopub.status.busy": "2024-05-08T09:02:29.859905Z",
     "iopub.status.idle": "2024-05-08T09:02:29.893433Z",
     "shell.execute_reply": "2024-05-08T09:02:29.892937Z",
     "shell.execute_reply.started": "2024-05-08T09:02:29.860245Z"
    }
   },
   "outputs": [],
   "source": [
    "import numpy as np\n",
    "\n",
    "# If id and field are not passed, a self-incrementing id (start from 0) and a blank string field will be used.\n",
    "# The add_item function returns the id of the data by default.\n",
    "with collection.insert_session():\n",
    "    id = collection.add_item(vector=np.random.random(128), id=1, field={'test': 'test', 'test1': 'test2'})\n",
    "\n",
    "# If you do not use the insert_session function, you need to manually call the commit function to submit the data\n",
    "# collection.commit()"
   ]
  },
  {
   "cell_type": "code",
   "execution_count": 5,
   "id": "abb479b7-3127-49a1-8c8c-b20198d23090",
   "metadata": {
    "execution": {
     "iopub.execute_input": "2024-05-08T09:02:30.454075Z",
     "iopub.status.busy": "2024-05-08T09:02:30.453499Z",
     "iopub.status.idle": "2024-05-08T09:02:30.458808Z",
     "shell.execute_reply": "2024-05-08T09:02:30.458181Z",
     "shell.execute_reply.started": "2024-05-08T09:02:30.454047Z"
    }
   },
   "outputs": [
    {
     "name": "stdout",
     "output_type": "stream",
     "text": [
      "1\n"
     ]
    }
   ],
   "source": [
    "print(id)"
   ]
  },
  {
   "cell_type": "code",
   "execution_count": 6,
   "id": "f2f02c41-7b4b-40d0-975b-def191583a2f",
   "metadata": {
    "execution": {
     "iopub.execute_input": "2024-05-08T09:02:31.379525Z",
     "iopub.status.busy": "2024-05-08T09:02:31.378996Z",
     "iopub.status.idle": "2024-05-08T09:02:31.417276Z",
     "shell.execute_reply": "2024-05-08T09:02:31.416853Z",
     "shell.execute_reply.started": "2024-05-08T09:02:31.379494Z"
    }
   },
   "outputs": [
    {
     "name": "stdout",
     "output_type": "stream",
     "text": [
      "MinVectorDB collection with status: \n",
      "\n",
      "* - COLLECTION STATUS REPORT -\n",
      "| - Collection shape: (1, 128)\n",
      "| - Collection last_commit_time: 2024-05-08 17:02:29\n",
      "| - Collection index_mode: IVF-FLAT\n",
      "| - Collection distance: cosine\n",
      "| - Collection use_cache: True\n",
      "| - Collection status: ACTIVE\n",
      "\n"
     ]
    }
   ],
   "source": [
    "print(collection)"
   ]
  },
  {
   "cell_type": "markdown",
   "id": "886eb619-319d-414e-9a8c-8b4317931c47",
   "metadata": {},
   "source": [
    "## Add vectors in bulk"
   ]
  },
  {
   "cell_type": "code",
   "execution_count": 7,
   "id": "859a4179-5a4c-4339-8984-5c05d87126d2",
   "metadata": {
    "execution": {
     "iopub.execute_input": "2024-05-08T09:02:32.583822Z",
     "iopub.status.busy": "2024-05-08T09:02:32.583392Z",
     "iopub.status.idle": "2024-05-08T09:02:32.658979Z",
     "shell.execute_reply": "2024-05-08T09:02:32.658624Z",
     "shell.execute_reply.started": "2024-05-08T09:02:32.583796Z"
    }
   },
   "outputs": [],
   "source": [
    "# create or truncate a collection\n",
    "collection = my_db.require_collection(\"test_min_vec\", dim=128, drop_if_exists=True)"
   ]
  },
  {
   "cell_type": "code",
   "execution_count": 8,
   "id": "daba60dd-0927-494c-af6f-fdf00be897d0",
   "metadata": {
    "execution": {
     "iopub.execute_input": "2024-05-08T09:02:33.230616Z",
     "iopub.status.busy": "2024-05-08T09:02:33.230220Z",
     "iopub.status.idle": "2024-05-08T09:02:33.323544Z",
     "shell.execute_reply": "2024-05-08T09:02:33.323009Z",
     "shell.execute_reply.started": "2024-05-08T09:02:33.230579Z"
    }
   },
   "outputs": [
    {
     "name": "stderr",
     "output_type": "stream",
     "text": [
      "Adding items: 100%|██████████| 1/1 [00:00<00:00, 70.22batch/s]"
     ]
    },
    {
     "name": "stdout",
     "output_type": "stream",
     "text": [
      "[0, 1, 2, 3, 4, 5, 6, 7, 8, 9]\n"
     ]
    },
    {
     "name": "stderr",
     "output_type": "stream",
     "text": [
      "\n"
     ]
    }
   ],
   "source": [
    "import numpy as np\n",
    "\n",
    "vectors = []\n",
    "\n",
    "with collection.insert_session():\n",
    "    for i in range(10):\n",
    "        # The order is vector, id, field\n",
    "        vectors.append((np.random.random(128), i, {'test': f'test_{i}'}))\n",
    "\n",
    "\n",
    "    ids = collection.bulk_add_items(vectors)\n",
    "\n",
    "print(ids)"
   ]
  },
  {
   "cell_type": "code",
   "execution_count": 9,
   "id": "79afab71-8f39-4c7e-acac-5a61c8b31670",
   "metadata": {
    "execution": {
     "iopub.execute_input": "2024-05-08T09:02:34.298490Z",
     "iopub.status.busy": "2024-05-08T09:02:34.297789Z",
     "iopub.status.idle": "2024-05-08T09:02:34.357839Z",
     "shell.execute_reply": "2024-05-08T09:02:34.357485Z",
     "shell.execute_reply.started": "2024-05-08T09:02:34.298444Z"
    }
   },
   "outputs": [
    {
     "name": "stdout",
     "output_type": "stream",
     "text": [
      "MinVectorDB collection with status: \n",
      "\n",
      "* - COLLECTION STATUS REPORT -\n",
      "| - Collection shape: (10, 128)\n",
      "| - Collection last_commit_time: 2024-05-08 17:02:33\n",
      "| - Collection index_mode: IVF-FLAT\n",
      "| - Collection distance: cosine\n",
      "| - Collection use_cache: True\n",
      "| - Collection status: ACTIVE\n",
      "\n"
     ]
    }
   ],
   "source": [
    "print(collection)"
   ]
  }
 ],
 "metadata": {
  "kernelspec": {
   "display_name": "Python 3 (ipykernel)",
   "language": "python",
   "name": "python3"
  },
  "language_info": {
   "codemirror_mode": {
    "name": "ipython",
    "version": 3
   },
   "file_extension": ".py",
   "mimetype": "text/x-python",
   "name": "python",
   "nbconvert_exporter": "python",
   "pygments_lexer": "ipython3",
   "version": "3.11.5"
  }
 },
 "nbformat": 4,
 "nbformat_minor": 5
}
