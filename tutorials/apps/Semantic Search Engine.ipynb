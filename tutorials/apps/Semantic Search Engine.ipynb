{
 "cells": [
  {
   "cell_type": "markdown",
   "id": "efabb4ca-cec6-4e95-9446-6f7e8556550d",
   "metadata": {},
   "source": [
    "```shell\n",
    "pip install -U sentence-transformers\n",
    "```"
   ]
  },
  {
   "cell_type": "code",
   "execution_count": 1,
   "id": "6771f7a2-c66a-4b0c-8c24-4ff6ec30297c",
   "metadata": {
    "execution": {
     "iopub.execute_input": "2024-06-03T06:06:56.978242Z",
     "iopub.status.busy": "2024-06-03T06:06:56.978168Z",
     "iopub.status.idle": "2024-06-03T06:06:59.787132Z",
     "shell.execute_reply": "2024-06-03T06:06:59.786883Z",
     "shell.execute_reply.started": "2024-06-03T06:06:56.978233Z"
    }
   },
   "outputs": [
    {
     "name": "stderr",
     "output_type": "stream",
     "text": [
      "/Users/guobingming/miniconda3/envs/dev/lib/python3.11/site-packages/sentence_transformers/cross_encoder/CrossEncoder.py:11: TqdmExperimentalWarning: Using `tqdm.autonotebook.tqdm` in notebook mode. Use `tqdm.tqdm` instead to force console mode (e.g. in jupyter console)\n",
      "  from tqdm.autonotebook import tqdm, trange\n"
     ]
    }
   ],
   "source": [
    "from sentence_transformers import SentenceTransformer\n",
    "from datasets import load_dataset\n",
    "import min_vec"
   ]
  },
  {
   "cell_type": "markdown",
   "id": "ab94e16c-710a-4448-861d-0336b39d659f",
   "metadata": {},
   "source": [
    "## Load dataset"
   ]
  },
  {
   "cell_type": "code",
   "execution_count": 2,
   "id": "396119c1-d2e8-4a53-834a-60edfc3f0586",
   "metadata": {
    "execution": {
     "iopub.execute_input": "2024-06-03T06:06:59.788218Z",
     "iopub.status.busy": "2024-06-03T06:06:59.788046Z",
     "iopub.status.idle": "2024-06-03T06:07:13.400782Z",
     "shell.execute_reply": "2024-06-03T06:07:13.400458Z",
     "shell.execute_reply.started": "2024-06-03T06:06:59.788209Z"
    }
   },
   "outputs": [
    {
     "name": "stderr",
     "output_type": "stream",
     "text": [
      "Using the latest cached version of the dataset since mixedbread-ai/wikipedia-data-en-2023-11 couldn't be found on the Hugging Face Hub\n",
      "Found the latest cached dataset configuration 'default' at /Users/guobingming/.cache/huggingface/datasets/mixedbread-ai___wikipedia-data-en-2023-11/default/0.0.0/a659477aa9be6b5a07d8f2ae3106420d265e70c3 (last modified on Thu May 30 18:41:49 2024).\n"
     ]
    },
    {
     "data": {
      "application/vnd.jupyter.widget-view+json": {
       "model_id": "ad9288083719496a9941d06ab64f0d4d",
       "version_major": 2,
       "version_minor": 0
      },
      "text/plain": [
       "Loading dataset shards:   0%|          | 0/42 [00:00<?, ?it/s]"
      ]
     },
     "metadata": {},
     "output_type": "display_data"
    }
   ],
   "source": [
    "title_text_dataset = load_dataset(\"mixedbread-ai/wikipedia-data-en-2023-11\", split=\"train\", num_proc=4).select_columns([\"title\", \"text\"])"
   ]
  },
  {
   "cell_type": "code",
   "execution_count": 3,
   "id": "420f2d78-7b15-4239-97d6-d0636eb25a16",
   "metadata": {
    "execution": {
     "iopub.execute_input": "2024-06-03T06:07:13.401321Z",
     "iopub.status.busy": "2024-06-03T06:07:13.401236Z",
     "iopub.status.idle": "2024-06-03T06:07:13.404882Z",
     "shell.execute_reply": "2024-06-03T06:07:13.404404Z",
     "shell.execute_reply.started": "2024-06-03T06:07:13.401312Z"
    }
   },
   "outputs": [
    {
     "data": {
      "text/plain": [
       "{'title': 'British Arab Commercial Bank',\n",
       " 'text': 'The British Arab Commercial Bank PLC (BACB) is an international wholesale bank incorporated in the United Kingdom that is authorised by the Prudential Regulation Authority (PRA) and regulated by the PRA and the Financial Conduct Authority (FCA). It was founded in 1972 as UBAF Limited, adopted its current name in 1996, and registered as a public limited company in 2009. The bank has clients trading in and out of developing markets in the Middle East and Africa.'}"
      ]
     },
     "execution_count": 3,
     "metadata": {},
     "output_type": "execute_result"
    }
   ],
   "source": [
    "title_text_dataset[0]"
   ]
  },
  {
   "cell_type": "markdown",
   "id": "7d6aabcb-f006-4d4f-95ad-fddc7f66cee9",
   "metadata": {},
   "source": [
    "## Create Embedding Model"
   ]
  },
  {
   "cell_type": "code",
   "execution_count": 4,
   "id": "f9c68452-4b96-468d-80a1-42d645cb82dd",
   "metadata": {
    "execution": {
     "iopub.execute_input": "2024-06-03T06:34:17.728957Z",
     "iopub.status.busy": "2024-06-03T06:34:17.728654Z",
     "iopub.status.idle": "2024-06-03T06:34:22.923040Z",
     "shell.execute_reply": "2024-06-03T06:34:22.922520Z",
     "shell.execute_reply.started": "2024-06-03T06:34:17.728936Z"
    }
   },
   "outputs": [],
   "source": [
    "from sentence_transformers import SentenceTransformer\n",
    "import torch\n",
    "\n",
    "device = 'cuda' if torch.cuda.is_available() else ('mps' if torch.backends.mps.is_available() else 'cpu')\n",
    "encoder = SentenceTransformer(\"all-MiniLM-L6-v2\", device=device)"
   ]
  },
  {
   "cell_type": "markdown",
   "id": "74b9b92c-04b4-4b9d-baac-ae6e61d61b7a",
   "metadata": {},
   "source": [
    "## Launch server"
   ]
  },
  {
   "cell_type": "code",
   "execution_count": 5,
   "id": "39e4b9f9-8d6a-414d-88a7-7b175001d629",
   "metadata": {
    "execution": {
     "iopub.execute_input": "2024-06-03T06:07:16.605841Z",
     "iopub.status.busy": "2024-06-03T06:07:16.605748Z",
     "iopub.status.idle": "2024-06-03T06:07:16.609132Z",
     "shell.execute_reply": "2024-06-03T06:07:16.608814Z",
     "shell.execute_reply.started": "2024-06-03T06:07:16.605832Z"
    }
   },
   "outputs": [
    {
     "name": "stdout",
     "output_type": "stream",
     "text": [
      "Server running at http://127.0.0.1:7638\n",
      "\n"
     ]
    }
   ],
   "source": [
    "min_vec.launch_in_jupyter()"
   ]
  },
  {
   "cell_type": "markdown",
   "id": "4a9b5c40-6ca9-4079-bd58-93e90705ccf2",
   "metadata": {},
   "source": [
    "## Connect to server"
   ]
  },
  {
   "cell_type": "code",
   "execution_count": 6,
   "id": "39b29348-5272-4f0c-8a1b-1c04ff604156",
   "metadata": {
    "execution": {
     "iopub.execute_input": "2024-06-03T06:07:16.611198Z",
     "iopub.status.busy": "2024-06-03T06:07:16.611069Z",
     "iopub.status.idle": "2024-06-03T06:07:16.613238Z",
     "shell.execute_reply": "2024-06-03T06:07:16.612806Z",
     "shell.execute_reply.started": "2024-06-03T06:07:16.611189Z"
    }
   },
   "outputs": [],
   "source": [
    "client = min_vec.VectorDBClient()"
   ]
  },
  {
   "cell_type": "markdown",
   "id": "b73935b1-0707-4c97-9e71-46e75992b605",
   "metadata": {},
   "source": [
    "## Create a database"
   ]
  },
  {
   "cell_type": "code",
   "execution_count": 7,
   "id": "1431bebe-83c6-453c-a4e0-98f2e6713581",
   "metadata": {
    "execution": {
     "iopub.execute_input": "2024-06-03T06:07:16.613771Z",
     "iopub.status.busy": "2024-06-03T06:07:16.613665Z",
     "iopub.status.idle": "2024-06-03T06:07:16.731534Z",
     "shell.execute_reply": "2024-06-03T06:07:16.731245Z",
     "shell.execute_reply.started": "2024-06-03T06:07:16.613762Z"
    }
   },
   "outputs": [],
   "source": [
    "search_db = client.create_database(\"semantic_search_db\", drop_if_exists=False)"
   ]
  },
  {
   "cell_type": "markdown",
   "id": "390e9cb9-8706-411f-aed4-7e701bd679d4",
   "metadata": {},
   "source": [
    "## Create a collection"
   ]
  },
  {
   "cell_type": "code",
   "execution_count": 16,
   "id": "712df861-7da4-409f-9db1-5d884d42653f",
   "metadata": {
    "execution": {
     "iopub.execute_input": "2024-06-03T06:08:32.427532Z",
     "iopub.status.busy": "2024-06-03T06:08:32.426733Z",
     "iopub.status.idle": "2024-06-03T06:08:37.426269Z",
     "shell.execute_reply": "2024-06-03T06:08:37.425966Z",
     "shell.execute_reply.started": "2024-06-03T06:08:32.427502Z"
    }
   },
   "outputs": [
    {
     "name": "stderr",
     "output_type": "stream",
     "text": [
      "2024-06-03 14:08:32 - MinVectorDB - INFO - Creating collection semantic_search with: \n",
      "//    dim=384, collection='semantic_search', \n",
      "//    chunk_size=100000, distance='cosine', \n",
      "//    dtypes='float32', use_cache=True, \n",
      "//    scaler_bits=8, n_threads=10, \n",
      "//    warm_up=False, drop_if_exists=False, \n",
      "//    description=None, \n",
      "\n",
      "2024-06-03 14:08:32 - MinVectorDB - INFO - Collection 'semantic_search' already exists. Loaded.\n"
     ]
    }
   ],
   "source": [
    "collection = search_db.require_collection(\n",
    "    \"semantic_search\", \n",
    "    dim=encoder.get_sentence_embedding_dimension(), \n",
    "    drop_if_exists=False, \n",
    "    buffer_size=-1, \n",
    "    scaler_bits=8\n",
    ")"
   ]
  },
  {
   "cell_type": "markdown",
   "id": "0c139400-1515-4166-878e-aa92cfc0477a",
   "metadata": {},
   "source": [
    "## Insert data to collection"
   ]
  },
  {
   "cell_type": "code",
   "execution_count": 9,
   "id": "81584f0c-4c80-4818-aac7-ebb831bbcfc4",
   "metadata": {
    "execution": {
     "iopub.execute_input": "2024-06-03T06:07:21.752183Z",
     "iopub.status.busy": "2024-06-03T06:07:21.752099Z",
     "iopub.status.idle": "2024-06-03T06:07:21.754386Z",
     "shell.execute_reply": "2024-06-03T06:07:21.753794Z",
     "shell.execute_reply.started": "2024-06-03T06:07:21.752174Z"
    }
   },
   "outputs": [],
   "source": [
    "# from tqdm import tqdm\n",
    "\n",
    "# with collection.insert_session() as session:\n",
    "#     texts = []\n",
    "#     count = 0\n",
    "#     ids = []\n",
    "#     for id, text in tqdm(enumerate(title_text_dataset), total=title_text_dataset.shape[0], unit=\"vectors\"):\n",
    "#         texts.append(text[\"text\"])\n",
    "#         ids.append(id)\n",
    "#         count += 1\n",
    "        \n",
    "#         if count == 100000:\n",
    "#             vecs = encoder.encode(texts)\n",
    "#             for id, vec in zip(ids, vecs):\n",
    "#                 session.add_item(vector=vec, id=id, normalize=True)\n",
    "#             texts = []\n",
    "#             count = 0\n",
    "#             ids = []"
   ]
  },
  {
   "cell_type": "markdown",
   "id": "b02775e5-24b3-4a73-8c22-5807105c6974",
   "metadata": {},
   "source": [
    "## Build index"
   ]
  },
  {
   "cell_type": "code",
   "execution_count": 10,
   "id": "4e92b012-e8dd-417f-8f3e-183c5ccdce01",
   "metadata": {
    "execution": {
     "iopub.execute_input": "2024-06-03T06:07:21.755459Z",
     "iopub.status.busy": "2024-06-03T06:07:21.755314Z",
     "iopub.status.idle": "2024-06-03T06:07:21.757724Z",
     "shell.execute_reply": "2024-06-03T06:07:21.757313Z",
     "shell.execute_reply.started": "2024-06-03T06:07:21.755449Z"
    }
   },
   "outputs": [],
   "source": [
    "# collection.remove_index()\n",
    "# collection.build_index(\"IVF-FLAT\", n_clusters=title_text_dataset.shape[0] // 100)"
   ]
  },
  {
   "cell_type": "markdown",
   "id": "00f55706-8380-4cc2-8305-968fa212472d",
   "metadata": {},
   "source": [
    "## Search"
   ]
  },
  {
   "cell_type": "code",
   "execution_count": 17,
   "id": "37633f64-8682-46c1-ae06-2eaf16b59bcc",
   "metadata": {
    "execution": {
     "iopub.execute_input": "2024-06-03T06:08:45.128570Z",
     "iopub.status.busy": "2024-06-03T06:08:45.128235Z",
     "iopub.status.idle": "2024-06-03T06:08:45.133485Z",
     "shell.execute_reply": "2024-06-03T06:08:45.133105Z",
     "shell.execute_reply.started": "2024-06-03T06:08:45.128550Z"
    }
   },
   "outputs": [],
   "source": [
    "import pandas as pd\n",
    "\n",
    "def search(s: str, collection=collection):\n",
    "    vs = encoder.encode(s)\n",
    "    ids = collection.search(vs, k=10)[0]\n",
    "\n",
    "    res = []\n",
    "    for id in ids:\n",
    "        res.append(title_text_dataset[int(id)])\n",
    "\n",
    "    print(collection.search_report_)\n",
    "    return pd.DataFrame(res, columns=['title', 'text'])"
   ]
  },
  {
   "cell_type": "code",
   "execution_count": 24,
   "id": "3f54b735-73f9-43cd-ae8e-8ed711cd1c58",
   "metadata": {
    "execution": {
     "iopub.execute_input": "2024-06-03T06:10:04.819885Z",
     "iopub.status.busy": "2024-06-03T06:10:04.819381Z",
     "iopub.status.idle": "2024-06-03T06:10:04.938216Z",
     "shell.execute_reply": "2024-06-03T06:10:04.937786Z",
     "shell.execute_reply.started": "2024-06-03T06:10:04.819859Z"
    }
   },
   "outputs": [
    {
     "name": "stdout",
     "output_type": "stream",
     "text": [
      "\n",
      "* - MOST RECENT SEARCH REPORT -\n",
      "| - Collection Shape: (41400000, 384)\n",
      "| - Search Time: 0.00001 s\n",
      "| - Search Distance: cosine\n",
      "| - Search K: 10\n",
      "| - Top 10 Results ID: [19187417 35822415 13622543 27174601 25960910 14387415 12289258  5661016\n",
      " 15936063 36784954]\n",
      "| - Top 10 Results Similarity: [0.581252 0.578115 0.571216 0.56473  0.561913 0.558727 0.555336 0.553917\n",
      " 0.550491 0.550025]\n",
      "\n"
     ]
    },
    {
     "data": {
      "text/html": [
       "<div>\n",
       "<style scoped>\n",
       "    .dataframe tbody tr th:only-of-type {\n",
       "        vertical-align: middle;\n",
       "    }\n",
       "\n",
       "    .dataframe tbody tr th {\n",
       "        vertical-align: top;\n",
       "    }\n",
       "\n",
       "    .dataframe thead th {\n",
       "        text-align: right;\n",
       "    }\n",
       "</style>\n",
       "<table border=\"1\" class=\"dataframe\">\n",
       "  <thead>\n",
       "    <tr style=\"text-align: right;\">\n",
       "      <th></th>\n",
       "      <th>title</th>\n",
       "      <th>text</th>\n",
       "    </tr>\n",
       "  </thead>\n",
       "  <tbody>\n",
       "    <tr>\n",
       "      <th>0</th>\n",
       "      <td>Hamilton (musical)</td>\n",
       "      <td>In March 2023 it was announced that the produc...</td>\n",
       "    </tr>\n",
       "    <tr>\n",
       "      <th>1</th>\n",
       "      <td>The Man in the White Suit (play)</td>\n",
       "      <td>The production was due to run until 11 January...</td>\n",
       "    </tr>\n",
       "    <tr>\n",
       "      <th>2</th>\n",
       "      <td>Perthshire Amber</td>\n",
       "      <td>In 2005 it began as a two-day event. It was so...</td>\n",
       "    </tr>\n",
       "    <tr>\n",
       "      <th>3</th>\n",
       "      <td>BBS: The Documentary</td>\n",
       "      <td>Production work began in July 2001, and comple...</td>\n",
       "    </tr>\n",
       "    <tr>\n",
       "      <th>4</th>\n",
       "      <td>Meadham Kirchhoff</td>\n",
       "      <td>Their final collection was Spring/Summer 2015,...</td>\n",
       "    </tr>\n",
       "    <tr>\n",
       "      <th>5</th>\n",
       "      <td>Fable II</td>\n",
       "      <td>According to NPD, the game attained the status...</td>\n",
       "    </tr>\n",
       "    <tr>\n",
       "      <th>6</th>\n",
       "      <td>Finding Neverland (film)</td>\n",
       "      <td>It had a limited release in the United States ...</td>\n",
       "    </tr>\n",
       "    <tr>\n",
       "      <th>7</th>\n",
       "      <td>Chevrolet Corvette (C7)</td>\n",
       "      <td>Production for the 2017 model year began on Ju...</td>\n",
       "    </tr>\n",
       "    <tr>\n",
       "      <th>8</th>\n",
       "      <td>Chinguetti oil field</td>\n",
       "      <td>It was later sold to PETRONAS group. Productio...</td>\n",
       "    </tr>\n",
       "    <tr>\n",
       "      <th>9</th>\n",
       "      <td>Kia Ceed</td>\n",
       "      <td>First shown in June 2015, a facelifted model o...</td>\n",
       "    </tr>\n",
       "  </tbody>\n",
       "</table>\n",
       "</div>"
      ],
      "text/plain": [
       "                              title  \\\n",
       "0                Hamilton (musical)   \n",
       "1  The Man in the White Suit (play)   \n",
       "2                  Perthshire Amber   \n",
       "3              BBS: The Documentary   \n",
       "4                 Meadham Kirchhoff   \n",
       "5                          Fable II   \n",
       "6          Finding Neverland (film)   \n",
       "7           Chevrolet Corvette (C7)   \n",
       "8              Chinguetti oil field   \n",
       "9                          Kia Ceed   \n",
       "\n",
       "                                                text  \n",
       "0  In March 2023 it was announced that the produc...  \n",
       "1  The production was due to run until 11 January...  \n",
       "2  In 2005 it began as a two-day event. It was so...  \n",
       "3  Production work began in July 2001, and comple...  \n",
       "4  Their final collection was Spring/Summer 2015,...  \n",
       "5  According to NPD, the game attained the status...  \n",
       "6  It had a limited release in the United States ...  \n",
       "7  Production for the 2017 model year began on Ju...  \n",
       "8  It was later sold to PETRONAS group. Productio...  \n",
       "9  First shown in June 2015, a facelifted model o...  "
      ]
     },
     "execution_count": 24,
     "metadata": {},
     "output_type": "execute_result"
    }
   ],
   "source": [
    "search(\"Its sales for the year ending 30 June 2005\")"
   ]
  },
  {
   "cell_type": "code",
   "execution_count": null,
   "id": "bb2c8ee1-cf89-48a6-8570-f896078451bc",
   "metadata": {},
   "outputs": [],
   "source": []
  }
 ],
 "metadata": {
  "kernelspec": {
   "display_name": "Python 3 (ipykernel)",
   "language": "python",
   "name": "python3"
  },
  "language_info": {
   "codemirror_mode": {
    "name": "ipython",
    "version": 3
   },
   "file_extension": ".py",
   "mimetype": "text/x-python",
   "name": "python",
   "nbconvert_exporter": "python",
   "pygments_lexer": "ipython3",
   "version": "3.11.5"
  }
 },
 "nbformat": 4,
 "nbformat_minor": 5
}
