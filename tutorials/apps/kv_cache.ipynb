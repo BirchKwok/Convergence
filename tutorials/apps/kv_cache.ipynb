{
 "cells": [
  {
   "cell_type": "code",
   "execution_count": 1,
   "id": "402b14c2-2b61-4fd4-a041-6728660b27d8",
   "metadata": {
    "ExecuteTime": {
     "end_time": "2024-06-03T06:39:02.132589Z",
     "start_time": "2024-06-03T06:39:01.004748Z"
    },
    "execution": {
     "iopub.execute_input": "2024-06-10T09:43:42.867355Z",
     "iopub.status.busy": "2024-06-10T09:43:42.866902Z",
     "iopub.status.idle": "2024-06-10T09:43:43.980639Z",
     "shell.execute_reply": "2024-06-10T09:43:43.980384Z",
     "shell.execute_reply.started": "2024-06-10T09:43:42.867336Z"
    }
   },
   "outputs": [],
   "source": [
    "from min_vec.field_models import VeloKV, IndexSchema, MatchField, MatchID, FieldCondition, Filter, MatchRange"
   ]
  },
  {
   "cell_type": "code",
   "execution_count": 2,
   "id": "962808fb-084c-4c69-84ab-31edd2bdaf60",
   "metadata": {
    "execution": {
     "iopub.execute_input": "2024-06-10T09:43:43.981646Z",
     "iopub.status.busy": "2024-06-10T09:43:43.981515Z",
     "iopub.status.idle": "2024-06-10T09:43:44.048245Z",
     "shell.execute_reply": "2024-06-10T09:43:44.047928Z",
     "shell.execute_reply.started": "2024-06-10T09:43:43.981638Z"
    }
   },
   "outputs": [],
   "source": [
    "kv = VeloKV(\"test_kv\", as_temp_file=False)"
   ]
  },
  {
   "cell_type": "code",
   "execution_count": 3,
   "id": "767e87fd-1bc0-4d18-9b52-d302df33d8db",
   "metadata": {
    "execution": {
     "iopub.execute_input": "2024-06-10T03:41:12.483351Z",
     "iopub.status.busy": "2024-06-10T03:41:12.482396Z",
     "iopub.status.idle": "2024-06-10T03:41:14.702450Z",
     "shell.execute_reply": "2024-06-10T03:41:14.701974Z",
     "shell.execute_reply.started": "2024-06-10T03:41:12.483307Z"
    }
   },
   "outputs": [
    {
     "name": "stderr",
     "output_type": "stream",
     "text": [
      "100%|██████████| 1000000/1000000 [00:02<00:00, 456971.13it/s]\n"
     ]
    }
   ],
   "source": [
    "from tqdm import tqdm\n",
    "for i in tqdm(range(1000000)):\n",
    "    kv.store(data={\"field\": f\"test_{i // 10000}\", \"order\": i + 1}, external_id=i)\n",
    "\n",
    "kv.commit()"
   ]
  },
  {
   "cell_type": "code",
   "execution_count": 4,
   "id": "aa762c8d-6609-4249-b2ba-6c84f5ea29f7",
   "metadata": {
    "execution": {
     "iopub.execute_input": "2024-06-10T03:41:15.506467Z",
     "iopub.status.busy": "2024-06-10T03:41:15.505814Z",
     "iopub.status.idle": "2024-06-10T03:41:15.527323Z",
     "shell.execute_reply": "2024-06-10T03:41:15.526768Z",
     "shell.execute_reply.started": "2024-06-10T03:41:15.506431Z"
    }
   },
   "outputs": [
    {
     "data": {
      "text/plain": [
       "{900061: {'field': 'test_90', 'order': 900062}}"
      ]
     },
     "execution_count": 4,
     "metadata": {},
     "output_type": "execute_result"
    }
   ],
   "source": [
    "kv.storage.retrieve_by_external_id(900061)"
   ]
  },
  {
   "cell_type": "code",
   "execution_count": 5,
   "id": "1603a0d5-94db-47f3-a9e9-090072c4390c",
   "metadata": {
    "execution": {
     "iopub.execute_input": "2024-06-10T03:41:17.459359Z",
     "iopub.status.busy": "2024-06-10T03:41:17.458780Z",
     "iopub.status.idle": "2024-06-10T03:41:17.481849Z",
     "shell.execute_reply": "2024-06-10T03:41:17.479990Z",
     "shell.execute_reply.started": "2024-06-10T03:41:17.459327Z"
    }
   },
   "outputs": [
    {
     "data": {
      "text/plain": [
       "[{'id': 1, 'field': 'test_0', 'order': 2},\n",
       " {'id': 1212, 'field': 'test_0', 'order': 1213},\n",
       " {'id': 12422, 'field': 'test_1', 'order': 12423},\n",
       " {'id': 204654, 'field': 'test_20', 'order': 204655}]"
      ]
     },
     "execution_count": 5,
     "metadata": {},
     "output_type": "execute_result"
    }
   ],
   "source": [
    "kv.retrieve_ids([1, 1212, 12422, 204654])"
   ]
  },
  {
   "cell_type": "code",
   "execution_count": 3,
   "id": "ffb684b4-4469-43ef-91ab-f5c655419ea2",
   "metadata": {
    "execution": {
     "iopub.execute_input": "2024-06-10T09:43:49.520608Z",
     "iopub.status.busy": "2024-06-10T09:43:49.519675Z",
     "iopub.status.idle": "2024-06-10T09:43:49.534920Z",
     "shell.execute_reply": "2024-06-10T09:43:49.533712Z",
     "shell.execute_reply.started": "2024-06-10T09:43:49.520560Z"
    }
   },
   "outputs": [],
   "source": [
    "import operator\n",
    "query_filter = Filter(\n",
    "        must=[\n",
    "            FieldCondition(key='field', matcher=MatchField('test_0')),  # Support for filtering fields\n",
    "            FieldCondition(key='order', matcher=MatchRange(7, 20, inclusive='left'))\n",
    "        ], \n",
    "        any=[\n",
    "            FieldCondition(key='order', matcher=MatchField(8, comparator=operator.ge)),\n",
    "            FieldCondition(matcher=MatchID([1, 2, 3, 4, 5, 6, 7, 8, 9])),  # Support for filtering IDs\n",
    "        ],\n",
    "        must_not=[\n",
    "            FieldCondition(matcher=MatchID([5])),\n",
    "            FieldCondition(key='order', matcher=MatchField(21, comparator=operator.ge)),\n",
    "        ]\n",
    ")"
   ]
  },
  {
   "cell_type": "code",
   "execution_count": 5,
   "id": "6be4d71c-a6d1-49f2-a654-2628cd3c88fa",
   "metadata": {
    "execution": {
     "iopub.execute_input": "2024-06-10T09:44:07.558822Z",
     "iopub.status.busy": "2024-06-10T09:44:07.557706Z",
     "iopub.status.idle": "2024-06-10T09:44:14.276294Z",
     "shell.execute_reply": "2024-06-10T09:44:14.276022Z",
     "shell.execute_reply.started": "2024-06-10T09:44:07.558773Z"
    }
   },
   "outputs": [
    {
     "name": "stdout",
     "output_type": "stream",
     "text": [
      " "
     ]
    },
    {
     "data": {
      "text/plain": [
       "         22040138 function calls in 6.713 seconds\n",
       "\n",
       "   Ordered by: internal time\n",
       "\n",
       "   ncalls  tottime  percall  cumtime  percall filename:lineno(function)\n",
       "  1000001    2.836    0.000    3.099    0.000 kv_storage.py:113(retrieve_all)\n",
       "  1000000    0.814    0.000    3.312    0.000 kv_query.py:148(_matches_filter)\n",
       "  2010014    0.734    0.000    1.627    0.000 filter.py:130(evaluate)\n",
       "  2000013    0.583    0.000    0.807    0.000 filter.py:64(match)\n",
       "  2000000    0.331    0.000    1.137    0.000 kv_query.py:153(<genexpr>)\n",
       "        1    0.302    0.302    6.712    6.712 kv_query.py:181(_normal_query)\n",
       "  2010000    0.293    0.000    1.114    0.000 kv_query.py:150(<genexpr>)\n",
       "  2000001    0.142    0.000    0.142    0.000 {method 'read' of '_io.BufferedReader' objects}\n",
       "  2000013    0.126    0.000    0.126    0.000 {built-in method builtins.isinstance}\n",
       "  1000000    0.126    0.000    1.189    0.000 {built-in method builtins.all}\n",
       "  1000013    0.122    0.000    1.209    0.000 {built-in method builtins.any}\n",
       "  2010013    0.084    0.000    0.084    0.000 {method 'get' of 'dict' objects}\n",
       "  1000000    0.071    0.000    0.071    0.000 {built-in method from_bytes}\n",
       "  1000000    0.050    0.000    0.050    0.000 {method 'items' of 'dict' objects}\n",
       "  1000000    0.049    0.000    0.049    0.000 {built-in method _operator.eq}\n",
       "  1000013    0.049    0.000    0.049    0.000 {built-in method _operator.ge}\n",
       "    10000    0.002    0.000    0.002    0.000 filter.py:24(match)\n",
       "        1    0.000    0.000    0.000    0.000 {built-in method io.open}\n",
       "        1    0.000    0.000    6.713    6.713 {built-in method builtins.exec}\n",
       "        1    0.000    0.000    0.000    0.000 {built-in method posix.stat}\n",
       "        1    0.000    0.000    6.712    6.712 kv_query.py:217(query)\n",
       "       27    0.000    0.000    0.000    0.000 kv_query.py:159(<genexpr>)\n",
       "        1    0.000    0.000    0.000    0.000 {method '__exit__' of '_io._IOBase' objects}\n",
       "        1    0.000    0.000    6.713    6.713 <string>:1(<module>)\n",
       "        1    0.000    0.000    6.712    6.712 __init__.py:32(query)\n",
       "        2    0.000    0.000    0.000    0.000 pathlib.py:546(__fspath__)\n",
       "        1    0.000    0.000    0.000    0.000 <frozen genericpath>:16(exists)\n",
       "        1    0.000    0.000    0.000    0.000 kv_storage.py:65(auto_commit)\n",
       "        1    0.000    0.000    0.000    0.000 {method 'update' of 'set' objects}\n",
       "        2    0.000    0.000    0.000    0.000 pathlib.py:536(__str__)\n",
       "       13    0.000    0.000    0.000    0.000 {method 'append' of 'list' objects}\n",
       "        1    0.000    0.000    0.000    0.000 filter.py:98(match)\n",
       "        1    0.000    0.000    0.000    0.000 {method 'disable' of '_lsprof.Profiler' objects}"
      ]
     },
     "metadata": {},
     "output_type": "display_data"
    }
   ],
   "source": [
    "%prun kv.query(query_filter, return_ids_only=False)"
   ]
  },
  {
   "cell_type": "code",
   "execution_count": null,
   "id": "6e305d89-c762-4eab-bfaa-464f10d953a9",
   "metadata": {},
   "outputs": [],
   "source": [
    "22040138 function calls in 20.440 seconds\n",
    "\n",
    "   Ordered by: internal time\n",
    "\n",
    "   ncalls  tottime  percall  cumtime  percall filename:lineno(function)\n",
    "  1000001   16.382    0.000   16.653    0.000 kv_storage.py:113(retrieve_all)\n",
    "  1000000    0.875    0.000    3.467    0.000 kv_query.py:148(_matches_filter)\n",
    "  2010014    0.740    0.000    1.666    0.000 filter.py:130(evaluate)\n",
    "  2000013    0.610    0.000    0.839    0.000 filter.py:64(match)\n",
    "  2000000    0.351    0.000    1.167    0.000 kv_query.py:153(<genexpr>)\n",
    "        1    0.320    0.320   20.440   20.440 kv_query.py:181(_normal_query)\n",
    "  2010000    0.318    0.000    1.168    0.000 kv_query.py:150(<genexpr>)\n",
    "  2000001    0.146    0.000    0.146    0.000 {method 'read' of '_io.BufferedReader' objects}\n",
    "  1000000    0.132    0.000    1.248    0.000 {built-in method builtins.all}\n",
    "  2000013    0.129    0.000    0.129    0.000 {built-in method builtins.isinstance}\n",
    "  1000013    0.125    0.000    1.245    0.000 {built-in method builtins.any}\n",
    "  2010013    0.085    0.000    0.085    0.000 {method 'get' of 'dict' objects}\n",
    "  1000000    0.067    0.000    0.067    0.000 {built-in method from_bytes}\n",
    "  1000000    0.059    0.000    0.059    0.000 {method 'items' of 'dict' objects}\n",
    "  1000000    0.051    0.000    0.051    0.000 {built-in method _operator.eq}\n",
    "  1000013    0.049    0.000    0.049    0.000 {built-in method _operator.ge}\n",
    "    10000    0.002    0.000    0.002    0.000 filter.py:24(match)\n",
    "        1    0.000    0.000    0.000    0.000 {built-in method io.open}\n",
    "        1    0.000    0.000   20.440   20.440 {built-in method builtins.exec}\n",
    "        1    0.000    0.000    0.000    0.000 {built-in method posix.stat}\n",
    "       27    0.000    0.000    0.000    0.000 kv_query.py:159(<genexpr>)\n",
    "        1    0.000    0.000    0.000    0.000 {method '__exit__' of '_io._IOBase' objects}\n",
    "        1    0.000    0.000   20.440   20.440 <string>:1(<module>)\n",
    "        1    0.000    0.000   20.440   20.440 kv_query.py:217(query)\n",
    "        2    0.000    0.000    0.000    0.000 pathlib.py:546(__fspath__)\n",
    "        1    0.000    0.000    0.000    0.000 <frozen genericpath>:16(exists)\n",
    "        1    0.000    0.000   20.440   20.440 __init__.py:32(query)\n",
    "       13    0.000    0.000    0.000    0.000 {method 'append' of 'list' objects}\n",
    "        1    0.000    0.000    0.000    0.000 {method 'update' of 'set' objects}\n",
    "        2    0.000    0.000    0.000    0.000 pathlib.py:536(__str__)\n",
    "        1    0.000    0.000    0.000    0.000 kv_storage.py:65(auto_commit)\n",
    "        1    0.000    0.000    0.000    0.000 filter.py:98(match)\n",
    "        1    0.000    0.000    0.000    0.000 {method 'disable' of '_lsprof.Profiler' objects}o'/哦、\n",
    "        ij"
   ]
  },
  {
   "cell_type": "code",
   "execution_count": 9,
   "id": "791718e6-6c3a-4642-bc22-d6ac46837b86",
   "metadata": {
    "execution": {
     "iopub.execute_input": "2024-06-10T03:41:50.723538Z",
     "iopub.status.busy": "2024-06-10T03:41:50.722921Z",
     "iopub.status.idle": "2024-06-10T03:42:07.926581Z",
     "shell.execute_reply": "2024-06-10T03:42:07.926212Z",
     "shell.execute_reply.started": "2024-06-10T03:41:50.723507Z"
    }
   },
   "outputs": [],
   "source": [
    "schema = IndexSchema({\n",
    "    \"order\": int\n",
    "})\n",
    "\n",
    "kv.build_index(schema, rebuild_if_exists=True)"
   ]
  },
  {
   "cell_type": "code",
   "execution_count": 10,
   "id": "f2097d27-8ef5-4c3d-8bbf-242264501a33",
   "metadata": {
    "execution": {
     "iopub.execute_input": "2024-06-10T03:42:07.927481Z",
     "iopub.status.busy": "2024-06-10T03:42:07.927382Z",
     "iopub.status.idle": "2024-06-10T03:42:08.314197Z",
     "shell.execute_reply": "2024-06-10T03:42:08.313901Z",
     "shell.execute_reply.started": "2024-06-10T03:42:07.927471Z"
    }
   },
   "outputs": [
    {
     "data": {
      "text/plain": [
       "[(6, {'id': 6, 'field': 'test_0', 'order': 7}),\n",
       " (7, {'id': 7, 'field': 'test_0', 'order': 8}),\n",
       " (8, {'id': 8, 'field': 'test_0', 'order': 9}),\n",
       " (9, {'id': 9, 'field': 'test_0', 'order': 10}),\n",
       " (10, {'id': 10, 'field': 'test_0', 'order': 11}),\n",
       " (11, {'id': 11, 'field': 'test_0', 'order': 12}),\n",
       " (12, {'id': 12, 'field': 'test_0', 'order': 13}),\n",
       " (13, {'id': 13, 'field': 'test_0', 'order': 14}),\n",
       " (14, {'id': 14, 'field': 'test_0', 'order': 15}),\n",
       " (15, {'id': 15, 'field': 'test_0', 'order': 16}),\n",
       " (16, {'id': 16, 'field': 'test_0', 'order': 17}),\n",
       " (17, {'id': 17, 'field': 'test_0', 'order': 18}),\n",
       " (18, {'id': 18, 'field': 'test_0', 'order': 19})]"
      ]
     },
     "execution_count": 10,
     "metadata": {},
     "output_type": "execute_result"
    }
   ],
   "source": [
    "kv.query(query_filter, return_ids_only=False)"
   ]
  },
  {
   "cell_type": "code",
   "execution_count": 11,
   "id": "729e4aee-8cff-47bb-90f4-5f3ed1aedb68",
   "metadata": {
    "execution": {
     "iopub.execute_input": "2024-06-10T03:42:08.314653Z",
     "iopub.status.busy": "2024-06-10T03:42:08.314569Z",
     "iopub.status.idle": "2024-06-10T03:42:22.229633Z",
     "shell.execute_reply": "2024-06-10T03:42:22.229311Z",
     "shell.execute_reply.started": "2024-06-10T03:42:08.314645Z"
    }
   },
   "outputs": [],
   "source": [
    "schema = IndexSchema({\n",
    "    \"field\": str,\n",
    "    \"order\": int\n",
    "})\n",
    "\n",
    "kv.build_index(schema, rebuild_if_exists=True)"
   ]
  },
  {
   "cell_type": "code",
   "execution_count": 12,
   "id": "a5fea06f-d23a-461c-8570-eff4ed0a6278",
   "metadata": {
    "execution": {
     "iopub.execute_input": "2024-06-10T03:42:22.230622Z",
     "iopub.status.busy": "2024-06-10T03:42:22.230537Z",
     "iopub.status.idle": "2024-06-10T03:42:22.551710Z",
     "shell.execute_reply": "2024-06-10T03:42:22.551435Z",
     "shell.execute_reply.started": "2024-06-10T03:42:22.230614Z"
    }
   },
   "outputs": [
    {
     "data": {
      "text/plain": [
       "[(6, {'id': 6, 'field': 'test_0', 'order': 7}),\n",
       " (7, {'id': 7, 'field': 'test_0', 'order': 8}),\n",
       " (8, {'id': 8, 'field': 'test_0', 'order': 9}),\n",
       " (9, {'id': 9, 'field': 'test_0', 'order': 10}),\n",
       " (10, {'id': 10, 'field': 'test_0', 'order': 11}),\n",
       " (11, {'id': 11, 'field': 'test_0', 'order': 12}),\n",
       " (12, {'id': 12, 'field': 'test_0', 'order': 13}),\n",
       " (13, {'id': 13, 'field': 'test_0', 'order': 14}),\n",
       " (14, {'id': 14, 'field': 'test_0', 'order': 15}),\n",
       " (15, {'id': 15, 'field': 'test_0', 'order': 16}),\n",
       " (16, {'id': 16, 'field': 'test_0', 'order': 17}),\n",
       " (17, {'id': 17, 'field': 'test_0', 'order': 18}),\n",
       " (18, {'id': 18, 'field': 'test_0', 'order': 19})]"
      ]
     },
     "execution_count": 12,
     "metadata": {},
     "output_type": "execute_result"
    }
   ],
   "source": [
    "kv.query(query_filter, return_ids_only=False)"
   ]
  },
  {
   "cell_type": "code",
   "execution_count": 13,
   "id": "b4e07be4-8dee-4d2c-a6e7-a1e86d271e54",
   "metadata": {
    "execution": {
     "iopub.execute_input": "2024-06-10T03:42:26.706004Z",
     "iopub.status.busy": "2024-06-10T03:42:26.705082Z",
     "iopub.status.idle": "2024-06-10T03:42:29.255129Z",
     "shell.execute_reply": "2024-06-10T03:42:29.254870Z",
     "shell.execute_reply.started": "2024-06-10T03:42:26.705975Z"
    }
   },
   "outputs": [],
   "source": [
    "kv.remove_index(\"field\")"
   ]
  },
  {
   "cell_type": "code",
   "execution_count": 14,
   "id": "cca39206-56f0-4378-9dbc-e6d4a4b2bf5c",
   "metadata": {
    "execution": {
     "iopub.execute_input": "2024-06-10T03:42:30.065935Z",
     "iopub.status.busy": "2024-06-10T03:42:30.065371Z",
     "iopub.status.idle": "2024-06-10T03:42:30.423323Z",
     "shell.execute_reply": "2024-06-10T03:42:30.423098Z",
     "shell.execute_reply.started": "2024-06-10T03:42:30.065903Z"
    }
   },
   "outputs": [
    {
     "data": {
      "text/plain": [
       "[(6, {'id': 6, 'field': 'test_0', 'order': 7}),\n",
       " (7, {'id': 7, 'field': 'test_0', 'order': 8}),\n",
       " (8, {'id': 8, 'field': 'test_0', 'order': 9}),\n",
       " (9, {'id': 9, 'field': 'test_0', 'order': 10}),\n",
       " (10, {'id': 10, 'field': 'test_0', 'order': 11}),\n",
       " (11, {'id': 11, 'field': 'test_0', 'order': 12}),\n",
       " (12, {'id': 12, 'field': 'test_0', 'order': 13}),\n",
       " (13, {'id': 13, 'field': 'test_0', 'order': 14}),\n",
       " (14, {'id': 14, 'field': 'test_0', 'order': 15}),\n",
       " (15, {'id': 15, 'field': 'test_0', 'order': 16}),\n",
       " (16, {'id': 16, 'field': 'test_0', 'order': 17}),\n",
       " (17, {'id': 17, 'field': 'test_0', 'order': 18}),\n",
       " (18, {'id': 18, 'field': 'test_0', 'order': 19})]"
      ]
     },
     "execution_count": 14,
     "metadata": {},
     "output_type": "execute_result"
    }
   ],
   "source": [
    "kv.query(query_filter, return_ids_only=False)"
   ]
  },
  {
   "cell_type": "code",
   "execution_count": 15,
   "id": "2929cc92-01e7-486d-8c05-9b66c33f6037",
   "metadata": {
    "execution": {
     "iopub.execute_input": "2024-06-10T03:42:33.287846Z",
     "iopub.status.busy": "2024-06-10T03:42:33.287546Z",
     "iopub.status.idle": "2024-06-10T03:42:33.349316Z",
     "shell.execute_reply": "2024-06-10T03:42:33.348669Z",
     "shell.execute_reply.started": "2024-06-10T03:42:33.287826Z"
    }
   },
   "outputs": [],
   "source": [
    "kv.remove_index(\"order\")"
   ]
  },
  {
   "cell_type": "code",
   "execution_count": 19,
   "id": "c8d85b4e-ed09-4427-a8f9-4dc07bcfcbc3",
   "metadata": {
    "execution": {
     "iopub.execute_input": "2024-06-10T03:43:38.025964Z",
     "iopub.status.busy": "2024-06-10T03:43:38.025550Z",
     "iopub.status.idle": "2024-06-10T03:43:58.469508Z",
     "shell.execute_reply": "2024-06-10T03:43:58.469240Z",
     "shell.execute_reply.started": "2024-06-10T03:43:38.025941Z"
    }
   },
   "outputs": [
    {
     "name": "stdout",
     "output_type": "stream",
     "text": [
      " "
     ]
    },
    {
     "data": {
      "text/plain": [
       "         22040138 function calls in 20.440 seconds\n",
       "\n",
       "   Ordered by: internal time\n",
       "\n",
       "   ncalls  tottime  percall  cumtime  percall filename:lineno(function)\n",
       "  1000001   16.382    0.000   16.653    0.000 kv_storage.py:113(retrieve_all)\n",
       "  1000000    0.875    0.000    3.467    0.000 kv_query.py:148(_matches_filter)\n",
       "  2010014    0.740    0.000    1.666    0.000 filter.py:130(evaluate)\n",
       "  2000013    0.610    0.000    0.839    0.000 filter.py:64(match)\n",
       "  2000000    0.351    0.000    1.167    0.000 kv_query.py:153(<genexpr>)\n",
       "        1    0.320    0.320   20.440   20.440 kv_query.py:181(_normal_query)\n",
       "  2010000    0.318    0.000    1.168    0.000 kv_query.py:150(<genexpr>)\n",
       "  2000001    0.146    0.000    0.146    0.000 {method 'read' of '_io.BufferedReader' objects}\n",
       "  1000000    0.132    0.000    1.248    0.000 {built-in method builtins.all}\n",
       "  2000013    0.129    0.000    0.129    0.000 {built-in method builtins.isinstance}\n",
       "  1000013    0.125    0.000    1.245    0.000 {built-in method builtins.any}\n",
       "  2010013    0.085    0.000    0.085    0.000 {method 'get' of 'dict' objects}\n",
       "  1000000    0.067    0.000    0.067    0.000 {built-in method from_bytes}\n",
       "  1000000    0.059    0.000    0.059    0.000 {method 'items' of 'dict' objects}\n",
       "  1000000    0.051    0.000    0.051    0.000 {built-in method _operator.eq}\n",
       "  1000013    0.049    0.000    0.049    0.000 {built-in method _operator.ge}\n",
       "    10000    0.002    0.000    0.002    0.000 filter.py:24(match)\n",
       "        1    0.000    0.000    0.000    0.000 {built-in method io.open}\n",
       "        1    0.000    0.000   20.440   20.440 {built-in method builtins.exec}\n",
       "        1    0.000    0.000    0.000    0.000 {built-in method posix.stat}\n",
       "       27    0.000    0.000    0.000    0.000 kv_query.py:159(<genexpr>)\n",
       "        1    0.000    0.000    0.000    0.000 {method '__exit__' of '_io._IOBase' objects}\n",
       "        1    0.000    0.000   20.440   20.440 <string>:1(<module>)\n",
       "        1    0.000    0.000   20.440   20.440 kv_query.py:217(query)\n",
       "        2    0.000    0.000    0.000    0.000 pathlib.py:546(__fspath__)\n",
       "        1    0.000    0.000    0.000    0.000 <frozen genericpath>:16(exists)\n",
       "        1    0.000    0.000   20.440   20.440 __init__.py:32(query)\n",
       "       13    0.000    0.000    0.000    0.000 {method 'append' of 'list' objects}\n",
       "        1    0.000    0.000    0.000    0.000 {method 'update' of 'set' objects}\n",
       "        2    0.000    0.000    0.000    0.000 pathlib.py:536(__str__)\n",
       "        1    0.000    0.000    0.000    0.000 kv_storage.py:65(auto_commit)\n",
       "        1    0.000    0.000    0.000    0.000 filter.py:98(match)\n",
       "        1    0.000    0.000    0.000    0.000 {method 'disable' of '_lsprof.Profiler' objects}"
      ]
     },
     "metadata": {},
     "output_type": "display_data"
    }
   ],
   "source": [
    "%prun kv.query(query_filter, return_ids_only=False)"
   ]
  },
  {
   "cell_type": "code",
   "execution_count": null,
   "id": "653a56cd-ccc9-4adf-ae12-8ebccc972016",
   "metadata": {},
   "outputs": [],
   "source": [
    "kv"
   ]
  },
  {
   "cell_type": "code",
   "execution_count": 16,
   "id": "ad3bb2a2-a19f-47f4-aaab-396246b28237",
   "metadata": {
    "execution": {
     "iopub.execute_input": "2024-06-05T10:10:40.574329Z",
     "iopub.status.busy": "2024-06-05T10:10:40.573865Z",
     "iopub.status.idle": "2024-06-05T10:10:40.605809Z",
     "shell.execute_reply": "2024-06-05T10:10:40.605336Z",
     "shell.execute_reply.started": "2024-06-05T10:10:40.574291Z"
    }
   },
   "outputs": [],
   "source": [
    "kv.delete()"
   ]
  },
  {
   "cell_type": "code",
   "execution_count": null,
   "id": "5c813414-520a-4cb7-9244-a0d45f73dc9f",
   "metadata": {},
   "outputs": [],
   "source": []
  },
  {
   "cell_type": "code",
   "execution_count": null,
   "id": "8cc806bd-f1c8-4d2c-97f9-3b56cc704db4",
   "metadata": {},
   "outputs": [],
   "source": []
  },
  {
   "cell_type": "code",
   "execution_count": null,
   "id": "a146f678-186f-48c0-8f4c-b077290ff4b2",
   "metadata": {},
   "outputs": [],
   "source": []
  },
  {
   "cell_type": "code",
   "execution_count": null,
   "id": "e2eb420e-3c8e-4fd1-8a03-19825c1b35a9",
   "metadata": {},
   "outputs": [],
   "source": []
  }
 ],
 "metadata": {
  "kernelspec": {
   "display_name": "Python 3 (ipykernel)",
   "language": "python",
   "name": "python3"
  },
  "language_info": {
   "codemirror_mode": {
    "name": "ipython",
    "version": 3
   },
   "file_extension": ".py",
   "mimetype": "text/x-python",
   "name": "python",
   "nbconvert_exporter": "python",
   "pygments_lexer": "ipython3",
   "version": "3.11.5"
  }
 },
 "nbformat": 4,
 "nbformat_minor": 5
}
